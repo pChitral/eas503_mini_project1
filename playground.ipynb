{
 "cells": [
  {
   "cell_type": "code",
   "execution_count": 21,
   "metadata": {},
   "outputs": [],
   "source": [
    "def tell_which_type(string):\n",
    "    data_type = None \n",
    "    try:\n",
    "        int(string)\n",
    "        data_type = int\n",
    "        return data_type\n",
    "            \n",
    "    except:\n",
    "        try: \n",
    "            float(string)\n",
    "            data_type = float\n",
    "            return data_type\n",
    "        except:\n",
    "            return str\n",
    "\n",
    "        \n",
    "    \n",
    "    "
   ]
  },
  {
   "cell_type": "code",
   "execution_count": 25,
   "metadata": {},
   "outputs": [
    {
     "data": {
      "text/plain": [
       "float"
      ]
     },
     "execution_count": 25,
     "metadata": {},
     "output_type": "execute_result"
    }
   ],
   "source": [
    "a = tell_which_type(\"2.0\")\n",
    "a"
   ]
  },
  {
   "cell_type": "code",
   "execution_count": 36,
   "metadata": {},
   "outputs": [],
   "source": [
    "def determine_data_type(value):\n",
    "    \"\"\"\n",
    "    The function takes a string input and determines its data type to be either a float, int, or string. \n",
    "    \"\"\"\n",
    "    # BEGIN SOLUTION\n",
    "    data_type = None\n",
    "    try:\n",
    "        int(value)\n",
    "        data_type = int\n",
    "        return data_type\n",
    "\n",
    "    except:\n",
    "        try:\n",
    "            float(value)\n",
    "            data_type = float\n",
    "            return data_type\n",
    "        except:\n",
    "            return str\n",
    "    # END SOLUTION\n",
    "\n",
    "\n",
    "def determine_data_type_of_list(values):\n",
    "    \"\"\"\n",
    "    Write a function whose input is a list of strings. \n",
    "    This function determines the correct data type of all the elements in the list. \n",
    "    For example, ['1', '2', '3'] is int, ['1.1', '2.2', '3.3'] is float, ['1.1', '2', '3.3'] \n",
    "    is also float, and ['1.1', '234String', '3.3'] is str. \n",
    "    The purpose of this function to figure out what to cast an array of strings to. \n",
    "    Some lists might be all ints, in which case the data type is int. \n",
    "    Some might be a mixture of ints and floats, in which case the data type will be a float. \n",
    "    Some lists might be a mixture of ints, floats, and strings, \n",
    "    in which case the data type of the list will be a string.\n",
    "    NOTE: This function should use \"determine_data_type\" function you coded previously\n",
    "    \n",
    "\n",
    "    \"\"\"\n",
    "    # BEGIN SOLUTION\n",
    "    list_data_type = []\n",
    "    for value in values:\n",
    "        if determine_data_type(value) == (str):\n",
    "            return str\n",
    "        if determine_data_type(value) not in list_data_type:\n",
    "            list_data_type.append(determine_data_type(value))\n",
    "    if float in list_data_type:\n",
    "        return float\n",
    "    if int in list_data_type:\n",
    "        return int\n",
    "\n",
    "    # END SOLUTION"
   ]
  },
  {
   "cell_type": "code",
   "execution_count": 37,
   "metadata": {},
   "outputs": [
    {
     "data": {
      "text/plain": [
       "str"
      ]
     },
     "execution_count": 37,
     "metadata": {},
     "output_type": "execute_result"
    }
   ],
   "source": [
    "determine_data_type_of_list([\"1.0\", \"1\", \"asdf2.0\"])"
   ]
  },
  {
   "cell_type": "code",
   "execution_count": 40,
   "metadata": {},
   "outputs": [],
   "source": [
    "sample_field = {'XG102': '1/1:0,76:76:99:1|1:48306945_C_G:3353,229,0',\n",
    "                'XG103': '1/1:0,52:52:99:.:.:1517,156,0',\n",
    "                'XG104': '0/1:34,38:72:99:.:.:938,0,796',\n",
    "                'XG202': '1/1:0,76:76:99:1|1:48306945_C_G:3353,229,0',\n",
    "                'XG203': '1/1:0,52:52:99:.:.:1517,156,0',\n",
    "                'XG204': '0/1:34,38:72:99:.:.:938,0,796',\n",
    "                'XG302': '1/1:0,76:76:99:1|1:48306945_C_G:3353,229,0',\n",
    "                'XG303': '1/1:0,52:52:99:.:.:1517,156,0',\n",
    "                'XG304': '0/1:34,38:72:99:.:.:938,0,796',\n",
    "                'XG402': '1/1:0,76:76:99:1|1:48306945_C_G:3353,229,0',\n",
    "                'XG403': '1/1:0,52:52:99:.:.:1517,156,0',\n",
    "                'XG404': '0/1:34,38:72:99:.:.:938,0,796'}\n",
    "format_field = 'GT:AD:DP:GQ:PGT:PID:PL'"
   ]
  },
  {
   "cell_type": "code",
   "execution_count": 46,
   "metadata": {},
   "outputs": [
    {
     "name": "stdout",
     "output_type": "stream",
     "text": [
      "7\n",
      "7\n"
     ]
    }
   ],
   "source": [
    "print(len(sample_field[\"XG102\"].split(\":\")))\n",
    "\n",
    "print(len(format_field.split(\":\")))\n"
   ]
  },
  {
   "cell_type": "code",
   "execution_count": 48,
   "metadata": {},
   "outputs": [],
   "source": [
    "output = {}\n",
    "\n",
    "dict_keys = sample_field.keys() \n",
    "inner_keys = format_field.split(\":\")\n",
    "\n",
    "for key in dict_keys:\n",
    "    key_key_value = sample_field[key].split(\":\")\n",
    "    temp_dict = {}\n",
    "    for i in range(len(key_key_value)):\n",
    "        temp_dict[inner_keys[i]] = key_key_value[i]\n",
    "    output[key] = temp_dict\n",
    "\n",
    "        \n",
    "\n",
    "\n",
    "\n"
   ]
  },
  {
   "cell_type": "code",
   "execution_count": 50,
   "metadata": {},
   "outputs": [
    {
     "data": {
      "text/plain": [
       "dict_keys(['XG102', 'XG103', 'XG104', 'XG202', 'XG203', 'XG204', 'XG302', 'XG303', 'XG304', 'XG402', 'XG403', 'XG404'])"
      ]
     },
     "execution_count": 50,
     "metadata": {},
     "output_type": "execute_result"
    }
   ],
   "source": [
    "\n",
    "dict_keys"
   ]
  },
  {
   "cell_type": "code",
   "execution_count": 49,
   "metadata": {},
   "outputs": [
    {
     "data": {
      "text/plain": [
       "['GT', 'AD', 'DP', 'GQ', 'PGT', 'PID', 'PL']"
      ]
     },
     "execution_count": 49,
     "metadata": {},
     "output_type": "execute_result"
    }
   ],
   "source": []
  },
  {
   "cell_type": "code",
   "execution_count": 53,
   "metadata": {},
   "outputs": [
    {
     "data": {
      "text/plain": [
       "9"
      ]
     },
     "execution_count": 53,
     "metadata": {},
     "output_type": "execute_result"
    }
   ],
   "source": [
    "expected_solution = {'CHROM': '4',\n",
    "                     'POS': '123416186',\n",
    "                     'ID': '.',\n",
    "                     'REF': 'A',\n",
    "                     'ALT': 'G',\n",
    "                     'QUAL': '23.25',\n",
    "                     'FILTER': 'PASS',\n",
    "                     'INFO': 'AC=1;AF=0.167;AN=6;BaseQRankSum=-2.542;ClippingRankSum=0;DP=180;ExcessHet=3.0103;FS=0;MLEAC=1;MLEAF=0.167;MQ=52.77;MQRankSum=-4.631;QD=0.39;ReadPosRankSum=1.45;SOR=0.758;VQSLOD=-8.209;culprit=MQ;ANNOVAR_DATE=2018-04-16;Func.refGene=intergenic;Gene.refGene=IL2,IL21;GeneDetail.refGene=dist=38536,dist=117597;ExonicFunc.refGene=.;AAChange.refGene=.;Func.ensGene=intergenic;Gene.ensGene=ENSG00000109471,ENSG00000138684;GeneDetail.ensGene=dist=38306,dist=117597;ExonicFunc.ensGene=.;AAChange.ensGene=.;cytoBand=4q27;gwasCatalog=.;tfbsConsSites=.;wgRna=.;targetScanS=.;Gene_symbol=.;OXPHOS_Complex=.;Ensembl_Gene_ID=.;Ensembl_Protein_ID=.;Uniprot_Name=.;Uniprot_ID=.;NCBI_Gene_ID=.;NCBI_Protein_ID=.;Gene_pos=.;AA_pos=.;AA_sub=.;Codon_sub=.;dbSNP_ID=.;PhyloP_46V=.;PhastCons_46V=.;PhyloP_100V=.;PhastCons_100V=.;SiteVar=.;PolyPhen2_prediction=.;PolyPhen2_score=.;SIFT_prediction=.;SIFT_score=.;FatHmm_prediction=.;FatHmm_score=.;PROVEAN_prediction=.;PROVEAN_score=.;MutAss_prediction=.;MutAss_score=.;EFIN_Swiss_Prot_Score=.;EFIN_Swiss_Prot_Prediction=.;EFIN_HumDiv_Score=.;EFIN_HumDiv_Prediction=.;CADD_score=.;CADD_Phred_score=.;CADD_prediction=.;Carol_prediction=.;Carol_score=.;Condel_score=.;Condel_pred=.;COVEC_WMV=.;COVEC_WMV_prediction=.;PolyPhen2_score_transf=.;PolyPhen2_pred_transf=.;SIFT_score_transf=.;SIFT_pred_transf=.;MutAss_score_transf=.;MutAss_pred_transf=.;Perc_coevo_Sites=.;Mean_MI_score=.;COSMIC_ID=.;Tumor_site=.;Examined_samples=.;Mutation_frequency=.;US=.;Status=.;Associated_disease=.;Presence_in_TD=.;Class_predicted=.;Prob_N=.;Prob_P=.;SIFT_score=.;SIFT_converted_rankscore=.;SIFT_pred=.;Polyphen2_HDIV_score=.;Polyphen2_HDIV_rankscore=.;Polyphen2_HDIV_pred=.;Polyphen2_HVAR_score=.;Polyphen2_HVAR_rankscore=.;Polyphen2_HVAR_pred=.;LRT_score=.;LRT_converted_rankscore=.;LRT_pred=.;MutationTaster_score=.;MutationTaster_converted_rankscore=.;MutationTaster_pred=.;MutationAssessor_score=.;MutationAssessor_score_rankscore=.;MutationAssessor_pred=.;FATHMM_score=.;FATHMM_converted_rankscore=.;FATHMM_pred=.;PROVEAN_score=.;PROVEAN_converted_rankscore=.;PROVEAN_pred=.;VEST3_score=.;VEST3_rankscore=.;MetaSVM_score=.;MetaSVM_rankscore=.;MetaSVM_pred=.;MetaLR_score=.;MetaLR_rankscore=.;MetaLR_pred=.;M-CAP_score=.;M-CAP_rankscore=.;M-CAP_pred=.;CADD_raw=.;CADD_raw_rankscore=.;CADD_phred=.;DANN_score=.;DANN_rankscore=.;fathmm-MKL_coding_score=.;fathmm-MKL_coding_rankscore=.;fathmm-MKL_coding_pred=.;Eigen_coding_or_noncoding=.;Eigen-raw=.;Eigen-PC-raw=.;GenoCanyon_score=.;GenoCanyon_score_rankscore=.;integrated_fitCons_score=.;integrated_fitCons_score_rankscore=.;integrated_confidence_value=.;GERP++_RS=.;GERP++_RS_rankscore=.;phyloP100way_vertebrate=.;phyloP100way_vertebrate_rankscore=.;phyloP20way_mammalian=.;phyloP20way_mammalian_rankscore=.;phastCons100way_vertebrate=.;phastCons100way_vertebrate_rankscore=.;phastCons20way_mammalian=.;phastCons20way_mammalian_rankscore=.;SiPhy_29way_logOdds=.;SiPhy_29way_logOdds_rankscore=.;Interpro_domain=.;GTEx_V6_gene=.;GTEx_V6_tissue=.;esp6500siv2_all=.;esp6500siv2_aa=.;esp6500siv2_ea=.;ExAC_ALL=.;ExAC_AFR=.;ExAC_AMR=.;ExAC_EAS=.;ExAC_FIN=.;ExAC_NFE=.;ExAC_OTH=.;ExAC_SAS=.;ExAC_nontcga_ALL=.;ExAC_nontcga_AFR=.;ExAC_nontcga_AMR=.;ExAC_nontcga_EAS=.;ExAC_nontcga_FIN=.;ExAC_nontcga_NFE=.;ExAC_nontcga_OTH=.;ExAC_nontcga_SAS=.;ExAC_nonpsych_ALL=.;ExAC_nonpsych_AFR=.;ExAC_nonpsych_AMR=.;ExAC_nonpsych_EAS=.;ExAC_nonpsych_FIN=.;ExAC_nonpsych_NFE=.;ExAC_nonpsych_OTH=.;ExAC_nonpsych_SAS=.;1000g2015aug_all=.;1000g2015aug_afr=.;1000g2015aug_amr=.;1000g2015aug_eur=.;1000g2015aug_sas=.;CLNALLELEID=.;CLNDN=.;CLNDISDB=.;CLNREVSTAT=.;CLNSIG=.;dbscSNV_ADA_SCORE=.;dbscSNV_RF_SCORE=.;snp138NonFlagged=.;avsnp150=.;CADD13_RawScore=0.015973;CADD13_PHRED=2.741;Eigen=-0.3239;REVEL=.;MCAP=.;Interpro_domain=.;ICGC_Id=.;ICGC_Occurrence=.;gnomAD_genome_ALL=0.0003;gnomAD_genome_AFR=0.0001;gnomAD_genome_AMR=0;gnomAD_genome_ASJ=0;gnomAD_genome_EAS=0.0007;gnomAD_genome_FIN=0.0009;gnomAD_genome_NFE=0.0002;gnomAD_genome_OTH=0.0011;gerp++gt2=.;cosmic70=.;InterVar_automated=.;PVS1=.;PS1=.;PS2=.;PS3=.;PS4=.;PM1=.;PM2=.;PM3=.;PM4=.;PM5=.;PM6=.;PP1=.;PP2=.;PP3=.;PP4=.;PP5=.;BA1=.;BS1=.;BS2=.;BS3=.;BS4=.;BP1=.;BP2=.;BP3=.;BP4=.;BP5=.;BP6=.;BP7=.;Kaviar_AF=.;Kaviar_AC=.;Kaviar_AN=.;ALLELE_END',\n",
    "                     'SAMPLE': {\n",
    "                         'XG102': {'GT': '0/1', 'AD': '51,8', 'DP': '59', 'GQ': '32', 'PL': '32,0,1388'},\n",
    "                         'XG103': {'GT': '0/0', 'AD': '47,0', 'DP': '47', 'GQ': '99', 'PL': '0,114,1353'},\n",
    "                         'XG104': {'GT': '0/0', 'AD': '74,0', 'DP': '74', 'GQ': '51', 'PL': '0,51,1827'},\n",
    "                         'XG202': {'GT': '0/1', 'AD': '51,8', 'DP': '59', 'GQ': '32', 'PL': '32,0,1388'},\n",
    "                         'XG203': {'GT': '0/0', 'AD': '47,0', 'DP': '47', 'GQ': '99', 'PL': '0,114,1353'},\n",
    "                         'XG204': {'GT': '0/0', 'AD': '74,0', 'DP': '74', 'GQ': '51', 'PL': '0,51,1827'},\n",
    "                         'XG302': {'GT': '0/1', 'AD': '51,8', 'DP': '59', 'GQ': '32', 'PL': '32,0,1388'},\n",
    "                         'XG303': {'GT': '0/0', 'AD': '47,0', 'DP': '47', 'GQ': '99', 'PL': '0,114,1353'},\n",
    "                         'XG304': {'GT': '0/0', 'AD': '74,0', 'DP': '74', 'GQ': '51', 'PL': '0,51,1827'},\n",
    "                         'XG402': {'GT': '0/1', 'AD': '51,8', 'DP': '59', 'GQ': '32', 'PL': '32,0,1388'},\n",
    "                         'XG403': {'GT': '0/0', 'AD': '47,0', 'DP': '47', 'GQ': '99', 'PL': '0,114,1353'},\n",
    "                         'XG404': {'GT': '0/0', 'AD': '74,0', 'DP': '74', 'GQ': '51', 'PL': '0,51,1827'}\n",
    "                     }\n",
    "                     }\n",
    "len(expected_solution)"
   ]
  },
  {
   "cell_type": "code",
   "execution_count": 54,
   "metadata": {},
   "outputs": [
    {
     "data": {
      "text/plain": [
       "False"
      ]
     },
     "execution_count": 54,
     "metadata": {},
     "output_type": "execute_result"
    }
   ],
   "source": [
    "my_sol = {'CHROM': '4',\n",
    "          'POS': '123416186',\n",
    "          'ID': '.',\n",
    "          'REF': 'A',\n",
    "          'ALT': 'G',\n",
    "          'QUAL': '23.25',\n",
    "          'FILTER': 'PASS',\n",
    "          'INFO': 'AC=1;AF=0.167;AN=6;BaseQRankSum=-2.542;ClippingRankSum=0;DP=180;ExcessHet=3.0103;FS=0;MLEAC=1;MLEAF=0.167;MQ=52.77;MQRankSum=-4.631;QD=0.39;ReadPosRankSum=1.45;SOR=0.758;VQSLOD=-8.209;culprit=MQ;ANNOVAR_DATE=2018-04-16;Func.refGene=intergenic;Gene.refGene=IL2,IL21;GeneDetail.refGene=dist=38536,dist=117597;ExonicFunc.refGene=.;AAChange.refGene=.;Func.ensGene=intergenic;Gene.ensGene=ENSG00000109471,ENSG00000138684;GeneDetail.ensGene=dist=38306,dist=117597;ExonicFunc.ensGene=.;AAChange.ensGene=.;cytoBand=4q27;gwasCatalog=.;tfbsConsSites=.;wgRna=.;targetScanS=.;Gene_symbol=.;OXPHOS_Complex=.;Ensembl_Gene_ID=.;Ensembl_Protein_ID=.;Uniprot_Name=.;Uniprot_ID=.;NCBI_Gene_ID=.;NCBI_Protein_ID=.;Gene_pos=.;AA_pos=.;AA_sub=.;Codon_sub=.;dbSNP_ID=.;PhyloP_46V=.;PhastCons_46V=.;PhyloP_100V=.;PhastCons_100V=.;SiteVar=.;PolyPhen2_prediction=.;PolyPhen2_score=.;SIFT_prediction=.;SIFT_score=.;FatHmm_prediction=.;FatHmm_score=.;PROVEAN_prediction=.;PROVEAN_score=.;MutAss_prediction=.;MutAss_score=.;EFIN_Swiss_Prot_Score=.;EFIN_Swiss_Prot_Prediction=.;EFIN_HumDiv_Score=.;EFIN_HumDiv_Prediction=.;CADD_score=.;CADD_Phred_score=.;CADD_prediction=.;Carol_prediction=.;Carol_score=.;Condel_score=.;Condel_pred=.;COVEC_WMV=.;COVEC_WMV_prediction=.;PolyPhen2_score_transf=.;PolyPhen2_pred_transf=.;SIFT_score_transf=.;SIFT_pred_transf=.;MutAss_score_transf=.;MutAss_pred_transf=.;Perc_coevo_Sites=.;Mean_MI_score=.;COSMIC_ID=.;Tumor_site=.;Examined_samples=.;Mutation_frequency=.;US=.;Status=.;Associated_disease=.;Presence_in_TD=.;Class_predicted=.;Prob_N=.;Prob_P=.;SIFT_score=.;SIFT_converted_rankscore=.;SIFT_pred=.;Polyphen2_HDIV_score=.;Polyphen2_HDIV_rankscore=.;Polyphen2_HDIV_pred=.;Polyphen2_HVAR_score=.;Polyphen2_HVAR_rankscore=.;Polyphen2_HVAR_pred=.;LRT_score=.;LRT_converted_rankscore=.;LRT_pred=.;MutationTaster_score=.;MutationTaster_converted_rankscore=.;MutationTaster_pred=.;MutationAssessor_score=.;MutationAssessor_score_rankscore=.;MutationAssessor_pred=.;FATHMM_score=.;FATHMM_converted_rankscore=.;FATHMM_pred=.;PROVEAN_score=.;PROVEAN_converted_rankscore=.;PROVEAN_pred=.;VEST3_score=.;VEST3_rankscore=.;MetaSVM_score=.;MetaSVM_rankscore=.;MetaSVM_pred=.;MetaLR_score=.;MetaLR_rankscore=.;MetaLR_pred=.;M-CAP_score=.;M-CAP_rankscore=.;M-CAP_pred=.;CADD_raw=.;CADD_raw_rankscore=.;CADD_phred=.;DANN_score=.;DANN_rankscore=.;fathmm-MKL_coding_score=.;fathmm-MKL_coding_rankscore=.;fathmm-MKL_coding_pred=.;Eigen_coding_or_noncoding=.;Eigen-raw=.;Eigen-PC-raw=.;GenoCanyon_score=.;GenoCanyon_score_rankscore=.;integrated_fitCons_score=.;integrated_fitCons_score_rankscore=.;integrated_confidence_value=.;GERP++_RS=.;GERP++_RS_rankscore=.;phyloP100way_vertebrate=.;phyloP100way_vertebrate_rankscore=.;phyloP20way_mammalian=.;phyloP20way_mammalian_rankscore=.;phastCons100way_vertebrate=.;phastCons100way_vertebrate_rankscore=.;phastCons20way_mammalian=.;phastCons20way_mammalian_rankscore=.;SiPhy_29way_logOdds=.;SiPhy_29way_logOdds_rankscore=.;Interpro_domain=.;GTEx_V6_gene=.;GTEx_V6_tissue=.;esp6500siv2_all=.;esp6500siv2_aa=.;esp6500siv2_ea=.;ExAC_ALL=.;ExAC_AFR=.;ExAC_AMR=.;ExAC_EAS=.;ExAC_FIN=.;ExAC_NFE=.;ExAC_OTH=.;ExAC_SAS=.;ExAC_nontcga_ALL=.;ExAC_nontcga_AFR=.;ExAC_nontcga_AMR=.;ExAC_nontcga_EAS=.;ExAC_nontcga_FIN=.;ExAC_nontcga_NFE=.;ExAC_nontcga_OTH=.;ExAC_nontcga_SAS=.;ExAC_nonpsych_ALL=.;ExAC_nonpsych_AFR=.;ExAC_nonpsych_AMR=.;ExAC_nonpsych_EAS=.;ExAC_nonpsych_FIN=.;ExAC_nonpsych_NFE=.;ExAC_nonpsych_OTH=.;ExAC_nonpsych_SAS=.;1000g2015aug_all=.;1000g2015aug_afr=.;1000g2015aug_amr=.;1000g2015aug_eur=.;1000g2015aug_sas=.;CLNALLELEID=.;CLNDN=.;CLNDISDB=.;CLNREVSTAT=.;CLNSIG=.;dbscSNV_ADA_SCORE=.;dbscSNV_RF_SCORE=.;snp138NonFlagged=.;avsnp150=.;CADD13_RawScore=0.015973;CADD13_PHRED=2.741;Eigen=-0.3239;REVEL=.;MCAP=.;Interpro_domain=.;ICGC_Id=.;ICGC_Occurrence=.;gnomAD_genome_ALL=0.0003;gnomAD_genome_AFR=0.0001;gnomAD_genome_AMR=0;gnomAD_genome_ASJ=0;gnomAD_genome_EAS=0.0007;gnomAD_genome_FIN=0.0009;gnomAD_genome_NFE=0.0002;gnomAD_genome_OTH=0.0011;gerp++gt2=.;cosmic70=.;InterVar_automated=.;PVS1=.;PS1=.;PS2=.;PS3=.;PS4=.;PM1=.;PM2=.;PM3=.;PM4=.;PM5=.;PM6=.;PP1=.;PP2=.;PP3=.;PP4=.;PP5=.;BA1=.;BS1=.;BS2=.;BS3=.;BS4=.;BP1=.;BP2=.;BP3=.;BP4=.;BP5=.;BP6=.;BP7=.;Kaviar_AF=.;Kaviar_AC=.;Kaviar_AN=.;ALLELE_END',\n",
    "          'SAMPLE': {'XG102': {'0/0': '0/1', '74,0': '51,8', '74': '59', '51': '32', '0,51,1827': '32,0,1388'},\n",
    "                     'XG103': {'0/0': '0/0', '74,0': '47,0', '74': '47', '51': '99', '0,51,1827': '0,114,1353'},\n",
    "                     'XG104': {'0/0': '0/0', '74,0': '74,0', '74': '74', '51': '51', '0,51,1827': '0,51,1827'},\n",
    "                     'XG202': {'0/0': '0/1', '74,0': '51,8', '74': '59', '51': '32', '0,51,1827': '32,0,1388'},\n",
    "                     'XG203': {'0/0': '0/0', '74,0': '47,0', '74': '47', '51': '99', '0,51,1827': '0,114,1353'},\n",
    "                     'XG204': {'0/0': '0/0', '74,0': '74,0', '74': '74', '51': '51', '0,51,1827': '0,51,1827'},\n",
    "                     'XG302': {'0/0': '0/1', '74,0': '51,8', '74': '59', '51': '32', '0,51,1827': '32,0,1388'},\n",
    "                     'XG303': {'0/0': '0/0', '74,0': '47,0', '74': '47', '51': '99', '0,51,1827': '0,114,1353'},\n",
    "                     'XG304': {'0/0': '0/0', '74,0': '74,0', '74': '74', '51': '51', '0,51,1827': '0,51,1827'},\n",
    "                     'XG402': {'0/0': '0/1', '74,0': '51,8', '74': '59', '51': '32', '0,51,1827': '32,0,1388'},\n",
    "                     'XG403': {'0/0': '0/0', '74,0': '47,0', '74': '47', '51': '99', '0,51,1827': '0,114,1353'},\n",
    "                     'XG404': {'0/0': '0/0', '74,0': '74,0', '74': '74', '51': '51', '0,51,1827': '0,51,1827'}}\n",
    "          }\n",
    "expected_solution == my_sol\n"
   ]
  },
  {
   "cell_type": "code",
   "execution_count": 51,
   "metadata": {},
   "outputs": [
    {
     "name": "stdout",
     "output_type": "stream",
     "text": [
      "1\n"
     ]
    }
   ],
   "source": [
    "test_maal = [\"Hello\"]\n",
    "for key in test_maal:\n",
    "    if key == \"Hello\":\n",
    "        print(\"1\")"
   ]
  },
  {
   "cell_type": "code",
   "execution_count": 52,
   "metadata": {},
   "outputs": [
    {
     "name": "stdout",
     "output_type": "stream",
     "text": [
      "0\n",
      "1\n",
      "2\n",
      "3\n",
      "4\n",
      "5\n",
      "6\n",
      "7\n"
     ]
    }
   ],
   "source": [
    "for i in range(8):\n",
    "    print(i)"
   ]
  },
  {
   "cell_type": "code",
   "execution_count": 58,
   "metadata": {},
   "outputs": [
    {
     "name": "stdout",
     "output_type": "stream",
     "text": [
      "3\n"
     ]
    },
    {
     "data": {
      "text/plain": [
       "'4\\t123416186\\t.\\tA\\tG\\t23.25\\tPASS\\tAC=1;AF=0.167;AN=6;BaseQRankSum=-2.542;ClippingRankSum=0;DP=180;ExcessHet=3.0103;FS=0;MLEAC=1;MLEAF=0.167;MQ=52.77;MQRankSum=-4.631;QD=0.39;ReadPosRankSum=1.45;SOR=0.758;VQSLOD=-8.209;culprit=MQ;ANNOVAR_DATE=2018-04-16;Func.refGene=intergenic;Gene.refGene=IL2,IL21;GeneDetail.refGene=dist=38536,dist=117597;ExonicFunc.refGene=.;AAChange.refGene=.;Func.ensGene=intergenic;Gene.ensGene=ENSG00000109471,ENSG00000138684;GeneDetail.ensGene=dist=38306,dist=117597;ExonicFunc.ensGene=.;AAChange.ensGene=.;cytoBand=4q27;gwasCatalog=.;tfbsConsSites=.;wgRna=.;targetScanS=.;Gene_symbol=.;OXPHOS_Complex=.;Ensembl_Gene_ID=.;Ensembl_Protein_ID=.;Uniprot_Name=.;Uniprot_ID=.;NCBI_Gene_ID=.;NCBI_Protein_ID=.;Gene_pos=.;AA_pos=.;AA_sub=.;Codon_sub=.;dbSNP_ID=.;PhyloP_46V=.;PhastCons_46V=.;PhyloP_100V=.;PhastCons_100V=.;SiteVar=.;PolyPhen2_prediction=.;PolyPhen2_score=.;SIFT_prediction=.;SIFT_score=.;FatHmm_prediction=.;FatHmm_score=.;PROVEAN_prediction=.;PROVEAN_score=.;MutAss_prediction=.;MutAss_score=.;EFIN_Swiss_Prot_Score=.;EFIN_Swiss_Prot_Prediction=.;EFIN_HumDiv_Score=.;EFIN_HumDiv_Prediction=.;CADD_score=.;CADD_Phred_score=.;CADD_prediction=.;Carol_prediction=.;Carol_score=.;Condel_score=.;Condel_pred=.;COVEC_WMV=.;COVEC_WMV_prediction=.;PolyPhen2_score_transf=.;PolyPhen2_pred_transf=.;SIFT_score_transf=.;SIFT_pred_transf=.;MutAss_score_transf=.;MutAss_pred_transf=.;Perc_coevo_Sites=.;Mean_MI_score=.;COSMIC_ID=.;Tumor_site=.;Examined_samples=.;Mutation_frequency=.;US=.;Status=.;Associated_disease=.;Presence_in_TD=.;Class_predicted=.;Prob_N=.;Prob_P=.;SIFT_score=.;SIFT_converted_rankscore=.;SIFT_pred=.;Polyphen2_HDIV_score=.;Polyphen2_HDIV_rankscore=.;Polyphen2_HDIV_pred=.;Polyphen2_HVAR_score=.;Polyphen2_HVAR_rankscore=.;Polyphen2_HVAR_pred=.;LRT_score=.;LRT_converted_rankscore=.;LRT_pred=.;MutationTaster_score=.;MutationTaster_converted_rankscore=.;MutationTaster_pred=.;MutationAssessor_score=.;MutationAssessor_score_rankscore=.;MutationAssessor_pred=.;FATHMM_score=.;FATHMM_converted_rankscore=.;FATHMM_pred=.;PROVEAN_score=.;PROVEAN_converted_rankscore=.;PROVEAN_pred=.;VEST3_score=.;VEST3_rankscore=.;MetaSVM_score=.;MetaSVM_rankscore=.;MetaSVM_pred=.;MetaLR_score=.;MetaLR_rankscore=.;MetaLR_pred=.;M-CAP_score=.;M-CAP_rankscore=.;M-CAP_pred=.;CADD_raw=.;CADD_raw_rankscore=.;CADD_phred=.;DANN_score=.;DANN_rankscore=.;fathmm-MKL_coding_score=.;fathmm-MKL_coding_rankscore=.;fathmm-MKL_coding_pred=.;Eigen_coding_or_noncoding=.;Eigen-raw=.;Eigen-PC-raw=.;GenoCanyon_score=.;GenoCanyon_score_rankscore=.;integrated_fitCons_score=.;integrated_fitCons_score_rankscore=.;integrated_confidence_value=.;GERP++_RS=.;GERP++_RS_rankscore=.;phyloP100way_vertebrate=.;phyloP100way_vertebrate_rankscore=.;phyloP20way_mammalian=.;phyloP20way_mammalian_rankscore=.;phastCons100way_vertebrate=.;phastCons100way_vertebrate_rankscore=.;phastCons20way_mammalian=.;phastCons20way_mammalian_rankscore=.;SiPhy_29way_logOdds=.;SiPhy_29way_logOdds_rankscore=.;Interpro_domain=.;GTEx_V6_gene=.;GTEx_V6_tissue=.;esp6500siv2_all=.;esp6500siv2_aa=.;esp6500siv2_ea=.;ExAC_ALL=.;ExAC_AFR=.;ExAC_AMR=.;ExAC_EAS=.;ExAC_FIN=.;ExAC_NFE=.;ExAC_OTH=.;ExAC_SAS=.;ExAC_nontcga_ALL=.;ExAC_nontcga_AFR=.;ExAC_nontcga_AMR=.;ExAC_nontcga_EAS=.;ExAC_nontcga_FIN=.;ExAC_nontcga_NFE=.;ExAC_nontcga_OTH=.;ExAC_nontcga_SAS=.;ExAC_nonpsych_ALL=.;ExAC_nonpsych_AFR=.;ExAC_nonpsych_AMR=.;ExAC_nonpsych_EAS=.;ExAC_nonpsych_FIN=.;ExAC_nonpsych_NFE=.;ExAC_nonpsych_OTH=.;ExAC_nonpsych_SAS=.;1000g2015aug_all=.;1000g2015aug_afr=.;1000g2015aug_amr=.;1000g2015aug_eur=.;1000g2015aug_sas=.;CLNALLELEID=.;CLNDN=.;CLNDISDB=.;CLNREVSTAT=.;CLNSIG=.;dbscSNV_ADA_SCORE=.;dbscSNV_RF_SCORE=.;snp138NonFlagged=.;avsnp150=.;CADD13_RawScore=0.015973;CADD13_PHRED=2.741;Eigen=-0.3239;REVEL=.;MCAP=.;Interpro_domain=.;ICGC_Id=.;ICGC_Occurrence=.;gnomAD_genome_ALL=0.0003;gnomAD_genome_AFR=0.0001;gnomAD_genome_AMR=0;gnomAD_genome_ASJ=0;gnomAD_genome_EAS=0.0007;gnomAD_genome_FIN=0.0009;gnomAD_genome_NFE=0.0002;gnomAD_genome_OTH=0.0011;gerp++gt2=.;cosmic70=.;InterVar_automated=.;PVS1=.;PS1=.;PS2=.;PS3=.;PS4=.;PM1=.;PM2=.;PM3=.;PM4=.;PM5=.;PM6=.;PP1=.;PP2=.;PP3=.;PP4=.;PP5=.;BA1=.;BS1=.;BS2=.;BS3=.;BS4=.;BP1=.;BP2=.;BP3=.;BP4=.;BP5=.;BP6=.;BP7=.;Kaviar_AF=.;Kaviar_AC=.;Kaviar_AN=.;ALLELE_END\\tGT:AD:DP:GQ:PL\\t0/1:51,8:59:32:32,0,1388\\t0/0:47,0:47:99:0,114,1353\\t0/0:74,0:74:51:0,51,1827\\t0/1:51,8:59:32:32,0,1388\\t0/0:47,0:47:99:0,114,1353\\t0/0:74,0:74:51:0,51,1827\\t0/1:51,8:59:32:32,0,1388\\t0/0:47,0:47:99:0,114,1353\\t0/0:74,0:74:51:0,51,1827\\t0/1:51,8:59:32:32,0,1388\\t0/0:47,0:47:99:0,114,1353\\t0/0:74,0:74:51:0,51,1827'"
      ]
     },
     "execution_count": 58,
     "metadata": {},
     "output_type": "execute_result"
    }
   ],
   "source": [
    "with open (\"two_variants.vcf\") as file:\n",
    "    list_of_lines = []\n",
    "    for line in file:\n",
    "        if not line.strip():\n",
    "            continue\n",
    "        list_of_lines.append(line.strip(\"\\n\"))\n",
    "print(len(list_of_lines))\n",
    "list_of_lines[1]"
   ]
  },
  {
   "cell_type": "code",
   "execution_count": 63,
   "metadata": {},
   "outputs": [],
   "source": [
    "def determine_data_type(value):\n",
    "    \"\"\"\n",
    "    The function takes a string input and determines its data type to be either a float, int, or string. \n",
    "    \"\"\"\n",
    "    # BEGIN SOLUTION\n",
    "    data_type = None\n",
    "    try:\n",
    "        int(value)\n",
    "        data_type = int\n",
    "        return data_type\n",
    "\n",
    "    except:\n",
    "        try:\n",
    "            float(value)\n",
    "            data_type = float\n",
    "            return data_type\n",
    "        except:\n",
    "            return str\n",
    "    # END SOLUTION\n",
    "\n",
    "\n",
    "def determine_data_type_of_list(values):\n",
    "    \"\"\"\n",
    "    Write a function whose input is a list of strings. \n",
    "    This function determines the correct data type of all the elements in the list. \n",
    "    For example, ['1', '2', '3'] is int, ['1.1', '2.2', '3.3'] is float, ['1.1', '2', '3.3'] \n",
    "    is also float, and ['1.1', '234String', '3.3'] is str. \n",
    "    The purpose of this function to figure out what to cast an array of strings to. \n",
    "    Some lists might be all ints, in which case the data type is int. \n",
    "    Some might be a mixture of ints and floats, in which case the data type will be a float. \n",
    "    Some lists might be a mixture of ints, floats, and strings, \n",
    "    in which case the data type of the list will be a string.\n",
    "    NOTE: This function should use \"determine_data_type\" function you coded previously\n",
    "\n",
    "\n",
    "    \"\"\"\n",
    "    # BEGIN SOLUTION\n",
    "    list_data_type = []\n",
    "    for value in values:\n",
    "        if determine_data_type(value) == (str):\n",
    "            return str\n",
    "        if determine_data_type(value) not in list_data_type:\n",
    "            list_data_type.append(determine_data_type(value))\n",
    "    if float in list_data_type:\n",
    "        return float\n",
    "    if int in list_data_type:\n",
    "        return int\n",
    "\n",
    "    # END SOLUTION\n",
    "\n",
    "\n",
    "def format_sample_fields(format_field, sample_field):\n",
    "    \"\"\"\n",
    "    Write a function whose inputs are a format field and sample field. \n",
    "    The format field looks like format_field = 'GT:AD:DP:GQ:PGT:PID:PL' and \n",
    "    the sample field looks like\n",
    "\n",
    "    sample_field = {'XG102': '1/1:0,76:76:99:1|1:48306945_C_G:3353,229,0',\n",
    "                'XG103': '1/1:0,52:52:99:.:.:1517,156,0',\n",
    "                'XG104': '0/1:34,38:72:99:.:.:938,0,796',\n",
    "                'XG202': '1/1:0,76:76:99:1|1:48306945_C_G:3353,229,0',\n",
    "                'XG203': '1/1:0,52:52:99:.:.:1517,156,0',\n",
    "                'XG204': '0/1:34,38:72:99:.:.:938,0,796',\n",
    "                'XG302': '1/1:0,76:76:99:1|1:48306945_C_G:3353,229,0',\n",
    "                'XG303': '1/1:0,52:52:99:.:.:1517,156,0',\n",
    "                'XG304': '0/1:34,38:72:99:.:.:938,0,796',\n",
    "                'XG402': '1/1:0,76:76:99:1|1:48306945_C_G:3353,229,0',\n",
    "                'XG403': '1/1:0,52:52:99:.:.:1517,156,0',\n",
    "                'XG404': '0/1:34,38:72:99:.:.:938,0,796'}\n",
    "\n",
    "    Transform the inputs such that the output looks like this:\n",
    "\n",
    "    output = {\n",
    "        'XG102': {'AD': '0,76',\n",
    "            'DP': '76',\n",
    "            'GQ': '99',\n",
    "            'GT': '1/1',\n",
    "            'PGT': '1|1',\n",
    "            'PID': '48306945_C_G',\n",
    "            'PL': '3353,229,0'},\n",
    "        'XG103': {'AD': '0,52',\n",
    "                'DP': '52',\n",
    "                'GQ': '99',\n",
    "                'GT': '1/1',\n",
    "                'PGT': '.',\n",
    "                'PID': '.',\n",
    "                'PL': '1517,156,0'},\n",
    "        'XG104': {'AD': '34,38',\n",
    "                'DP': '72',\n",
    "                'GQ': '99',\n",
    "                'GT': '0/1',\n",
    "                'PGT': '.',\n",
    "                'PID': '.',\n",
    "                'PL': '938,0,796'},\n",
    "        'XG202': {'AD': '0,76',\n",
    "                'DP': '76',\n",
    "                'GQ': '99',\n",
    "                'GT': '1/1',\n",
    "                'PGT': '1|1',\n",
    "                'PID': '48306945_C_G',\n",
    "                'PL': '3353,229,0'},\n",
    "        'XG203': {'AD': '0,52',\n",
    "                'DP': '52',\n",
    "                'GQ': '99',\n",
    "                'GT': '1/1',\n",
    "                'PGT': '.',\n",
    "                'PID': '.',\n",
    "                'PL': '1517,156,0'},\n",
    "        'XG204': {'AD': '34,38',\n",
    "                'DP': '72',\n",
    "                'GQ': '99',\n",
    "                'GT': '0/1',\n",
    "                'PGT': '.',\n",
    "                'PID': '.',\n",
    "                'PL': '938,0,796'},\n",
    "        'XG302': {'AD': '0,76',\n",
    "                'DP': '76',\n",
    "                'GQ': '99',\n",
    "                'GT': '1/1',\n",
    "                'PGT': '1|1',\n",
    "                'PID': '48306945_C_G',\n",
    "                'PL': '3353,229,0'},\n",
    "        'XG303': {'AD': '0,52',\n",
    "                'DP': '52',\n",
    "                'GQ': '99',\n",
    "                'GT': '1/1',\n",
    "                'PGT': '.',\n",
    "                'PID': '.',\n",
    "                'PL': '1517,156,0'},\n",
    "        'XG304': {'AD': '34,38',\n",
    "                'DP': '72',\n",
    "                'GQ': '99',\n",
    "                'GT': '0/1',\n",
    "                'PGT': '.',\n",
    "                'PID': '.',\n",
    "                'PL': '938,0,796'},\n",
    "        'XG402': {'AD': '0,76',\n",
    "                'DP': '76',\n",
    "                'GQ': '99',\n",
    "                'GT': '1/1',\n",
    "                'PGT': '1|1',\n",
    "                'PID': '48306945_C_G',\n",
    "                'PL': '3353,229,0'},\n",
    "        'XG403': {'AD': '0,52',\n",
    "                'DP': '52',\n",
    "                'GQ': '99',\n",
    "                'GT': '1/1',\n",
    "                'PGT': '.',\n",
    "                'PID': '.',\n",
    "                'PL': '1517,156,0'},\n",
    "        'XG404': {'AD': '34,38',\n",
    "                'DP': '72',\n",
    "                'GQ': '99',\n",
    "                'GT': '0/1',\n",
    "                'PGT': '.',\n",
    "                'PID': '.',\n",
    "                'PL': '938,0,796'}}\n",
    "    \"\"\"\n",
    "\n",
    "    # BEGIN SOLUTION\n",
    "    output = {}\n",
    "\n",
    "    dict_keys = sample_field.keys()\n",
    "    inner_keys = format_field.split(\":\")\n",
    "\n",
    "    for key in dict_keys:\n",
    "        key_key_value = sample_field[key].split(\":\")\n",
    "        temp_dict = {}\n",
    "        for i in range(len(key_key_value)):\n",
    "            temp_dict[inner_keys[i]] = key_key_value[i]\n",
    "        output[key] = temp_dict\n",
    "    return output\n",
    "    # END SOLUTION\n",
    "\n",
    "\n",
    "def create_dict_from_line(header, line):\n",
    "    import ipdb\n",
    "    \"\"\"\n",
    "    Given the header and a single line, transform them into dictionary as described above. \n",
    "    Header and line input are provided in this cell. \n",
    "\n",
    "    Write a function whose inputs are a list containing the vcf header and a variant line. \n",
    "    The function should return a dictionary using the header as keys and the variant line as values.\n",
    "    The function should use the format_sample_fields you wrote previously to format the sample fields. \n",
    "    The output of the first line looks like this:\n",
    "\n",
    "    {'ALT': 'G',\n",
    "    'CHROM': '4',\n",
    "    'FILTER': 'PASS',\n",
    "    'ID': '.',\n",
    "    'INFO': 'AC=1;AF=0.167;AN=6;BaseQRankSum=-2.542;ClippingRankSum=0;DP=180;ExcessHet=3.0103;FS=0;MLEAC=1;MLEAF=0.167;MQ=52.77;MQRankSum=-4.631;QD=0.39;ReadPosRankSum=1.45;SOR=0.758;VQSLOD=-8.209;culprit=MQ;ANNOVAR_DATE=2018-04-16;Func.refGene=intergenic;Gene.refGene=IL2,IL21;GeneDetail.refGene=dist=38536,dist=117597;ExonicFunc.refGene=.;AAChange.refGene=.;Func.ensGene=intergenic;Gene.ensGene=ENSG00000109471,ENSG00000138684;GeneDetail.ensGene=dist=38306,dist=117597;ExonicFunc.ensGene=.;AAChange.ensGene=.;cytoBand=4q27;gwasCatalog=.;tfbsConsSites=.;wgRna=.;targetScanS=.;Gene_symbol=.;OXPHOS_Complex=.;Ensembl_Gene_ID=.;Ensembl_Protein_ID=.;Uniprot_Name=.;Uniprot_ID=.;NCBI_Gene_ID=.;NCBI_Protein_ID=.;Gene_pos=.;AA_pos=.;AA_sub=.;Codon_sub=.;dbSNP_ID=.;PhyloP_46V=.;PhastCons_46V=.;PhyloP_100V=.;PhastCons_100V=.;SiteVar=.;PolyPhen2_prediction=.;PolyPhen2_score=.;SIFT_prediction=.;SIFT_score=.;FatHmm_prediction=.;FatHmm_score=.;PROVEAN_prediction=.;PROVEAN_score=.;MutAss_prediction=.;MutAss_score=.;EFIN_Swiss_Prot_Score=.;EFIN_Swiss_Prot_Prediction=.;EFIN_HumDiv_Score=.;EFIN_HumDiv_Prediction=.;CADD_score=.;CADD_Phred_score=.;CADD_prediction=.;Carol_prediction=.;Carol_score=.;Condel_score=.;Condel_pred=.;COVEC_WMV=.;COVEC_WMV_prediction=.;PolyPhen2_score_transf=.;PolyPhen2_pred_transf=.;SIFT_score_transf=.;SIFT_pred_transf=.;MutAss_score_transf=.;MutAss_pred_transf=.;Perc_coevo_Sites=.;Mean_MI_score=.;COSMIC_ID=.;Tumor_site=.;Examined_samples=.;Mutation_frequency=.;US=.;Status=.;Associated_disease=.;Presence_in_TD=.;Class_predicted=.;Prob_N=.;Prob_P=.;SIFT_score=.;SIFT_converted_rankscore=.;SIFT_pred=.;Polyphen2_HDIV_score=.;Polyphen2_HDIV_rankscore=.;Polyphen2_HDIV_pred=.;Polyphen2_HVAR_score=.;Polyphen2_HVAR_rankscore=.;Polyphen2_HVAR_pred=.;LRT_score=.;LRT_converted_rankscore=.;LRT_pred=.;MutationTaster_score=.;MutationTaster_converted_rankscore=.;MutationTaster_pred=.;MutationAssessor_score=.;MutationAssessor_score_rankscore=.;MutationAssessor_pred=.;FATHMM_score=.;FATHMM_converted_rankscore=.;FATHMM_pred=.;PROVEAN_score=.;PROVEAN_converted_rankscore=.;PROVEAN_pred=.;VEST3_score=.;VEST3_rankscore=.;MetaSVM_score=.;MetaSVM_rankscore=.;MetaSVM_pred=.;MetaLR_score=.;MetaLR_rankscore=.;MetaLR_pred=.;M-CAP_score=.;M-CAP_rankscore=.;M-CAP_pred=.;CADD_raw=.;CADD_raw_rankscore=.;CADD_phred=.;DANN_score=.;DANN_rankscore=.;fathmm-MKL_coding_score=.;fathmm-MKL_coding_rankscore=.;fathmm-MKL_coding_pred=.;Eigen_coding_or_noncoding=.;Eigen-raw=.;Eigen-PC-raw=.;GenoCanyon_score=.;GenoCanyon_score_rankscore=.;integrated_fitCons_score=.;integrated_fitCons_score_rankscore=.;integrated_confidence_value=.;GERP++_RS=.;GERP++_RS_rankscore=.;phyloP100way_vertebrate=.;phyloP100way_vertebrate_rankscore=.;phyloP20way_mammalian=.;phyloP20way_mammalian_rankscore=.;phastCons100way_vertebrate=.;phastCons100way_vertebrate_rankscore=.;phastCons20way_mammalian=.;phastCons20way_mammalian_rankscore=.;SiPhy_29way_logOdds=.;SiPhy_29way_logOdds_rankscore=.;Interpro_domain=.;GTEx_V6_gene=.;GTEx_V6_tissue=.;esp6500siv2_all=.;esp6500siv2_aa=.;esp6500siv2_ea=.;ExAC_ALL=.;ExAC_AFR=.;ExAC_AMR=.;ExAC_EAS=.;ExAC_FIN=.;ExAC_NFE=.;ExAC_OTH=.;ExAC_SAS=.;ExAC_nontcga_ALL=.;ExAC_nontcga_AFR=.;ExAC_nontcga_AMR=.;ExAC_nontcga_EAS=.;ExAC_nontcga_FIN=.;ExAC_nontcga_NFE=.;ExAC_nontcga_OTH=.;ExAC_nontcga_SAS=.;ExAC_nonpsych_ALL=.;ExAC_nonpsych_AFR=.;ExAC_nonpsych_AMR=.;ExAC_nonpsych_EAS=.;ExAC_nonpsych_FIN=.;ExAC_nonpsych_NFE=.;ExAC_nonpsych_OTH=.;ExAC_nonpsych_SAS=.;1000g2015aug_all=.;1000g2015aug_afr=.;1000g2015aug_amr=.;1000g2015aug_eur=.;1000g2015aug_sas=.;CLNALLELEID=.;CLNDN=.;CLNDISDB=.;CLNREVSTAT=.;CLNSIG=.;dbscSNV_ADA_SCORE=.;dbscSNV_RF_SCORE=.;snp138NonFlagged=.;avsnp150=.;CADD13_RawScore=0.015973;CADD13_PHRED=2.741;Eigen=-0.3239;REVEL=.;MCAP=.;Interpro_domain=.;ICGC_Id=.;ICGC_Occurrence=.;gnomAD_genome_ALL=0.0003;gnomAD_genome_AFR=0.0001;gnomAD_genome_AMR=0;gnomAD_genome_ASJ=0;gnomAD_genome_EAS=0.0007;gnomAD_genome_FIN=0.0009;gnomAD_genome_NFE=0.0002;gnomAD_genome_OTH=0.0011;gerp++gt2=.;cosmic70=.;InterVar_automated=.;PVS1=.;PS1=.;PS2=.;PS3=.;PS4=.;PM1=.;PM2=.;PM3=.;PM4=.;PM5=.;PM6=.;PP1=.;PP2=.;PP3=.;PP4=.;PP5=.;BA1=.;BS1=.;BS2=.;BS3=.;BS4=.;BP1=.;BP2=.;BP3=.;BP4=.;BP5=.;BP6=.;BP7=.;Kaviar_AF=.;Kaviar_AC=.;Kaviar_AN=.;ALLELE_END',\n",
    "    'POS': '123416186',\n",
    "    'QUAL': '23.25',\n",
    "    'REF': 'A',\n",
    "    'SAMPLE': {'XG102': {'AD': '51,8',\n",
    "                      'DP': '59',\n",
    "                      'GQ': '32',\n",
    "                      'GT': '0/1',\n",
    "                      'PL': '32,0,1388'},\n",
    "            'XG103': {'AD': '47,0',\n",
    "                      'DP': '47',\n",
    "                      'GQ': '99',\n",
    "                      'GT': '0/0',\n",
    "                      'PL': '0,114,1353'},\n",
    "            'XG104': {'AD': '74,0',\n",
    "                      'DP': '74',\n",
    "                      'GQ': '51',\n",
    "                      'GT': '0/0',\n",
    "                      'PL': '0,51,1827'},\n",
    "            'XG202': {'AD': '51,8',\n",
    "                      'DP': '59',\n",
    "                      'GQ': '32',\n",
    "                      'GT': '0/1',\n",
    "                      'PL': '32,0,1388'},\n",
    "            'XG203': {'AD': '47,0',\n",
    "                      'DP': '47',\n",
    "                      'GQ': '99',\n",
    "                      'GT': '0/0',\n",
    "                      'PL': '0,114,1353'},\n",
    "            'XG204': {'AD': '74,0',\n",
    "                      'DP': '74',\n",
    "                      'GQ': '51',\n",
    "                      'GT': '0/0',\n",
    "                      'PL': '0,51,1827'},\n",
    "            'XG302': {'AD': '51,8',\n",
    "                      'DP': '59',\n",
    "                      'GQ': '32',\n",
    "                      'GT': '0/1',\n",
    "                      'PL': '32,0,1388'},\n",
    "            'XG303': {'AD': '47,0',\n",
    "                      'DP': '47',\n",
    "                      'GQ': '99',\n",
    "                      'GT': '0/0',\n",
    "                      'PL': '0,114,1353'},\n",
    "            'XG304': {'AD': '74,0',\n",
    "                      'DP': '74',\n",
    "                      'GQ': '51',\n",
    "                      'GT': '0/0',\n",
    "                      'PL': '0,51,1827'},\n",
    "            'XG402': {'AD': '51,8',\n",
    "                      'DP': '59',\n",
    "                      'GQ': '32',\n",
    "                      'GT': '0/1',\n",
    "                      'PL': '32,0,1388'},\n",
    "            'XG403': {'AD': '47,0',\n",
    "                      'DP': '47',\n",
    "                      'GQ': '99',\n",
    "                      'GT': '0/0',\n",
    "                      'PL': '0,114,1353'},\n",
    "            'XG404': {'AD': '74,0',\n",
    "                      'DP': '74',\n",
    "                      'GQ': '51',\n",
    "                      'GT': '0/0',\n",
    "                      'PL': '0,51,1827'}}}\n",
    "    \"\"\"\n",
    "    # BEGIN SOLUTION\n",
    "\n",
    "    temp_dict = {}\n",
    "    list_of_lines = line.split(\"\\t\")\n",
    "\n",
    "    for key in header:\n",
    "        for i in range(len(list_of_lines)):\n",
    "            temp_dict[key] = list_of_lines[i]\n",
    "\n",
    "    temp_dict_keys = list(temp_dict.keys())\n",
    "\n",
    "    Dict_of_dict_of_everything_after_format = {}\n",
    "    for i in range(9, len(list_of_lines)):\n",
    "        Dict_of_dict_of_everything_after_format[temp_dict_keys[i]\n",
    "                                                ] = list_of_lines[i]\n",
    "\n",
    "    final_ans_dict = {}\n",
    "    for i in range(8):\n",
    "        final_ans_dict[temp_dict_keys[i]] = list_of_lines[i]\n",
    "        if i == 7:\n",
    "            final_ans_dict[\"SAMPLE\"] = format_sample_fields(\n",
    "                list_of_lines[i+1], Dict_of_dict_of_everything_after_format)\n",
    "\n",
    "    # ipdb.set_trace()\n",
    "    return final_ans_dict\n",
    "    # END SOLUTION\n",
    "\n",
    "\n",
    "def read_vcf_file(filename):\n",
    "    \"\"\"\n",
    "    Write a function whose input is a filename for a vcf. \n",
    "    The function reads the vcf file one variant at a time and transforms it \n",
    "    into a dictionary using the create_dict_from_line function. \n",
    "    It returns a list containing all the variant dictionaries. \n",
    "    NOTE: Your function should be able to handle multiple lines.\n",
    "    \"\"\"\n",
    "    # BEGIN SOLUTION\n",
    "    with open(filename) as file:\n",
    "        list_of_lines = []\n",
    "        for line in file:\n",
    "            if not line.strip():\n",
    "                continue\n",
    "            list_of_lines.append(line.strip(\"\\n\"))\n",
    "    list_of_dicts = []\n",
    "    headers = list_of_lines[0].split(\"\\t\")\n",
    "    headers[0] = \"CHROM\"\n",
    "    for i in range(1, len(list_of_lines)):\n",
    "        list_of_dicts.append(create_dict_from_line(headers, list_of_lines[i]))\n",
    "    return list_of_dicts\n",
    "\n",
    "    # END SOLUTION\n",
    "\n",
    "\n",
    "def extract_info_field(data):\n",
    "    \"\"\"\n",
    "    Write a function that extracts the info field from the data dictionary that was \n",
    "    created in the previous part. The function should return all the info field dictionaries as list. \n",
    "    \"\"\"\n",
    "    # BEGIN SOLUTION\n",
    "    answer_list = []\n",
    "    for i in range(len(data)):\n",
    "        answer_list.append(data[i][\"INFO\"])\n",
    "    return answer_list\n",
    "    # END SOLUTION"
   ]
  },
  {
   "cell_type": "code",
   "execution_count": 62,
   "metadata": {},
   "outputs": [
    {
     "name": "stdout",
     "output_type": "stream",
     "text": [
      "2\n"
     ]
    },
    {
     "data": {
      "text/plain": [
       "[{'#': '4',\n",
       "  'C': '123416186',\n",
       "  'H': '.',\n",
       "  'R': 'A',\n",
       "  'O': 'G',\n",
       "  'M': '23.25',\n",
       "  '\\t': 'PASS',\n",
       "  'P': 'AC=1;AF=0.167;AN=6;BaseQRankSum=-2.542;ClippingRankSum=0;DP=180;ExcessHet=3.0103;FS=0;MLEAC=1;MLEAF=0.167;MQ=52.77;MQRankSum=-4.631;QD=0.39;ReadPosRankSum=1.45;SOR=0.758;VQSLOD=-8.209;culprit=MQ;ANNOVAR_DATE=2018-04-16;Func.refGene=intergenic;Gene.refGene=IL2,IL21;GeneDetail.refGene=dist=38536,dist=117597;ExonicFunc.refGene=.;AAChange.refGene=.;Func.ensGene=intergenic;Gene.ensGene=ENSG00000109471,ENSG00000138684;GeneDetail.ensGene=dist=38306,dist=117597;ExonicFunc.ensGene=.;AAChange.ensGene=.;cytoBand=4q27;gwasCatalog=.;tfbsConsSites=.;wgRna=.;targetScanS=.;Gene_symbol=.;OXPHOS_Complex=.;Ensembl_Gene_ID=.;Ensembl_Protein_ID=.;Uniprot_Name=.;Uniprot_ID=.;NCBI_Gene_ID=.;NCBI_Protein_ID=.;Gene_pos=.;AA_pos=.;AA_sub=.;Codon_sub=.;dbSNP_ID=.;PhyloP_46V=.;PhastCons_46V=.;PhyloP_100V=.;PhastCons_100V=.;SiteVar=.;PolyPhen2_prediction=.;PolyPhen2_score=.;SIFT_prediction=.;SIFT_score=.;FatHmm_prediction=.;FatHmm_score=.;PROVEAN_prediction=.;PROVEAN_score=.;MutAss_prediction=.;MutAss_score=.;EFIN_Swiss_Prot_Score=.;EFIN_Swiss_Prot_Prediction=.;EFIN_HumDiv_Score=.;EFIN_HumDiv_Prediction=.;CADD_score=.;CADD_Phred_score=.;CADD_prediction=.;Carol_prediction=.;Carol_score=.;Condel_score=.;Condel_pred=.;COVEC_WMV=.;COVEC_WMV_prediction=.;PolyPhen2_score_transf=.;PolyPhen2_pred_transf=.;SIFT_score_transf=.;SIFT_pred_transf=.;MutAss_score_transf=.;MutAss_pred_transf=.;Perc_coevo_Sites=.;Mean_MI_score=.;COSMIC_ID=.;Tumor_site=.;Examined_samples=.;Mutation_frequency=.;US=.;Status=.;Associated_disease=.;Presence_in_TD=.;Class_predicted=.;Prob_N=.;Prob_P=.;SIFT_score=.;SIFT_converted_rankscore=.;SIFT_pred=.;Polyphen2_HDIV_score=.;Polyphen2_HDIV_rankscore=.;Polyphen2_HDIV_pred=.;Polyphen2_HVAR_score=.;Polyphen2_HVAR_rankscore=.;Polyphen2_HVAR_pred=.;LRT_score=.;LRT_converted_rankscore=.;LRT_pred=.;MutationTaster_score=.;MutationTaster_converted_rankscore=.;MutationTaster_pred=.;MutationAssessor_score=.;MutationAssessor_score_rankscore=.;MutationAssessor_pred=.;FATHMM_score=.;FATHMM_converted_rankscore=.;FATHMM_pred=.;PROVEAN_score=.;PROVEAN_converted_rankscore=.;PROVEAN_pred=.;VEST3_score=.;VEST3_rankscore=.;MetaSVM_score=.;MetaSVM_rankscore=.;MetaSVM_pred=.;MetaLR_score=.;MetaLR_rankscore=.;MetaLR_pred=.;M-CAP_score=.;M-CAP_rankscore=.;M-CAP_pred=.;CADD_raw=.;CADD_raw_rankscore=.;CADD_phred=.;DANN_score=.;DANN_rankscore=.;fathmm-MKL_coding_score=.;fathmm-MKL_coding_rankscore=.;fathmm-MKL_coding_pred=.;Eigen_coding_or_noncoding=.;Eigen-raw=.;Eigen-PC-raw=.;GenoCanyon_score=.;GenoCanyon_score_rankscore=.;integrated_fitCons_score=.;integrated_fitCons_score_rankscore=.;integrated_confidence_value=.;GERP++_RS=.;GERP++_RS_rankscore=.;phyloP100way_vertebrate=.;phyloP100way_vertebrate_rankscore=.;phyloP20way_mammalian=.;phyloP20way_mammalian_rankscore=.;phastCons100way_vertebrate=.;phastCons100way_vertebrate_rankscore=.;phastCons20way_mammalian=.;phastCons20way_mammalian_rankscore=.;SiPhy_29way_logOdds=.;SiPhy_29way_logOdds_rankscore=.;Interpro_domain=.;GTEx_V6_gene=.;GTEx_V6_tissue=.;esp6500siv2_all=.;esp6500siv2_aa=.;esp6500siv2_ea=.;ExAC_ALL=.;ExAC_AFR=.;ExAC_AMR=.;ExAC_EAS=.;ExAC_FIN=.;ExAC_NFE=.;ExAC_OTH=.;ExAC_SAS=.;ExAC_nontcga_ALL=.;ExAC_nontcga_AFR=.;ExAC_nontcga_AMR=.;ExAC_nontcga_EAS=.;ExAC_nontcga_FIN=.;ExAC_nontcga_NFE=.;ExAC_nontcga_OTH=.;ExAC_nontcga_SAS=.;ExAC_nonpsych_ALL=.;ExAC_nonpsych_AFR=.;ExAC_nonpsych_AMR=.;ExAC_nonpsych_EAS=.;ExAC_nonpsych_FIN=.;ExAC_nonpsych_NFE=.;ExAC_nonpsych_OTH=.;ExAC_nonpsych_SAS=.;1000g2015aug_all=.;1000g2015aug_afr=.;1000g2015aug_amr=.;1000g2015aug_eur=.;1000g2015aug_sas=.;CLNALLELEID=.;CLNDN=.;CLNDISDB=.;CLNREVSTAT=.;CLNSIG=.;dbscSNV_ADA_SCORE=.;dbscSNV_RF_SCORE=.;snp138NonFlagged=.;avsnp150=.;CADD13_RawScore=0.015973;CADD13_PHRED=2.741;Eigen=-0.3239;REVEL=.;MCAP=.;Interpro_domain=.;ICGC_Id=.;ICGC_Occurrence=.;gnomAD_genome_ALL=0.0003;gnomAD_genome_AFR=0.0001;gnomAD_genome_AMR=0;gnomAD_genome_ASJ=0;gnomAD_genome_EAS=0.0007;gnomAD_genome_FIN=0.0009;gnomAD_genome_NFE=0.0002;gnomAD_genome_OTH=0.0011;gerp++gt2=.;cosmic70=.;InterVar_automated=.;PVS1=.;PS1=.;PS2=.;PS3=.;PS4=.;PM1=.;PM2=.;PM3=.;PM4=.;PM5=.;PM6=.;PP1=.;PP2=.;PP3=.;PP4=.;PP5=.;BA1=.;BS1=.;BS2=.;BS3=.;BS4=.;BP1=.;BP2=.;BP3=.;BP4=.;BP5=.;BP6=.;BP7=.;Kaviar_AF=.;Kaviar_AC=.;Kaviar_AN=.;ALLELE_END',\n",
       "  'SAMPLE': {'I': {'GT': '0/1',\n",
       "    'AD': '51,8',\n",
       "    'DP': '59',\n",
       "    'GQ': '32',\n",
       "    'PL': '32,0,1388'},\n",
       "   'D': {'GT': '0/0',\n",
       "    'AD': '47,0',\n",
       "    'DP': '47',\n",
       "    'GQ': '99',\n",
       "    'PL': '0,114,1353'},\n",
       "   'E': {'GT': '0/0', 'AD': '74,0', 'DP': '74', 'GQ': '51', 'PL': '0,51,1827'},\n",
       "   'F': {'GT': '0/1', 'AD': '51,8', 'DP': '59', 'GQ': '32', 'PL': '32,0,1388'},\n",
       "   'A': {'GT': '0/0',\n",
       "    'AD': '47,0',\n",
       "    'DP': '47',\n",
       "    'GQ': '99',\n",
       "    'PL': '0,114,1353'},\n",
       "   'L': {'GT': '0/0', 'AD': '74,0', 'DP': '74', 'GQ': '51', 'PL': '0,51,1827'},\n",
       "   'T': {'GT': '0/1', 'AD': '51,8', 'DP': '59', 'GQ': '32', 'PL': '32,0,1388'},\n",
       "   'Q': {'GT': '0/0',\n",
       "    'AD': '47,0',\n",
       "    'DP': '47',\n",
       "    'GQ': '99',\n",
       "    'PL': '0,114,1353'},\n",
       "   'U': {'GT': '0/0', 'AD': '74,0', 'DP': '74', 'GQ': '51', 'PL': '0,51,1827'},\n",
       "   'N': {'GT': '0/1', 'AD': '51,8', 'DP': '59', 'GQ': '32', 'PL': '32,0,1388'},\n",
       "   'X': {'GT': '0/0',\n",
       "    'AD': '47,0',\n",
       "    'DP': '47',\n",
       "    'GQ': '99',\n",
       "    'PL': '0,114,1353'},\n",
       "   'G': {'GT': '0/0',\n",
       "    'AD': '74,0',\n",
       "    'DP': '74',\n",
       "    'GQ': '51',\n",
       "    'PL': '0,51,1827'}}},\n",
       " {'#': '12',\n",
       "  'C': '81444551',\n",
       "  'H': 'rs10746177',\n",
       "  'R': 'T',\n",
       "  'O': 'C',\n",
       "  'M': '5022.69',\n",
       "  '\\t': 'PASS',\n",
       "  'P': 'AC=6;AF=1;AN=6;DP=185;ExcessHet=3.0103;FS=0;MLEAC=6;MLEAF=1;MQ=59.95;QD=27.3;SOR=1.042;VQSLOD=4.51;culprit=QD;DB;POSITIVE_TRAIN_SITE;ANNOVAR_DATE=2018-04-16;Func.refGene=intergenic;Gene.refGene=LIN7A,ACSS3;GeneDetail.refGene=dist=112857,dist=27258;ExonicFunc.refGene=.;AAChange.refGene=.;Func.ensGene=intronic;Gene.ensGene=ENSG00000111058;GeneDetail.ensGene=.;ExonicFunc.ensGene=.;AAChange.ensGene=.;cytoBand=12q21.31;gwasCatalog=.;tfbsConsSites=.;wgRna=.;targetScanS=.;Gene_symbol=.;OXPHOS_Complex=.;Ensembl_Gene_ID=.;Ensembl_Protein_ID=.;Uniprot_Name=.;Uniprot_ID=.;NCBI_Gene_ID=.;NCBI_Protein_ID=.;Gene_pos=.;AA_pos=.;AA_sub=.;Codon_sub=.;dbSNP_ID=.;PhyloP_46V=.;PhastCons_46V=.;PhyloP_100V=.;PhastCons_100V=.;SiteVar=.;PolyPhen2_prediction=.;PolyPhen2_score=.;SIFT_prediction=.;SIFT_score=.;FatHmm_prediction=.;FatHmm_score=.;PROVEAN_prediction=.;PROVEAN_score=.;MutAss_prediction=.;MutAss_score=.;EFIN_Swiss_Prot_Score=.;EFIN_Swiss_Prot_Prediction=.;EFIN_HumDiv_Score=.;EFIN_HumDiv_Prediction=.;CADD_score=.;CADD_Phred_score=.;CADD_prediction=.;Carol_prediction=.;Carol_score=.;Condel_score=.;Condel_pred=.;COVEC_WMV=.;COVEC_WMV_prediction=.;PolyPhen2_score_transf=.;PolyPhen2_pred_transf=.;SIFT_score_transf=.;SIFT_pred_transf=.;MutAss_score_transf=.;MutAss_pred_transf=.;Perc_coevo_Sites=.;Mean_MI_score=.;COSMIC_ID=.;Tumor_site=.;Examined_samples=.;Mutation_frequency=.;US=.;Status=.;Associated_disease=.;Presence_in_TD=.;Class_predicted=.;Prob_N=.;Prob_P=.;SIFT_score=.;SIFT_converted_rankscore=.;SIFT_pred=.;Polyphen2_HDIV_score=.;Polyphen2_HDIV_rankscore=.;Polyphen2_HDIV_pred=.;Polyphen2_HVAR_score=.;Polyphen2_HVAR_rankscore=.;Polyphen2_HVAR_pred=.;LRT_score=.;LRT_converted_rankscore=.;LRT_pred=.;MutationTaster_score=.;MutationTaster_converted_rankscore=.;MutationTaster_pred=.;MutationAssessor_score=.;MutationAssessor_score_rankscore=.;MutationAssessor_pred=.;FATHMM_score=.;FATHMM_converted_rankscore=.;FATHMM_pred=.;PROVEAN_score=.;PROVEAN_converted_rankscore=.;PROVEAN_pred=.;VEST3_score=.;VEST3_rankscore=.;MetaSVM_score=.;MetaSVM_rankscore=.;MetaSVM_pred=.;MetaLR_score=.;MetaLR_rankscore=.;MetaLR_pred=.;M-CAP_score=.;M-CAP_rankscore=.;M-CAP_pred=.;CADD_raw=.;CADD_raw_rankscore=.;CADD_phred=.;DANN_score=.;DANN_rankscore=.;fathmm-MKL_coding_score=.;fathmm-MKL_coding_rankscore=.;fathmm-MKL_coding_pred=.;Eigen_coding_or_noncoding=.;Eigen-raw=.;Eigen-PC-raw=.;GenoCanyon_score=.;GenoCanyon_score_rankscore=.;integrated_fitCons_score=.;integrated_fitCons_score_rankscore=.;integrated_confidence_value=.;GERP++_RS=.;GERP++_RS_rankscore=.;phyloP100way_vertebrate=.;phyloP100way_vertebrate_rankscore=.;phyloP20way_mammalian=.;phyloP20way_mammalian_rankscore=.;phastCons100way_vertebrate=.;phastCons100way_vertebrate_rankscore=.;phastCons20way_mammalian=.;phastCons20way_mammalian_rankscore=.;SiPhy_29way_logOdds=.;SiPhy_29way_logOdds_rankscore=.;Interpro_domain=.;GTEx_V6_gene=.;GTEx_V6_tissue=.;esp6500siv2_all=.;esp6500siv2_aa=.;esp6500siv2_ea=.;ExAC_ALL=.;ExAC_AFR=.;ExAC_AMR=.;ExAC_EAS=.;ExAC_FIN=.;ExAC_NFE=.;ExAC_OTH=.;ExAC_SAS=.;ExAC_nontcga_ALL=.;ExAC_nontcga_AFR=.;ExAC_nontcga_AMR=.;ExAC_nontcga_EAS=.;ExAC_nontcga_FIN=.;ExAC_nontcga_NFE=.;ExAC_nontcga_OTH=.;ExAC_nontcga_SAS=.;ExAC_nonpsych_ALL=.;ExAC_nonpsych_AFR=.;ExAC_nonpsych_AMR=.;ExAC_nonpsych_EAS=.;ExAC_nonpsych_FIN=.;ExAC_nonpsych_NFE=.;ExAC_nonpsych_OTH=.;ExAC_nonpsych_SAS=.;1000g2015aug_all=0.9998;1000g2015aug_afr=0.9992;1000g2015aug_amr=1;1000g2015aug_eur=1;1000g2015aug_sas=1;CLNALLELEID=.;CLNDN=.;CLNDISDB=.;CLNREVSTAT=.;CLNSIG=.;dbscSNV_ADA_SCORE=.;dbscSNV_RF_SCORE=.;snp138NonFlagged=rs10746177;avsnp150=rs10746177;CADD13_RawScore=-0.101662;CADD13_PHRED=1.718;Eigen=-0.4730;REVEL=.;MCAP=.;Interpro_domain=.;ICGC_Id=.;ICGC_Occurrence=.;gnomAD_genome_ALL=0.9988;gnomAD_genome_AFR=0.9961;gnomAD_genome_AMR=1;gnomAD_genome_ASJ=1;gnomAD_genome_EAS=1;gnomAD_genome_FIN=1;gnomAD_genome_NFE=0.9998;gnomAD_genome_OTH=1;gerp++gt2=.;cosmic70=.;InterVar_automated=.;PVS1=.;PS1=.;PS2=.;PS3=.;PS4=.;PM1=.;PM2=.;PM3=.;PM4=.;PM5=.;PM6=.;PP1=.;PP2=.;PP3=.;PP4=.;PP5=.;BA1=.;BS1=.;BS2=.;BS3=.;BS4=.;BP1=.;BP2=.;BP3=.;BP4=.;BP5=.;BP6=.;BP7=.;Kaviar_AF=0.953358;Kaviar_AC=24814;Kaviar_AN=26028;ALLELE_END',\n",
       "  'SAMPLE': {'I': {'GT': '1/1',\n",
       "    'AD': '0,72',\n",
       "    'DP': '72',\n",
       "    'GQ': '99',\n",
       "    'PL': '1905,214,0'},\n",
       "   'D': {'GT': '1/1',\n",
       "    'AD': '0,56',\n",
       "    'DP': '56',\n",
       "    'GQ': '99',\n",
       "    'PL': '1568,168,0'},\n",
       "   'E': {'GT': '1/1',\n",
       "    'AD': '0,56',\n",
       "    'DP': '56',\n",
       "    'GQ': '99',\n",
       "    'PL': '1563,168,0'},\n",
       "   'F': {'GT': '1/1',\n",
       "    'AD': '0,72',\n",
       "    'DP': '72',\n",
       "    'GQ': '99',\n",
       "    'PL': '1905,214,0'},\n",
       "   'A': {'GT': '1/1',\n",
       "    'AD': '0,56',\n",
       "    'DP': '56',\n",
       "    'GQ': '99',\n",
       "    'PL': '1568,168,0'},\n",
       "   'L': {'GT': '1/1',\n",
       "    'AD': '0,56',\n",
       "    'DP': '56',\n",
       "    'GQ': '99',\n",
       "    'PL': '1563,168,0'},\n",
       "   'T': {'GT': '1/1',\n",
       "    'AD': '0,72',\n",
       "    'DP': '72',\n",
       "    'GQ': '99',\n",
       "    'PL': '1905,214,0'},\n",
       "   'Q': {'GT': '1/1',\n",
       "    'AD': '0,56',\n",
       "    'DP': '56',\n",
       "    'GQ': '99',\n",
       "    'PL': '1568,168,0'},\n",
       "   'U': {'GT': '1/1',\n",
       "    'AD': '0,56',\n",
       "    'DP': '56',\n",
       "    'GQ': '99',\n",
       "    'PL': '1563,168,0'},\n",
       "   'N': {'GT': '1/1',\n",
       "    'AD': '0,72',\n",
       "    'DP': '72',\n",
       "    'GQ': '99',\n",
       "    'PL': '1905,214,0'},\n",
       "   'X': {'GT': '1/1',\n",
       "    'AD': '0,56',\n",
       "    'DP': '56',\n",
       "    'GQ': '99',\n",
       "    'PL': '1568,168,0'},\n",
       "   'G': {'GT': '1/1',\n",
       "    'AD': '0,56',\n",
       "    'DP': '56',\n",
       "    'GQ': '99',\n",
       "    'PL': '1563,168,0'}}}]"
      ]
     },
     "execution_count": 62,
     "metadata": {},
     "output_type": "execute_result"
    }
   ],
   "source": [
    "print(len(read_vcf_file(\"two_variants.vcf\")))\n",
    "read_vcf_file(\"two_variants.vcf\")\n",
    "\n",
    "\n"
   ]
  },
  {
   "cell_type": "code",
   "execution_count": 64,
   "metadata": {},
   "outputs": [
    {
     "data": {
      "text/plain": [
       "['AC=1;AF=0.167;AN=6;BaseQRankSum=-2.542;ClippingRankSum=0;DP=180;ExcessHet=3.0103;FS=0;MLEAC=1;MLEAF=0.167;MQ=52.77;MQRankSum=-4.631;QD=0.39;ReadPosRankSum=1.45;SOR=0.758;VQSLOD=-8.209;culprit=MQ;ANNOVAR_DATE=2018-04-16;Func.refGene=intergenic;Gene.refGene=IL2,IL21;GeneDetail.refGene=dist=38536,dist=117597;ExonicFunc.refGene=.;AAChange.refGene=.;Func.ensGene=intergenic;Gene.ensGene=ENSG00000109471,ENSG00000138684;GeneDetail.ensGene=dist=38306,dist=117597;ExonicFunc.ensGene=.;AAChange.ensGene=.;cytoBand=4q27;gwasCatalog=.;tfbsConsSites=.;wgRna=.;targetScanS=.;Gene_symbol=.;OXPHOS_Complex=.;Ensembl_Gene_ID=.;Ensembl_Protein_ID=.;Uniprot_Name=.;Uniprot_ID=.;NCBI_Gene_ID=.;NCBI_Protein_ID=.;Gene_pos=.;AA_pos=.;AA_sub=.;Codon_sub=.;dbSNP_ID=.;PhyloP_46V=.;PhastCons_46V=.;PhyloP_100V=.;PhastCons_100V=.;SiteVar=.;PolyPhen2_prediction=.;PolyPhen2_score=.;SIFT_prediction=.;SIFT_score=.;FatHmm_prediction=.;FatHmm_score=.;PROVEAN_prediction=.;PROVEAN_score=.;MutAss_prediction=.;MutAss_score=.;EFIN_Swiss_Prot_Score=.;EFIN_Swiss_Prot_Prediction=.;EFIN_HumDiv_Score=.;EFIN_HumDiv_Prediction=.;CADD_score=.;CADD_Phred_score=.;CADD_prediction=.;Carol_prediction=.;Carol_score=.;Condel_score=.;Condel_pred=.;COVEC_WMV=.;COVEC_WMV_prediction=.;PolyPhen2_score_transf=.;PolyPhen2_pred_transf=.;SIFT_score_transf=.;SIFT_pred_transf=.;MutAss_score_transf=.;MutAss_pred_transf=.;Perc_coevo_Sites=.;Mean_MI_score=.;COSMIC_ID=.;Tumor_site=.;Examined_samples=.;Mutation_frequency=.;US=.;Status=.;Associated_disease=.;Presence_in_TD=.;Class_predicted=.;Prob_N=.;Prob_P=.;SIFT_score=.;SIFT_converted_rankscore=.;SIFT_pred=.;Polyphen2_HDIV_score=.;Polyphen2_HDIV_rankscore=.;Polyphen2_HDIV_pred=.;Polyphen2_HVAR_score=.;Polyphen2_HVAR_rankscore=.;Polyphen2_HVAR_pred=.;LRT_score=.;LRT_converted_rankscore=.;LRT_pred=.;MutationTaster_score=.;MutationTaster_converted_rankscore=.;MutationTaster_pred=.;MutationAssessor_score=.;MutationAssessor_score_rankscore=.;MutationAssessor_pred=.;FATHMM_score=.;FATHMM_converted_rankscore=.;FATHMM_pred=.;PROVEAN_score=.;PROVEAN_converted_rankscore=.;PROVEAN_pred=.;VEST3_score=.;VEST3_rankscore=.;MetaSVM_score=.;MetaSVM_rankscore=.;MetaSVM_pred=.;MetaLR_score=.;MetaLR_rankscore=.;MetaLR_pred=.;M-CAP_score=.;M-CAP_rankscore=.;M-CAP_pred=.;CADD_raw=.;CADD_raw_rankscore=.;CADD_phred=.;DANN_score=.;DANN_rankscore=.;fathmm-MKL_coding_score=.;fathmm-MKL_coding_rankscore=.;fathmm-MKL_coding_pred=.;Eigen_coding_or_noncoding=.;Eigen-raw=.;Eigen-PC-raw=.;GenoCanyon_score=.;GenoCanyon_score_rankscore=.;integrated_fitCons_score=.;integrated_fitCons_score_rankscore=.;integrated_confidence_value=.;GERP++_RS=.;GERP++_RS_rankscore=.;phyloP100way_vertebrate=.;phyloP100way_vertebrate_rankscore=.;phyloP20way_mammalian=.;phyloP20way_mammalian_rankscore=.;phastCons100way_vertebrate=.;phastCons100way_vertebrate_rankscore=.;phastCons20way_mammalian=.;phastCons20way_mammalian_rankscore=.;SiPhy_29way_logOdds=.;SiPhy_29way_logOdds_rankscore=.;Interpro_domain=.;GTEx_V6_gene=.;GTEx_V6_tissue=.;esp6500siv2_all=.;esp6500siv2_aa=.;esp6500siv2_ea=.;ExAC_ALL=.;ExAC_AFR=.;ExAC_AMR=.;ExAC_EAS=.;ExAC_FIN=.;ExAC_NFE=.;ExAC_OTH=.;ExAC_SAS=.;ExAC_nontcga_ALL=.;ExAC_nontcga_AFR=.;ExAC_nontcga_AMR=.;ExAC_nontcga_EAS=.;ExAC_nontcga_FIN=.;ExAC_nontcga_NFE=.;ExAC_nontcga_OTH=.;ExAC_nontcga_SAS=.;ExAC_nonpsych_ALL=.;ExAC_nonpsych_AFR=.;ExAC_nonpsych_AMR=.;ExAC_nonpsych_EAS=.;ExAC_nonpsych_FIN=.;ExAC_nonpsych_NFE=.;ExAC_nonpsych_OTH=.;ExAC_nonpsych_SAS=.;1000g2015aug_all=.;1000g2015aug_afr=.;1000g2015aug_amr=.;1000g2015aug_eur=.;1000g2015aug_sas=.;CLNALLELEID=.;CLNDN=.;CLNDISDB=.;CLNREVSTAT=.;CLNSIG=.;dbscSNV_ADA_SCORE=.;dbscSNV_RF_SCORE=.;snp138NonFlagged=.;avsnp150=.;CADD13_RawScore=0.015973;CADD13_PHRED=2.741;Eigen=-0.3239;REVEL=.;MCAP=.;Interpro_domain=.;ICGC_Id=.;ICGC_Occurrence=.;gnomAD_genome_ALL=0.0003;gnomAD_genome_AFR=0.0001;gnomAD_genome_AMR=0;gnomAD_genome_ASJ=0;gnomAD_genome_EAS=0.0007;gnomAD_genome_FIN=0.0009;gnomAD_genome_NFE=0.0002;gnomAD_genome_OTH=0.0011;gerp++gt2=.;cosmic70=.;InterVar_automated=.;PVS1=.;PS1=.;PS2=.;PS3=.;PS4=.;PM1=.;PM2=.;PM3=.;PM4=.;PM5=.;PM6=.;PP1=.;PP2=.;PP3=.;PP4=.;PP5=.;BA1=.;BS1=.;BS2=.;BS3=.;BS4=.;BP1=.;BP2=.;BP3=.;BP4=.;BP5=.;BP6=.;BP7=.;Kaviar_AF=.;Kaviar_AC=.;Kaviar_AN=.;ALLELE_END',\n",
       " 'AC=6;AF=1;AN=6;DP=185;ExcessHet=3.0103;FS=0;MLEAC=6;MLEAF=1;MQ=59.95;QD=27.3;SOR=1.042;VQSLOD=4.51;culprit=QD;DB;POSITIVE_TRAIN_SITE;ANNOVAR_DATE=2018-04-16;Func.refGene=intergenic;Gene.refGene=LIN7A,ACSS3;GeneDetail.refGene=dist=112857,dist=27258;ExonicFunc.refGene=.;AAChange.refGene=.;Func.ensGene=intronic;Gene.ensGene=ENSG00000111058;GeneDetail.ensGene=.;ExonicFunc.ensGene=.;AAChange.ensGene=.;cytoBand=12q21.31;gwasCatalog=.;tfbsConsSites=.;wgRna=.;targetScanS=.;Gene_symbol=.;OXPHOS_Complex=.;Ensembl_Gene_ID=.;Ensembl_Protein_ID=.;Uniprot_Name=.;Uniprot_ID=.;NCBI_Gene_ID=.;NCBI_Protein_ID=.;Gene_pos=.;AA_pos=.;AA_sub=.;Codon_sub=.;dbSNP_ID=.;PhyloP_46V=.;PhastCons_46V=.;PhyloP_100V=.;PhastCons_100V=.;SiteVar=.;PolyPhen2_prediction=.;PolyPhen2_score=.;SIFT_prediction=.;SIFT_score=.;FatHmm_prediction=.;FatHmm_score=.;PROVEAN_prediction=.;PROVEAN_score=.;MutAss_prediction=.;MutAss_score=.;EFIN_Swiss_Prot_Score=.;EFIN_Swiss_Prot_Prediction=.;EFIN_HumDiv_Score=.;EFIN_HumDiv_Prediction=.;CADD_score=.;CADD_Phred_score=.;CADD_prediction=.;Carol_prediction=.;Carol_score=.;Condel_score=.;Condel_pred=.;COVEC_WMV=.;COVEC_WMV_prediction=.;PolyPhen2_score_transf=.;PolyPhen2_pred_transf=.;SIFT_score_transf=.;SIFT_pred_transf=.;MutAss_score_transf=.;MutAss_pred_transf=.;Perc_coevo_Sites=.;Mean_MI_score=.;COSMIC_ID=.;Tumor_site=.;Examined_samples=.;Mutation_frequency=.;US=.;Status=.;Associated_disease=.;Presence_in_TD=.;Class_predicted=.;Prob_N=.;Prob_P=.;SIFT_score=.;SIFT_converted_rankscore=.;SIFT_pred=.;Polyphen2_HDIV_score=.;Polyphen2_HDIV_rankscore=.;Polyphen2_HDIV_pred=.;Polyphen2_HVAR_score=.;Polyphen2_HVAR_rankscore=.;Polyphen2_HVAR_pred=.;LRT_score=.;LRT_converted_rankscore=.;LRT_pred=.;MutationTaster_score=.;MutationTaster_converted_rankscore=.;MutationTaster_pred=.;MutationAssessor_score=.;MutationAssessor_score_rankscore=.;MutationAssessor_pred=.;FATHMM_score=.;FATHMM_converted_rankscore=.;FATHMM_pred=.;PROVEAN_score=.;PROVEAN_converted_rankscore=.;PROVEAN_pred=.;VEST3_score=.;VEST3_rankscore=.;MetaSVM_score=.;MetaSVM_rankscore=.;MetaSVM_pred=.;MetaLR_score=.;MetaLR_rankscore=.;MetaLR_pred=.;M-CAP_score=.;M-CAP_rankscore=.;M-CAP_pred=.;CADD_raw=.;CADD_raw_rankscore=.;CADD_phred=.;DANN_score=.;DANN_rankscore=.;fathmm-MKL_coding_score=.;fathmm-MKL_coding_rankscore=.;fathmm-MKL_coding_pred=.;Eigen_coding_or_noncoding=.;Eigen-raw=.;Eigen-PC-raw=.;GenoCanyon_score=.;GenoCanyon_score_rankscore=.;integrated_fitCons_score=.;integrated_fitCons_score_rankscore=.;integrated_confidence_value=.;GERP++_RS=.;GERP++_RS_rankscore=.;phyloP100way_vertebrate=.;phyloP100way_vertebrate_rankscore=.;phyloP20way_mammalian=.;phyloP20way_mammalian_rankscore=.;phastCons100way_vertebrate=.;phastCons100way_vertebrate_rankscore=.;phastCons20way_mammalian=.;phastCons20way_mammalian_rankscore=.;SiPhy_29way_logOdds=.;SiPhy_29way_logOdds_rankscore=.;Interpro_domain=.;GTEx_V6_gene=.;GTEx_V6_tissue=.;esp6500siv2_all=.;esp6500siv2_aa=.;esp6500siv2_ea=.;ExAC_ALL=.;ExAC_AFR=.;ExAC_AMR=.;ExAC_EAS=.;ExAC_FIN=.;ExAC_NFE=.;ExAC_OTH=.;ExAC_SAS=.;ExAC_nontcga_ALL=.;ExAC_nontcga_AFR=.;ExAC_nontcga_AMR=.;ExAC_nontcga_EAS=.;ExAC_nontcga_FIN=.;ExAC_nontcga_NFE=.;ExAC_nontcga_OTH=.;ExAC_nontcga_SAS=.;ExAC_nonpsych_ALL=.;ExAC_nonpsych_AFR=.;ExAC_nonpsych_AMR=.;ExAC_nonpsych_EAS=.;ExAC_nonpsych_FIN=.;ExAC_nonpsych_NFE=.;ExAC_nonpsych_OTH=.;ExAC_nonpsych_SAS=.;1000g2015aug_all=0.9998;1000g2015aug_afr=0.9992;1000g2015aug_amr=1;1000g2015aug_eur=1;1000g2015aug_sas=1;CLNALLELEID=.;CLNDN=.;CLNDISDB=.;CLNREVSTAT=.;CLNSIG=.;dbscSNV_ADA_SCORE=.;dbscSNV_RF_SCORE=.;snp138NonFlagged=rs10746177;avsnp150=rs10746177;CADD13_RawScore=-0.101662;CADD13_PHRED=1.718;Eigen=-0.4730;REVEL=.;MCAP=.;Interpro_domain=.;ICGC_Id=.;ICGC_Occurrence=.;gnomAD_genome_ALL=0.9988;gnomAD_genome_AFR=0.9961;gnomAD_genome_AMR=1;gnomAD_genome_ASJ=1;gnomAD_genome_EAS=1;gnomAD_genome_FIN=1;gnomAD_genome_NFE=0.9998;gnomAD_genome_OTH=1;gerp++gt2=.;cosmic70=.;InterVar_automated=.;PVS1=.;PS1=.;PS2=.;PS3=.;PS4=.;PM1=.;PM2=.;PM3=.;PM4=.;PM5=.;PM6=.;PP1=.;PP2=.;PP3=.;PP4=.;PP5=.;BA1=.;BS1=.;BS2=.;BS3=.;BS4=.;BP1=.;BP2=.;BP3=.;BP4=.;BP5=.;BP6=.;BP7=.;Kaviar_AF=0.953358;Kaviar_AC=24814;Kaviar_AN=26028;ALLELE_END']"
      ]
     },
     "execution_count": 64,
     "metadata": {},
     "output_type": "execute_result"
    }
   ],
   "source": [
    "extract_info_field(read_vcf_file('two_variants.vcf'))"
   ]
  },
  {
   "cell_type": "code",
   "execution_count": null,
   "metadata": {},
   "outputs": [],
   "source": []
  }
 ],
 "metadata": {
  "kernelspec": {
   "display_name": "Python 3.9.12 ('base')",
   "language": "python",
   "name": "python3"
  },
  "language_info": {
   "codemirror_mode": {
    "name": "ipython",
    "version": 3
   },
   "file_extension": ".py",
   "mimetype": "text/x-python",
   "name": "python",
   "nbconvert_exporter": "python",
   "pygments_lexer": "ipython3",
   "version": "3.9.12"
  },
  "orig_nbformat": 4,
  "vscode": {
   "interpreter": {
    "hash": "cd78fef2128015050713e82ca51c6520b11aee7c9ee8df750520bbbc7384cbaa"
   }
  }
 },
 "nbformat": 4,
 "nbformat_minor": 2
}
