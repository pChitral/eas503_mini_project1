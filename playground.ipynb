{
 "cells": [
  {
   "cell_type": "code",
   "execution_count": 21,
   "metadata": {},
   "outputs": [],
   "source": [
    "def tell_which_type(string):\n",
    "    data_type = None \n",
    "    try:\n",
    "        int(string)\n",
    "        data_type = int\n",
    "        return data_type\n",
    "            \n",
    "    except:\n",
    "        try: \n",
    "            float(string)\n",
    "            data_type = float\n",
    "            return data_type\n",
    "        except:\n",
    "            return str\n",
    "\n",
    "        \n",
    "    \n",
    "    "
   ]
  },
  {
   "cell_type": "code",
   "execution_count": 25,
   "metadata": {},
   "outputs": [
    {
     "data": {
      "text/plain": [
       "float"
      ]
     },
     "execution_count": 25,
     "metadata": {},
     "output_type": "execute_result"
    }
   ],
   "source": [
    "a = tell_which_type(\"2.0\")\n",
    "a"
   ]
  },
  {
   "cell_type": "code",
   "execution_count": 36,
   "metadata": {},
   "outputs": [],
   "source": [
    "def determine_data_type(value):\n",
    "    \"\"\"\n",
    "    The function takes a string input and determines its data type to be either a float, int, or string. \n",
    "    \"\"\"\n",
    "    # BEGIN SOLUTION\n",
    "    data_type = None\n",
    "    try:\n",
    "        int(value)\n",
    "        data_type = int\n",
    "        return data_type\n",
    "\n",
    "    except:\n",
    "        try:\n",
    "            float(value)\n",
    "            data_type = float\n",
    "            return data_type\n",
    "        except:\n",
    "            return str\n",
    "    # END SOLUTION\n",
    "\n",
    "\n",
    "def determine_data_type_of_list(values):\n",
    "    \"\"\"\n",
    "    Write a function whose input is a list of strings. \n",
    "    This function determines the correct data type of all the elements in the list. \n",
    "    For example, ['1', '2', '3'] is int, ['1.1', '2.2', '3.3'] is float, ['1.1', '2', '3.3'] \n",
    "    is also float, and ['1.1', '234String', '3.3'] is str. \n",
    "    The purpose of this function to figure out what to cast an array of strings to. \n",
    "    Some lists might be all ints, in which case the data type is int. \n",
    "    Some might be a mixture of ints and floats, in which case the data type will be a float. \n",
    "    Some lists might be a mixture of ints, floats, and strings, \n",
    "    in which case the data type of the list will be a string.\n",
    "    NOTE: This function should use \"determine_data_type\" function you coded previously\n",
    "    \n",
    "\n",
    "    \"\"\"\n",
    "    # BEGIN SOLUTION\n",
    "    list_data_type = []\n",
    "    for value in values:\n",
    "        if determine_data_type(value) == (str):\n",
    "            return str\n",
    "        if determine_data_type(value) not in list_data_type:\n",
    "            list_data_type.append(determine_data_type(value))\n",
    "    if float in list_data_type:\n",
    "        return float\n",
    "    if int in list_data_type:\n",
    "        return int\n",
    "\n",
    "    # END SOLUTION"
   ]
  },
  {
   "cell_type": "code",
   "execution_count": 37,
   "metadata": {},
   "outputs": [
    {
     "data": {
      "text/plain": [
       "str"
      ]
     },
     "execution_count": 37,
     "metadata": {},
     "output_type": "execute_result"
    }
   ],
   "source": [
    "determine_data_type_of_list([\"1.0\", \"1\", \"asdf2.0\"])"
   ]
  },
  {
   "cell_type": "code",
   "execution_count": null,
   "metadata": {},
   "outputs": [],
   "source": []
  }
 ],
 "metadata": {
  "kernelspec": {
   "display_name": "Python 3.9.12 ('base')",
   "language": "python",
   "name": "python3"
  },
  "language_info": {
   "codemirror_mode": {
    "name": "ipython",
    "version": 3
   },
   "file_extension": ".py",
   "mimetype": "text/x-python",
   "name": "python",
   "nbconvert_exporter": "python",
   "pygments_lexer": "ipython3",
   "version": "3.9.12"
  },
  "orig_nbformat": 4,
  "vscode": {
   "interpreter": {
    "hash": "cd78fef2128015050713e82ca51c6520b11aee7c9ee8df750520bbbc7384cbaa"
   }
  }
 },
 "nbformat": 4,
 "nbformat_minor": 2
}
