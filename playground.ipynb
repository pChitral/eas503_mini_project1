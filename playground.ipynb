{
 "cells": [
  {
   "cell_type": "code",
   "execution_count": 1,
   "metadata": {},
   "outputs": [],
   "source": [
    "def tell_which_type(string):\n",
    "    data_type = None \n",
    "    try:\n",
    "        int(string)\n",
    "        data_type = int\n",
    "        return data_type\n",
    "            \n",
    "    except:\n",
    "        try: \n",
    "            float(string)\n",
    "            data_type = float\n",
    "            return data_type\n",
    "        except:\n",
    "            return str\n",
    "\n",
    "        \n",
    "    \n",
    "    "
   ]
  },
  {
   "cell_type": "code",
   "execution_count": 2,
   "metadata": {},
   "outputs": [
    {
     "data": {
      "text/plain": [
       "float"
      ]
     },
     "execution_count": 2,
     "metadata": {},
     "output_type": "execute_result"
    }
   ],
   "source": [
    "a = tell_which_type(\"2.0\")\n",
    "a\n"
   ]
  },
  {
   "cell_type": "code",
   "execution_count": 3,
   "metadata": {},
   "outputs": [],
   "source": [
    "def determine_data_type(value):\n",
    "    \"\"\"\n",
    "    The function takes a string input and determines its data type to be either a float, int, or string. \n",
    "    \"\"\"\n",
    "    # BEGIN SOLUTION\n",
    "    data_type = None\n",
    "    try:\n",
    "        int(value)\n",
    "        data_type = int\n",
    "        return data_type\n",
    "\n",
    "    except:\n",
    "        try:\n",
    "            float(value)\n",
    "            data_type = float\n",
    "            return data_type\n",
    "        except:\n",
    "            return str\n",
    "    # END SOLUTION\n",
    "\n",
    "\n",
    "def determine_data_type_of_list(values):\n",
    "    \"\"\"\n",
    "    Write a function whose input is a list of strings. \n",
    "    This function determines the correct data type of all the elements in the list. \n",
    "    For example, ['1', '2', '3'] is int, ['1.1', '2.2', '3.3'] is float, ['1.1', '2', '3.3'] \n",
    "    is also float, and ['1.1', '234String', '3.3'] is str. \n",
    "    The purpose of this function to figure out what to cast an array of strings to. \n",
    "    Some lists might be all ints, in which case the data type is int. \n",
    "    Some might be a mixture of ints and floats, in which case the data type will be a float. \n",
    "    Some lists might be a mixture of ints, floats, and strings, \n",
    "    in which case the data type of the list will be a string.\n",
    "    NOTE: This function should use \"determine_data_type\" function you coded previously\n",
    "\n",
    "\n",
    "    \"\"\"\n",
    "    # BEGIN SOLUTION\n",
    "    list_data_type = []\n",
    "    for value in values:\n",
    "        if determine_data_type(value) == (str):\n",
    "            return str\n",
    "        if determine_data_type(value) not in list_data_type:\n",
    "            list_data_type.append(determine_data_type(value))\n",
    "    if float in list_data_type:\n",
    "        return float\n",
    "    if int in list_data_type:\n",
    "        return int\n",
    "\n",
    "    # END SOLUTION\n"
   ]
  },
  {
   "cell_type": "code",
   "execution_count": 4,
   "metadata": {},
   "outputs": [
    {
     "data": {
      "text/plain": [
       "str"
      ]
     },
     "execution_count": 4,
     "metadata": {},
     "output_type": "execute_result"
    }
   ],
   "source": [
    "determine_data_type_of_list([\"1.0\", \"1\", \"asdf2.0\"])\n"
   ]
  },
  {
   "cell_type": "code",
   "execution_count": 5,
   "metadata": {},
   "outputs": [],
   "source": [
    "sample_field = {'XG102': '1/1:0,76:76:99:1|1:48306945_C_G:3353,229,0',\n",
    "                'XG103': '1/1:0,52:52:99:.:.:1517,156,0',\n",
    "                'XG104': '0/1:34,38:72:99:.:.:938,0,796',\n",
    "                'XG202': '1/1:0,76:76:99:1|1:48306945_C_G:3353,229,0',\n",
    "                'XG203': '1/1:0,52:52:99:.:.:1517,156,0',\n",
    "                'XG204': '0/1:34,38:72:99:.:.:938,0,796',\n",
    "                'XG302': '1/1:0,76:76:99:1|1:48306945_C_G:3353,229,0',\n",
    "                'XG303': '1/1:0,52:52:99:.:.:1517,156,0',\n",
    "                'XG304': '0/1:34,38:72:99:.:.:938,0,796',\n",
    "                'XG402': '1/1:0,76:76:99:1|1:48306945_C_G:3353,229,0',\n",
    "                'XG403': '1/1:0,52:52:99:.:.:1517,156,0',\n",
    "                'XG404': '0/1:34,38:72:99:.:.:938,0,796'}\n",
    "format_field = 'GT:AD:DP:GQ:PGT:PID:PL'\n"
   ]
  },
  {
   "cell_type": "code",
   "execution_count": 6,
   "metadata": {},
   "outputs": [
    {
     "name": "stdout",
     "output_type": "stream",
     "text": [
      "7\n",
      "7\n"
     ]
    }
   ],
   "source": [
    "print(len(sample_field[\"XG102\"].split(\":\")))\n",
    "\n",
    "print(len(format_field.split(\":\")))\n"
   ]
  },
  {
   "cell_type": "code",
   "execution_count": 7,
   "metadata": {},
   "outputs": [],
   "source": [
    "output = {}\n",
    "\n",
    "dict_keys = sample_field.keys()\n",
    "inner_keys = format_field.split(\":\")\n",
    "\n",
    "for key in dict_keys:\n",
    "    key_key_value = sample_field[key].split(\":\")\n",
    "    temp_dict = {}\n",
    "    for i in range(len(key_key_value)):\n",
    "        temp_dict[inner_keys[i]] = key_key_value[i]\n",
    "    output[key] = temp_dict\n"
   ]
  },
  {
   "cell_type": "code",
   "execution_count": 8,
   "metadata": {},
   "outputs": [
    {
     "data": {
      "text/plain": [
       "dict_keys(['XG102', 'XG103', 'XG104', 'XG202', 'XG203', 'XG204', 'XG302', 'XG303', 'XG304', 'XG402', 'XG403', 'XG404'])"
      ]
     },
     "execution_count": 8,
     "metadata": {},
     "output_type": "execute_result"
    }
   ],
   "source": [
    "\n",
    "dict_keys\n"
   ]
  },
  {
   "cell_type": "code",
   "execution_count": null,
   "metadata": {},
   "outputs": [],
   "source": []
  },
  {
   "cell_type": "code",
   "execution_count": 9,
   "metadata": {},
   "outputs": [
    {
     "data": {
      "text/plain": [
       "9"
      ]
     },
     "execution_count": 9,
     "metadata": {},
     "output_type": "execute_result"
    }
   ],
   "source": [
    "expected_solution = {'CHROM': '4',\n",
    "                     'POS': '123416186',\n",
    "                     'ID': '.',\n",
    "                     'REF': 'A',\n",
    "                     'ALT': 'G',\n",
    "                     'QUAL': '23.25',\n",
    "                     'FILTER': 'PASS',\n",
    "                     'INFO': 'AC=1;AF=0.167;AN=6;BaseQRankSum=-2.542;ClippingRankSum=0;DP=180;ExcessHet=3.0103;FS=0;MLEAC=1;MLEAF=0.167;MQ=52.77;MQRankSum=-4.631;QD=0.39;ReadPosRankSum=1.45;SOR=0.758;VQSLOD=-8.209;culprit=MQ;ANNOVAR_DATE=2018-04-16;Func.refGene=intergenic;Gene.refGene=IL2,IL21;GeneDetail.refGene=dist=38536,dist=117597;ExonicFunc.refGene=.;AAChange.refGene=.;Func.ensGene=intergenic;Gene.ensGene=ENSG00000109471,ENSG00000138684;GeneDetail.ensGene=dist=38306,dist=117597;ExonicFunc.ensGene=.;AAChange.ensGene=.;cytoBand=4q27;gwasCatalog=.;tfbsConsSites=.;wgRna=.;targetScanS=.;Gene_symbol=.;OXPHOS_Complex=.;Ensembl_Gene_ID=.;Ensembl_Protein_ID=.;Uniprot_Name=.;Uniprot_ID=.;NCBI_Gene_ID=.;NCBI_Protein_ID=.;Gene_pos=.;AA_pos=.;AA_sub=.;Codon_sub=.;dbSNP_ID=.;PhyloP_46V=.;PhastCons_46V=.;PhyloP_100V=.;PhastCons_100V=.;SiteVar=.;PolyPhen2_prediction=.;PolyPhen2_score=.;SIFT_prediction=.;SIFT_score=.;FatHmm_prediction=.;FatHmm_score=.;PROVEAN_prediction=.;PROVEAN_score=.;MutAss_prediction=.;MutAss_score=.;EFIN_Swiss_Prot_Score=.;EFIN_Swiss_Prot_Prediction=.;EFIN_HumDiv_Score=.;EFIN_HumDiv_Prediction=.;CADD_score=.;CADD_Phred_score=.;CADD_prediction=.;Carol_prediction=.;Carol_score=.;Condel_score=.;Condel_pred=.;COVEC_WMV=.;COVEC_WMV_prediction=.;PolyPhen2_score_transf=.;PolyPhen2_pred_transf=.;SIFT_score_transf=.;SIFT_pred_transf=.;MutAss_score_transf=.;MutAss_pred_transf=.;Perc_coevo_Sites=.;Mean_MI_score=.;COSMIC_ID=.;Tumor_site=.;Examined_samples=.;Mutation_frequency=.;US=.;Status=.;Associated_disease=.;Presence_in_TD=.;Class_predicted=.;Prob_N=.;Prob_P=.;SIFT_score=.;SIFT_converted_rankscore=.;SIFT_pred=.;Polyphen2_HDIV_score=.;Polyphen2_HDIV_rankscore=.;Polyphen2_HDIV_pred=.;Polyphen2_HVAR_score=.;Polyphen2_HVAR_rankscore=.;Polyphen2_HVAR_pred=.;LRT_score=.;LRT_converted_rankscore=.;LRT_pred=.;MutationTaster_score=.;MutationTaster_converted_rankscore=.;MutationTaster_pred=.;MutationAssessor_score=.;MutationAssessor_score_rankscore=.;MutationAssessor_pred=.;FATHMM_score=.;FATHMM_converted_rankscore=.;FATHMM_pred=.;PROVEAN_score=.;PROVEAN_converted_rankscore=.;PROVEAN_pred=.;VEST3_score=.;VEST3_rankscore=.;MetaSVM_score=.;MetaSVM_rankscore=.;MetaSVM_pred=.;MetaLR_score=.;MetaLR_rankscore=.;MetaLR_pred=.;M-CAP_score=.;M-CAP_rankscore=.;M-CAP_pred=.;CADD_raw=.;CADD_raw_rankscore=.;CADD_phred=.;DANN_score=.;DANN_rankscore=.;fathmm-MKL_coding_score=.;fathmm-MKL_coding_rankscore=.;fathmm-MKL_coding_pred=.;Eigen_coding_or_noncoding=.;Eigen-raw=.;Eigen-PC-raw=.;GenoCanyon_score=.;GenoCanyon_score_rankscore=.;integrated_fitCons_score=.;integrated_fitCons_score_rankscore=.;integrated_confidence_value=.;GERP++_RS=.;GERP++_RS_rankscore=.;phyloP100way_vertebrate=.;phyloP100way_vertebrate_rankscore=.;phyloP20way_mammalian=.;phyloP20way_mammalian_rankscore=.;phastCons100way_vertebrate=.;phastCons100way_vertebrate_rankscore=.;phastCons20way_mammalian=.;phastCons20way_mammalian_rankscore=.;SiPhy_29way_logOdds=.;SiPhy_29way_logOdds_rankscore=.;Interpro_domain=.;GTEx_V6_gene=.;GTEx_V6_tissue=.;esp6500siv2_all=.;esp6500siv2_aa=.;esp6500siv2_ea=.;ExAC_ALL=.;ExAC_AFR=.;ExAC_AMR=.;ExAC_EAS=.;ExAC_FIN=.;ExAC_NFE=.;ExAC_OTH=.;ExAC_SAS=.;ExAC_nontcga_ALL=.;ExAC_nontcga_AFR=.;ExAC_nontcga_AMR=.;ExAC_nontcga_EAS=.;ExAC_nontcga_FIN=.;ExAC_nontcga_NFE=.;ExAC_nontcga_OTH=.;ExAC_nontcga_SAS=.;ExAC_nonpsych_ALL=.;ExAC_nonpsych_AFR=.;ExAC_nonpsych_AMR=.;ExAC_nonpsych_EAS=.;ExAC_nonpsych_FIN=.;ExAC_nonpsych_NFE=.;ExAC_nonpsych_OTH=.;ExAC_nonpsych_SAS=.;1000g2015aug_all=.;1000g2015aug_afr=.;1000g2015aug_amr=.;1000g2015aug_eur=.;1000g2015aug_sas=.;CLNALLELEID=.;CLNDN=.;CLNDISDB=.;CLNREVSTAT=.;CLNSIG=.;dbscSNV_ADA_SCORE=.;dbscSNV_RF_SCORE=.;snp138NonFlagged=.;avsnp150=.;CADD13_RawScore=0.015973;CADD13_PHRED=2.741;Eigen=-0.3239;REVEL=.;MCAP=.;Interpro_domain=.;ICGC_Id=.;ICGC_Occurrence=.;gnomAD_genome_ALL=0.0003;gnomAD_genome_AFR=0.0001;gnomAD_genome_AMR=0;gnomAD_genome_ASJ=0;gnomAD_genome_EAS=0.0007;gnomAD_genome_FIN=0.0009;gnomAD_genome_NFE=0.0002;gnomAD_genome_OTH=0.0011;gerp++gt2=.;cosmic70=.;InterVar_automated=.;PVS1=.;PS1=.;PS2=.;PS3=.;PS4=.;PM1=.;PM2=.;PM3=.;PM4=.;PM5=.;PM6=.;PP1=.;PP2=.;PP3=.;PP4=.;PP5=.;BA1=.;BS1=.;BS2=.;BS3=.;BS4=.;BP1=.;BP2=.;BP3=.;BP4=.;BP5=.;BP6=.;BP7=.;Kaviar_AF=.;Kaviar_AC=.;Kaviar_AN=.;ALLELE_END',\n",
    "                     'SAMPLE': {\n",
    "                         'XG102': {'GT': '0/1', 'AD': '51,8', 'DP': '59', 'GQ': '32', 'PL': '32,0,1388'},\n",
    "                         'XG103': {'GT': '0/0', 'AD': '47,0', 'DP': '47', 'GQ': '99', 'PL': '0,114,1353'},\n",
    "                         'XG104': {'GT': '0/0', 'AD': '74,0', 'DP': '74', 'GQ': '51', 'PL': '0,51,1827'},\n",
    "                         'XG202': {'GT': '0/1', 'AD': '51,8', 'DP': '59', 'GQ': '32', 'PL': '32,0,1388'},\n",
    "                         'XG203': {'GT': '0/0', 'AD': '47,0', 'DP': '47', 'GQ': '99', 'PL': '0,114,1353'},\n",
    "                         'XG204': {'GT': '0/0', 'AD': '74,0', 'DP': '74', 'GQ': '51', 'PL': '0,51,1827'},\n",
    "                         'XG302': {'GT': '0/1', 'AD': '51,8', 'DP': '59', 'GQ': '32', 'PL': '32,0,1388'},\n",
    "                         'XG303': {'GT': '0/0', 'AD': '47,0', 'DP': '47', 'GQ': '99', 'PL': '0,114,1353'},\n",
    "                         'XG304': {'GT': '0/0', 'AD': '74,0', 'DP': '74', 'GQ': '51', 'PL': '0,51,1827'},\n",
    "                         'XG402': {'GT': '0/1', 'AD': '51,8', 'DP': '59', 'GQ': '32', 'PL': '32,0,1388'},\n",
    "                         'XG403': {'GT': '0/0', 'AD': '47,0', 'DP': '47', 'GQ': '99', 'PL': '0,114,1353'},\n",
    "                         'XG404': {'GT': '0/0', 'AD': '74,0', 'DP': '74', 'GQ': '51', 'PL': '0,51,1827'}\n",
    "                     }\n",
    "                     }\n",
    "len(expected_solution)\n"
   ]
  },
  {
   "cell_type": "code",
   "execution_count": 10,
   "metadata": {},
   "outputs": [
    {
     "data": {
      "text/plain": [
       "False"
      ]
     },
     "execution_count": 10,
     "metadata": {},
     "output_type": "execute_result"
    }
   ],
   "source": [
    "my_sol = {'CHROM': '4',\n",
    "          'POS': '123416186',\n",
    "          'ID': '.',\n",
    "          'REF': 'A',\n",
    "          'ALT': 'G',\n",
    "          'QUAL': '23.25',\n",
    "          'FILTER': 'PASS',\n",
    "          'INFO': 'AC=1;AF=0.167;AN=6;BaseQRankSum=-2.542;ClippingRankSum=0;DP=180;ExcessHet=3.0103;FS=0;MLEAC=1;MLEAF=0.167;MQ=52.77;MQRankSum=-4.631;QD=0.39;ReadPosRankSum=1.45;SOR=0.758;VQSLOD=-8.209;culprit=MQ;ANNOVAR_DATE=2018-04-16;Func.refGene=intergenic;Gene.refGene=IL2,IL21;GeneDetail.refGene=dist=38536,dist=117597;ExonicFunc.refGene=.;AAChange.refGene=.;Func.ensGene=intergenic;Gene.ensGene=ENSG00000109471,ENSG00000138684;GeneDetail.ensGene=dist=38306,dist=117597;ExonicFunc.ensGene=.;AAChange.ensGene=.;cytoBand=4q27;gwasCatalog=.;tfbsConsSites=.;wgRna=.;targetScanS=.;Gene_symbol=.;OXPHOS_Complex=.;Ensembl_Gene_ID=.;Ensembl_Protein_ID=.;Uniprot_Name=.;Uniprot_ID=.;NCBI_Gene_ID=.;NCBI_Protein_ID=.;Gene_pos=.;AA_pos=.;AA_sub=.;Codon_sub=.;dbSNP_ID=.;PhyloP_46V=.;PhastCons_46V=.;PhyloP_100V=.;PhastCons_100V=.;SiteVar=.;PolyPhen2_prediction=.;PolyPhen2_score=.;SIFT_prediction=.;SIFT_score=.;FatHmm_prediction=.;FatHmm_score=.;PROVEAN_prediction=.;PROVEAN_score=.;MutAss_prediction=.;MutAss_score=.;EFIN_Swiss_Prot_Score=.;EFIN_Swiss_Prot_Prediction=.;EFIN_HumDiv_Score=.;EFIN_HumDiv_Prediction=.;CADD_score=.;CADD_Phred_score=.;CADD_prediction=.;Carol_prediction=.;Carol_score=.;Condel_score=.;Condel_pred=.;COVEC_WMV=.;COVEC_WMV_prediction=.;PolyPhen2_score_transf=.;PolyPhen2_pred_transf=.;SIFT_score_transf=.;SIFT_pred_transf=.;MutAss_score_transf=.;MutAss_pred_transf=.;Perc_coevo_Sites=.;Mean_MI_score=.;COSMIC_ID=.;Tumor_site=.;Examined_samples=.;Mutation_frequency=.;US=.;Status=.;Associated_disease=.;Presence_in_TD=.;Class_predicted=.;Prob_N=.;Prob_P=.;SIFT_score=.;SIFT_converted_rankscore=.;SIFT_pred=.;Polyphen2_HDIV_score=.;Polyphen2_HDIV_rankscore=.;Polyphen2_HDIV_pred=.;Polyphen2_HVAR_score=.;Polyphen2_HVAR_rankscore=.;Polyphen2_HVAR_pred=.;LRT_score=.;LRT_converted_rankscore=.;LRT_pred=.;MutationTaster_score=.;MutationTaster_converted_rankscore=.;MutationTaster_pred=.;MutationAssessor_score=.;MutationAssessor_score_rankscore=.;MutationAssessor_pred=.;FATHMM_score=.;FATHMM_converted_rankscore=.;FATHMM_pred=.;PROVEAN_score=.;PROVEAN_converted_rankscore=.;PROVEAN_pred=.;VEST3_score=.;VEST3_rankscore=.;MetaSVM_score=.;MetaSVM_rankscore=.;MetaSVM_pred=.;MetaLR_score=.;MetaLR_rankscore=.;MetaLR_pred=.;M-CAP_score=.;M-CAP_rankscore=.;M-CAP_pred=.;CADD_raw=.;CADD_raw_rankscore=.;CADD_phred=.;DANN_score=.;DANN_rankscore=.;fathmm-MKL_coding_score=.;fathmm-MKL_coding_rankscore=.;fathmm-MKL_coding_pred=.;Eigen_coding_or_noncoding=.;Eigen-raw=.;Eigen-PC-raw=.;GenoCanyon_score=.;GenoCanyon_score_rankscore=.;integrated_fitCons_score=.;integrated_fitCons_score_rankscore=.;integrated_confidence_value=.;GERP++_RS=.;GERP++_RS_rankscore=.;phyloP100way_vertebrate=.;phyloP100way_vertebrate_rankscore=.;phyloP20way_mammalian=.;phyloP20way_mammalian_rankscore=.;phastCons100way_vertebrate=.;phastCons100way_vertebrate_rankscore=.;phastCons20way_mammalian=.;phastCons20way_mammalian_rankscore=.;SiPhy_29way_logOdds=.;SiPhy_29way_logOdds_rankscore=.;Interpro_domain=.;GTEx_V6_gene=.;GTEx_V6_tissue=.;esp6500siv2_all=.;esp6500siv2_aa=.;esp6500siv2_ea=.;ExAC_ALL=.;ExAC_AFR=.;ExAC_AMR=.;ExAC_EAS=.;ExAC_FIN=.;ExAC_NFE=.;ExAC_OTH=.;ExAC_SAS=.;ExAC_nontcga_ALL=.;ExAC_nontcga_AFR=.;ExAC_nontcga_AMR=.;ExAC_nontcga_EAS=.;ExAC_nontcga_FIN=.;ExAC_nontcga_NFE=.;ExAC_nontcga_OTH=.;ExAC_nontcga_SAS=.;ExAC_nonpsych_ALL=.;ExAC_nonpsych_AFR=.;ExAC_nonpsych_AMR=.;ExAC_nonpsych_EAS=.;ExAC_nonpsych_FIN=.;ExAC_nonpsych_NFE=.;ExAC_nonpsych_OTH=.;ExAC_nonpsych_SAS=.;1000g2015aug_all=.;1000g2015aug_afr=.;1000g2015aug_amr=.;1000g2015aug_eur=.;1000g2015aug_sas=.;CLNALLELEID=.;CLNDN=.;CLNDISDB=.;CLNREVSTAT=.;CLNSIG=.;dbscSNV_ADA_SCORE=.;dbscSNV_RF_SCORE=.;snp138NonFlagged=.;avsnp150=.;CADD13_RawScore=0.015973;CADD13_PHRED=2.741;Eigen=-0.3239;REVEL=.;MCAP=.;Interpro_domain=.;ICGC_Id=.;ICGC_Occurrence=.;gnomAD_genome_ALL=0.0003;gnomAD_genome_AFR=0.0001;gnomAD_genome_AMR=0;gnomAD_genome_ASJ=0;gnomAD_genome_EAS=0.0007;gnomAD_genome_FIN=0.0009;gnomAD_genome_NFE=0.0002;gnomAD_genome_OTH=0.0011;gerp++gt2=.;cosmic70=.;InterVar_automated=.;PVS1=.;PS1=.;PS2=.;PS3=.;PS4=.;PM1=.;PM2=.;PM3=.;PM4=.;PM5=.;PM6=.;PP1=.;PP2=.;PP3=.;PP4=.;PP5=.;BA1=.;BS1=.;BS2=.;BS3=.;BS4=.;BP1=.;BP2=.;BP3=.;BP4=.;BP5=.;BP6=.;BP7=.;Kaviar_AF=.;Kaviar_AC=.;Kaviar_AN=.;ALLELE_END',\n",
    "          'SAMPLE': {'XG102': {'0/0': '0/1', '74,0': '51,8', '74': '59', '51': '32', '0,51,1827': '32,0,1388'},\n",
    "                     'XG103': {'0/0': '0/0', '74,0': '47,0', '74': '47', '51': '99', '0,51,1827': '0,114,1353'},\n",
    "                     'XG104': {'0/0': '0/0', '74,0': '74,0', '74': '74', '51': '51', '0,51,1827': '0,51,1827'},\n",
    "                     'XG202': {'0/0': '0/1', '74,0': '51,8', '74': '59', '51': '32', '0,51,1827': '32,0,1388'},\n",
    "                     'XG203': {'0/0': '0/0', '74,0': '47,0', '74': '47', '51': '99', '0,51,1827': '0,114,1353'},\n",
    "                     'XG204': {'0/0': '0/0', '74,0': '74,0', '74': '74', '51': '51', '0,51,1827': '0,51,1827'},\n",
    "                     'XG302': {'0/0': '0/1', '74,0': '51,8', '74': '59', '51': '32', '0,51,1827': '32,0,1388'},\n",
    "                     'XG303': {'0/0': '0/0', '74,0': '47,0', '74': '47', '51': '99', '0,51,1827': '0,114,1353'},\n",
    "                     'XG304': {'0/0': '0/0', '74,0': '74,0', '74': '74', '51': '51', '0,51,1827': '0,51,1827'},\n",
    "                     'XG402': {'0/0': '0/1', '74,0': '51,8', '74': '59', '51': '32', '0,51,1827': '32,0,1388'},\n",
    "                     'XG403': {'0/0': '0/0', '74,0': '47,0', '74': '47', '51': '99', '0,51,1827': '0,114,1353'},\n",
    "                     'XG404': {'0/0': '0/0', '74,0': '74,0', '74': '74', '51': '51', '0,51,1827': '0,51,1827'}}\n",
    "          }\n",
    "expected_solution == my_sol\n"
   ]
  },
  {
   "cell_type": "code",
   "execution_count": 11,
   "metadata": {},
   "outputs": [
    {
     "name": "stdout",
     "output_type": "stream",
     "text": [
      "1\n"
     ]
    }
   ],
   "source": [
    "test_maal = [\"Hello\"]\n",
    "for key in test_maal:\n",
    "    if key == \"Hello\":\n",
    "        print(\"1\")\n"
   ]
  },
  {
   "cell_type": "code",
   "execution_count": 12,
   "metadata": {},
   "outputs": [
    {
     "name": "stdout",
     "output_type": "stream",
     "text": [
      "0\n",
      "1\n",
      "2\n",
      "3\n",
      "4\n",
      "5\n",
      "6\n",
      "7\n"
     ]
    }
   ],
   "source": [
    "for i in range(8):\n",
    "    print(i)\n"
   ]
  },
  {
   "cell_type": "code",
   "execution_count": 13,
   "metadata": {},
   "outputs": [
    {
     "name": "stdout",
     "output_type": "stream",
     "text": [
      "3\n"
     ]
    },
    {
     "data": {
      "text/plain": [
       "'4\\t123416186\\t.\\tA\\tG\\t23.25\\tPASS\\tAC=1;AF=0.167;AN=6;BaseQRankSum=-2.542;ClippingRankSum=0;DP=180;ExcessHet=3.0103;FS=0;MLEAC=1;MLEAF=0.167;MQ=52.77;MQRankSum=-4.631;QD=0.39;ReadPosRankSum=1.45;SOR=0.758;VQSLOD=-8.209;culprit=MQ;ANNOVAR_DATE=2018-04-16;Func.refGene=intergenic;Gene.refGene=IL2,IL21;GeneDetail.refGene=dist=38536,dist=117597;ExonicFunc.refGene=.;AAChange.refGene=.;Func.ensGene=intergenic;Gene.ensGene=ENSG00000109471,ENSG00000138684;GeneDetail.ensGene=dist=38306,dist=117597;ExonicFunc.ensGene=.;AAChange.ensGene=.;cytoBand=4q27;gwasCatalog=.;tfbsConsSites=.;wgRna=.;targetScanS=.;Gene_symbol=.;OXPHOS_Complex=.;Ensembl_Gene_ID=.;Ensembl_Protein_ID=.;Uniprot_Name=.;Uniprot_ID=.;NCBI_Gene_ID=.;NCBI_Protein_ID=.;Gene_pos=.;AA_pos=.;AA_sub=.;Codon_sub=.;dbSNP_ID=.;PhyloP_46V=.;PhastCons_46V=.;PhyloP_100V=.;PhastCons_100V=.;SiteVar=.;PolyPhen2_prediction=.;PolyPhen2_score=.;SIFT_prediction=.;SIFT_score=.;FatHmm_prediction=.;FatHmm_score=.;PROVEAN_prediction=.;PROVEAN_score=.;MutAss_prediction=.;MutAss_score=.;EFIN_Swiss_Prot_Score=.;EFIN_Swiss_Prot_Prediction=.;EFIN_HumDiv_Score=.;EFIN_HumDiv_Prediction=.;CADD_score=.;CADD_Phred_score=.;CADD_prediction=.;Carol_prediction=.;Carol_score=.;Condel_score=.;Condel_pred=.;COVEC_WMV=.;COVEC_WMV_prediction=.;PolyPhen2_score_transf=.;PolyPhen2_pred_transf=.;SIFT_score_transf=.;SIFT_pred_transf=.;MutAss_score_transf=.;MutAss_pred_transf=.;Perc_coevo_Sites=.;Mean_MI_score=.;COSMIC_ID=.;Tumor_site=.;Examined_samples=.;Mutation_frequency=.;US=.;Status=.;Associated_disease=.;Presence_in_TD=.;Class_predicted=.;Prob_N=.;Prob_P=.;SIFT_score=.;SIFT_converted_rankscore=.;SIFT_pred=.;Polyphen2_HDIV_score=.;Polyphen2_HDIV_rankscore=.;Polyphen2_HDIV_pred=.;Polyphen2_HVAR_score=.;Polyphen2_HVAR_rankscore=.;Polyphen2_HVAR_pred=.;LRT_score=.;LRT_converted_rankscore=.;LRT_pred=.;MutationTaster_score=.;MutationTaster_converted_rankscore=.;MutationTaster_pred=.;MutationAssessor_score=.;MutationAssessor_score_rankscore=.;MutationAssessor_pred=.;FATHMM_score=.;FATHMM_converted_rankscore=.;FATHMM_pred=.;PROVEAN_score=.;PROVEAN_converted_rankscore=.;PROVEAN_pred=.;VEST3_score=.;VEST3_rankscore=.;MetaSVM_score=.;MetaSVM_rankscore=.;MetaSVM_pred=.;MetaLR_score=.;MetaLR_rankscore=.;MetaLR_pred=.;M-CAP_score=.;M-CAP_rankscore=.;M-CAP_pred=.;CADD_raw=.;CADD_raw_rankscore=.;CADD_phred=.;DANN_score=.;DANN_rankscore=.;fathmm-MKL_coding_score=.;fathmm-MKL_coding_rankscore=.;fathmm-MKL_coding_pred=.;Eigen_coding_or_noncoding=.;Eigen-raw=.;Eigen-PC-raw=.;GenoCanyon_score=.;GenoCanyon_score_rankscore=.;integrated_fitCons_score=.;integrated_fitCons_score_rankscore=.;integrated_confidence_value=.;GERP++_RS=.;GERP++_RS_rankscore=.;phyloP100way_vertebrate=.;phyloP100way_vertebrate_rankscore=.;phyloP20way_mammalian=.;phyloP20way_mammalian_rankscore=.;phastCons100way_vertebrate=.;phastCons100way_vertebrate_rankscore=.;phastCons20way_mammalian=.;phastCons20way_mammalian_rankscore=.;SiPhy_29way_logOdds=.;SiPhy_29way_logOdds_rankscore=.;Interpro_domain=.;GTEx_V6_gene=.;GTEx_V6_tissue=.;esp6500siv2_all=.;esp6500siv2_aa=.;esp6500siv2_ea=.;ExAC_ALL=.;ExAC_AFR=.;ExAC_AMR=.;ExAC_EAS=.;ExAC_FIN=.;ExAC_NFE=.;ExAC_OTH=.;ExAC_SAS=.;ExAC_nontcga_ALL=.;ExAC_nontcga_AFR=.;ExAC_nontcga_AMR=.;ExAC_nontcga_EAS=.;ExAC_nontcga_FIN=.;ExAC_nontcga_NFE=.;ExAC_nontcga_OTH=.;ExAC_nontcga_SAS=.;ExAC_nonpsych_ALL=.;ExAC_nonpsych_AFR=.;ExAC_nonpsych_AMR=.;ExAC_nonpsych_EAS=.;ExAC_nonpsych_FIN=.;ExAC_nonpsych_NFE=.;ExAC_nonpsych_OTH=.;ExAC_nonpsych_SAS=.;1000g2015aug_all=.;1000g2015aug_afr=.;1000g2015aug_amr=.;1000g2015aug_eur=.;1000g2015aug_sas=.;CLNALLELEID=.;CLNDN=.;CLNDISDB=.;CLNREVSTAT=.;CLNSIG=.;dbscSNV_ADA_SCORE=.;dbscSNV_RF_SCORE=.;snp138NonFlagged=.;avsnp150=.;CADD13_RawScore=0.015973;CADD13_PHRED=2.741;Eigen=-0.3239;REVEL=.;MCAP=.;Interpro_domain=.;ICGC_Id=.;ICGC_Occurrence=.;gnomAD_genome_ALL=0.0003;gnomAD_genome_AFR=0.0001;gnomAD_genome_AMR=0;gnomAD_genome_ASJ=0;gnomAD_genome_EAS=0.0007;gnomAD_genome_FIN=0.0009;gnomAD_genome_NFE=0.0002;gnomAD_genome_OTH=0.0011;gerp++gt2=.;cosmic70=.;InterVar_automated=.;PVS1=.;PS1=.;PS2=.;PS3=.;PS4=.;PM1=.;PM2=.;PM3=.;PM4=.;PM5=.;PM6=.;PP1=.;PP2=.;PP3=.;PP4=.;PP5=.;BA1=.;BS1=.;BS2=.;BS3=.;BS4=.;BP1=.;BP2=.;BP3=.;BP4=.;BP5=.;BP6=.;BP7=.;Kaviar_AF=.;Kaviar_AC=.;Kaviar_AN=.;ALLELE_END\\tGT:AD:DP:GQ:PL\\t0/1:51,8:59:32:32,0,1388\\t0/0:47,0:47:99:0,114,1353\\t0/0:74,0:74:51:0,51,1827\\t0/1:51,8:59:32:32,0,1388\\t0/0:47,0:47:99:0,114,1353\\t0/0:74,0:74:51:0,51,1827\\t0/1:51,8:59:32:32,0,1388\\t0/0:47,0:47:99:0,114,1353\\t0/0:74,0:74:51:0,51,1827\\t0/1:51,8:59:32:32,0,1388\\t0/0:47,0:47:99:0,114,1353\\t0/0:74,0:74:51:0,51,1827'"
      ]
     },
     "execution_count": 13,
     "metadata": {},
     "output_type": "execute_result"
    }
   ],
   "source": [
    "with open(\"two_variants.vcf\") as file:\n",
    "    list_of_lines = []\n",
    "    for line in file:\n",
    "        if not line.strip():\n",
    "            continue\n",
    "        list_of_lines.append(line.strip(\"\\n\"))\n",
    "print(len(list_of_lines))\n",
    "list_of_lines[1]\n"
   ]
  },
  {
   "cell_type": "code",
   "execution_count": 14,
   "metadata": {},
   "outputs": [],
   "source": [
    "def determine_data_type(value):\n",
    "    \"\"\"\n",
    "    The function takes a string input and determines its data type to be either a float, int, or string. \n",
    "    \"\"\"\n",
    "    # BEGIN SOLUTION\n",
    "    data_type = None\n",
    "    try:\n",
    "        int(value)\n",
    "        data_type = int\n",
    "        return data_type\n",
    "\n",
    "    except:\n",
    "        try:\n",
    "            float(value)\n",
    "            data_type = float\n",
    "            return data_type\n",
    "        except:\n",
    "            return str\n",
    "    # END SOLUTION\n",
    "\n",
    "\n",
    "def determine_data_type_of_list(values):\n",
    "    \"\"\"\n",
    "    Write a function whose input is a list of strings. \n",
    "    This function determines the correct data type of all the elements in the list. \n",
    "    For example, ['1', '2', '3'] is int, ['1.1', '2.2', '3.3'] is float, ['1.1', '2', '3.3'] \n",
    "    is also float, and ['1.1', '234String', '3.3'] is str. \n",
    "    The purpose of this function to figure out what to cast an array of strings to. \n",
    "    Some lists might be all ints, in which case the data type is int. \n",
    "    Some might be a mixture of ints and floats, in which case the data type will be a float. \n",
    "    Some lists might be a mixture of ints, floats, and strings, \n",
    "    in which case the data type of the list will be a string.\n",
    "    NOTE: This function should use \"determine_data_type\" function you coded previously\n",
    "\n",
    "\n",
    "    \"\"\"\n",
    "    # BEGIN SOLUTION\n",
    "    list_data_type = []\n",
    "    for value in values:\n",
    "        if determine_data_type(value) == (str):\n",
    "            return str\n",
    "        if determine_data_type(value) not in list_data_type:\n",
    "            list_data_type.append(determine_data_type(value))\n",
    "    if float in list_data_type:\n",
    "        return float\n",
    "    if int in list_data_type:\n",
    "        return int\n",
    "\n",
    "    # END SOLUTION\n",
    "\n",
    "\n",
    "def format_sample_fields(format_field, sample_field):\n",
    "    \"\"\"\n",
    "    Write a function whose inputs are a format field and sample field. \n",
    "    The format field looks like format_field = 'GT:AD:DP:GQ:PGT:PID:PL' and \n",
    "    the sample field looks like\n",
    "\n",
    "    sample_field = {'XG102': '1/1:0,76:76:99:1|1:48306945_C_G:3353,229,0',\n",
    "                'XG103': '1/1:0,52:52:99:.:.:1517,156,0',\n",
    "                'XG104': '0/1:34,38:72:99:.:.:938,0,796',\n",
    "                'XG202': '1/1:0,76:76:99:1|1:48306945_C_G:3353,229,0',\n",
    "                'XG203': '1/1:0,52:52:99:.:.:1517,156,0',\n",
    "                'XG204': '0/1:34,38:72:99:.:.:938,0,796',\n",
    "                'XG302': '1/1:0,76:76:99:1|1:48306945_C_G:3353,229,0',\n",
    "                'XG303': '1/1:0,52:52:99:.:.:1517,156,0',\n",
    "                'XG304': '0/1:34,38:72:99:.:.:938,0,796',\n",
    "                'XG402': '1/1:0,76:76:99:1|1:48306945_C_G:3353,229,0',\n",
    "                'XG403': '1/1:0,52:52:99:.:.:1517,156,0',\n",
    "                'XG404': '0/1:34,38:72:99:.:.:938,0,796'}\n",
    "\n",
    "    Transform the inputs such that the output looks like this:\n",
    "\n",
    "    output = {\n",
    "        'XG102': {'AD': '0,76',\n",
    "            'DP': '76',\n",
    "            'GQ': '99',\n",
    "            'GT': '1/1',\n",
    "            'PGT': '1|1',\n",
    "            'PID': '48306945_C_G',\n",
    "            'PL': '3353,229,0'},\n",
    "        'XG103': {'AD': '0,52',\n",
    "                'DP': '52',\n",
    "                'GQ': '99',\n",
    "                'GT': '1/1',\n",
    "                'PGT': '.',\n",
    "                'PID': '.',\n",
    "                'PL': '1517,156,0'},\n",
    "        'XG104': {'AD': '34,38',\n",
    "                'DP': '72',\n",
    "                'GQ': '99',\n",
    "                'GT': '0/1',\n",
    "                'PGT': '.',\n",
    "                'PID': '.',\n",
    "                'PL': '938,0,796'},\n",
    "        'XG202': {'AD': '0,76',\n",
    "                'DP': '76',\n",
    "                'GQ': '99',\n",
    "                'GT': '1/1',\n",
    "                'PGT': '1|1',\n",
    "                'PID': '48306945_C_G',\n",
    "                'PL': '3353,229,0'},\n",
    "        'XG203': {'AD': '0,52',\n",
    "                'DP': '52',\n",
    "                'GQ': '99',\n",
    "                'GT': '1/1',\n",
    "                'PGT': '.',\n",
    "                'PID': '.',\n",
    "                'PL': '1517,156,0'},\n",
    "        'XG204': {'AD': '34,38',\n",
    "                'DP': '72',\n",
    "                'GQ': '99',\n",
    "                'GT': '0/1',\n",
    "                'PGT': '.',\n",
    "                'PID': '.',\n",
    "                'PL': '938,0,796'},\n",
    "        'XG302': {'AD': '0,76',\n",
    "                'DP': '76',\n",
    "                'GQ': '99',\n",
    "                'GT': '1/1',\n",
    "                'PGT': '1|1',\n",
    "                'PID': '48306945_C_G',\n",
    "                'PL': '3353,229,0'},\n",
    "        'XG303': {'AD': '0,52',\n",
    "                'DP': '52',\n",
    "                'GQ': '99',\n",
    "                'GT': '1/1',\n",
    "                'PGT': '.',\n",
    "                'PID': '.',\n",
    "                'PL': '1517,156,0'},\n",
    "        'XG304': {'AD': '34,38',\n",
    "                'DP': '72',\n",
    "                'GQ': '99',\n",
    "                'GT': '0/1',\n",
    "                'PGT': '.',\n",
    "                'PID': '.',\n",
    "                'PL': '938,0,796'},\n",
    "        'XG402': {'AD': '0,76',\n",
    "                'DP': '76',\n",
    "                'GQ': '99',\n",
    "                'GT': '1/1',\n",
    "                'PGT': '1|1',\n",
    "                'PID': '48306945_C_G',\n",
    "                'PL': '3353,229,0'},\n",
    "        'XG403': {'AD': '0,52',\n",
    "                'DP': '52',\n",
    "                'GQ': '99',\n",
    "                'GT': '1/1',\n",
    "                'PGT': '.',\n",
    "                'PID': '.',\n",
    "                'PL': '1517,156,0'},\n",
    "        'XG404': {'AD': '34,38',\n",
    "                'DP': '72',\n",
    "                'GQ': '99',\n",
    "                'GT': '0/1',\n",
    "                'PGT': '.',\n",
    "                'PID': '.',\n",
    "                'PL': '938,0,796'}}\n",
    "    \"\"\"\n",
    "\n",
    "    # BEGIN SOLUTION\n",
    "    output = {}\n",
    "\n",
    "    dict_keys = sample_field.keys()\n",
    "    inner_keys = format_field.split(\":\")\n",
    "\n",
    "    for key in dict_keys:\n",
    "        key_key_value = sample_field[key].split(\":\")\n",
    "        temp_dict = {}\n",
    "        for i in range(len(key_key_value)):\n",
    "            temp_dict[inner_keys[i]] = key_key_value[i]\n",
    "        output[key] = temp_dict\n",
    "    return output\n",
    "    # END SOLUTION\n",
    "\n",
    "\n",
    "def create_dict_from_line(header, line):\n",
    "    import ipdb\n",
    "    \"\"\"\n",
    "    Given the header and a single line, transform them into dictionary as described above. \n",
    "    Header and line input are provided in this cell. \n",
    "\n",
    "    Write a function whose inputs are a list containing the vcf header and a variant line. \n",
    "    The function should return a dictionary using the header as keys and the variant line as values.\n",
    "    The function should use the format_sample_fields you wrote previously to format the sample fields. \n",
    "    The output of the first line looks like this:\n",
    "\n",
    "    {'ALT': 'G',\n",
    "    'CHROM': '4',\n",
    "    'FILTER': 'PASS',\n",
    "    'ID': '.',\n",
    "    'INFO': 'AC=1;AF=0.167;AN=6;BaseQRankSum=-2.542;ClippingRankSum=0;DP=180;ExcessHet=3.0103;FS=0;MLEAC=1;MLEAF=0.167;MQ=52.77;MQRankSum=-4.631;QD=0.39;ReadPosRankSum=1.45;SOR=0.758;VQSLOD=-8.209;culprit=MQ;ANNOVAR_DATE=2018-04-16;Func.refGene=intergenic;Gene.refGene=IL2,IL21;GeneDetail.refGene=dist=38536,dist=117597;ExonicFunc.refGene=.;AAChange.refGene=.;Func.ensGene=intergenic;Gene.ensGene=ENSG00000109471,ENSG00000138684;GeneDetail.ensGene=dist=38306,dist=117597;ExonicFunc.ensGene=.;AAChange.ensGene=.;cytoBand=4q27;gwasCatalog=.;tfbsConsSites=.;wgRna=.;targetScanS=.;Gene_symbol=.;OXPHOS_Complex=.;Ensembl_Gene_ID=.;Ensembl_Protein_ID=.;Uniprot_Name=.;Uniprot_ID=.;NCBI_Gene_ID=.;NCBI_Protein_ID=.;Gene_pos=.;AA_pos=.;AA_sub=.;Codon_sub=.;dbSNP_ID=.;PhyloP_46V=.;PhastCons_46V=.;PhyloP_100V=.;PhastCons_100V=.;SiteVar=.;PolyPhen2_prediction=.;PolyPhen2_score=.;SIFT_prediction=.;SIFT_score=.;FatHmm_prediction=.;FatHmm_score=.;PROVEAN_prediction=.;PROVEAN_score=.;MutAss_prediction=.;MutAss_score=.;EFIN_Swiss_Prot_Score=.;EFIN_Swiss_Prot_Prediction=.;EFIN_HumDiv_Score=.;EFIN_HumDiv_Prediction=.;CADD_score=.;CADD_Phred_score=.;CADD_prediction=.;Carol_prediction=.;Carol_score=.;Condel_score=.;Condel_pred=.;COVEC_WMV=.;COVEC_WMV_prediction=.;PolyPhen2_score_transf=.;PolyPhen2_pred_transf=.;SIFT_score_transf=.;SIFT_pred_transf=.;MutAss_score_transf=.;MutAss_pred_transf=.;Perc_coevo_Sites=.;Mean_MI_score=.;COSMIC_ID=.;Tumor_site=.;Examined_samples=.;Mutation_frequency=.;US=.;Status=.;Associated_disease=.;Presence_in_TD=.;Class_predicted=.;Prob_N=.;Prob_P=.;SIFT_score=.;SIFT_converted_rankscore=.;SIFT_pred=.;Polyphen2_HDIV_score=.;Polyphen2_HDIV_rankscore=.;Polyphen2_HDIV_pred=.;Polyphen2_HVAR_score=.;Polyphen2_HVAR_rankscore=.;Polyphen2_HVAR_pred=.;LRT_score=.;LRT_converted_rankscore=.;LRT_pred=.;MutationTaster_score=.;MutationTaster_converted_rankscore=.;MutationTaster_pred=.;MutationAssessor_score=.;MutationAssessor_score_rankscore=.;MutationAssessor_pred=.;FATHMM_score=.;FATHMM_converted_rankscore=.;FATHMM_pred=.;PROVEAN_score=.;PROVEAN_converted_rankscore=.;PROVEAN_pred=.;VEST3_score=.;VEST3_rankscore=.;MetaSVM_score=.;MetaSVM_rankscore=.;MetaSVM_pred=.;MetaLR_score=.;MetaLR_rankscore=.;MetaLR_pred=.;M-CAP_score=.;M-CAP_rankscore=.;M-CAP_pred=.;CADD_raw=.;CADD_raw_rankscore=.;CADD_phred=.;DANN_score=.;DANN_rankscore=.;fathmm-MKL_coding_score=.;fathmm-MKL_coding_rankscore=.;fathmm-MKL_coding_pred=.;Eigen_coding_or_noncoding=.;Eigen-raw=.;Eigen-PC-raw=.;GenoCanyon_score=.;GenoCanyon_score_rankscore=.;integrated_fitCons_score=.;integrated_fitCons_score_rankscore=.;integrated_confidence_value=.;GERP++_RS=.;GERP++_RS_rankscore=.;phyloP100way_vertebrate=.;phyloP100way_vertebrate_rankscore=.;phyloP20way_mammalian=.;phyloP20way_mammalian_rankscore=.;phastCons100way_vertebrate=.;phastCons100way_vertebrate_rankscore=.;phastCons20way_mammalian=.;phastCons20way_mammalian_rankscore=.;SiPhy_29way_logOdds=.;SiPhy_29way_logOdds_rankscore=.;Interpro_domain=.;GTEx_V6_gene=.;GTEx_V6_tissue=.;esp6500siv2_all=.;esp6500siv2_aa=.;esp6500siv2_ea=.;ExAC_ALL=.;ExAC_AFR=.;ExAC_AMR=.;ExAC_EAS=.;ExAC_FIN=.;ExAC_NFE=.;ExAC_OTH=.;ExAC_SAS=.;ExAC_nontcga_ALL=.;ExAC_nontcga_AFR=.;ExAC_nontcga_AMR=.;ExAC_nontcga_EAS=.;ExAC_nontcga_FIN=.;ExAC_nontcga_NFE=.;ExAC_nontcga_OTH=.;ExAC_nontcga_SAS=.;ExAC_nonpsych_ALL=.;ExAC_nonpsych_AFR=.;ExAC_nonpsych_AMR=.;ExAC_nonpsych_EAS=.;ExAC_nonpsych_FIN=.;ExAC_nonpsych_NFE=.;ExAC_nonpsych_OTH=.;ExAC_nonpsych_SAS=.;1000g2015aug_all=.;1000g2015aug_afr=.;1000g2015aug_amr=.;1000g2015aug_eur=.;1000g2015aug_sas=.;CLNALLELEID=.;CLNDN=.;CLNDISDB=.;CLNREVSTAT=.;CLNSIG=.;dbscSNV_ADA_SCORE=.;dbscSNV_RF_SCORE=.;snp138NonFlagged=.;avsnp150=.;CADD13_RawScore=0.015973;CADD13_PHRED=2.741;Eigen=-0.3239;REVEL=.;MCAP=.;Interpro_domain=.;ICGC_Id=.;ICGC_Occurrence=.;gnomAD_genome_ALL=0.0003;gnomAD_genome_AFR=0.0001;gnomAD_genome_AMR=0;gnomAD_genome_ASJ=0;gnomAD_genome_EAS=0.0007;gnomAD_genome_FIN=0.0009;gnomAD_genome_NFE=0.0002;gnomAD_genome_OTH=0.0011;gerp++gt2=.;cosmic70=.;InterVar_automated=.;PVS1=.;PS1=.;PS2=.;PS3=.;PS4=.;PM1=.;PM2=.;PM3=.;PM4=.;PM5=.;PM6=.;PP1=.;PP2=.;PP3=.;PP4=.;PP5=.;BA1=.;BS1=.;BS2=.;BS3=.;BS4=.;BP1=.;BP2=.;BP3=.;BP4=.;BP5=.;BP6=.;BP7=.;Kaviar_AF=.;Kaviar_AC=.;Kaviar_AN=.;ALLELE_END',\n",
    "    'POS': '123416186',\n",
    "    'QUAL': '23.25',\n",
    "    'REF': 'A',\n",
    "    'SAMPLE': {'XG102': {'AD': '51,8',\n",
    "                      'DP': '59',\n",
    "                      'GQ': '32',\n",
    "                      'GT': '0/1',\n",
    "                      'PL': '32,0,1388'},\n",
    "            'XG103': {'AD': '47,0',\n",
    "                      'DP': '47',\n",
    "                      'GQ': '99',\n",
    "                      'GT': '0/0',\n",
    "                      'PL': '0,114,1353'},\n",
    "            'XG104': {'AD': '74,0',\n",
    "                      'DP': '74',\n",
    "                      'GQ': '51',\n",
    "                      'GT': '0/0',\n",
    "                      'PL': '0,51,1827'},\n",
    "            'XG202': {'AD': '51,8',\n",
    "                      'DP': '59',\n",
    "                      'GQ': '32',\n",
    "                      'GT': '0/1',\n",
    "                      'PL': '32,0,1388'},\n",
    "            'XG203': {'AD': '47,0',\n",
    "                      'DP': '47',\n",
    "                      'GQ': '99',\n",
    "                      'GT': '0/0',\n",
    "                      'PL': '0,114,1353'},\n",
    "            'XG204': {'AD': '74,0',\n",
    "                      'DP': '74',\n",
    "                      'GQ': '51',\n",
    "                      'GT': '0/0',\n",
    "                      'PL': '0,51,1827'},\n",
    "            'XG302': {'AD': '51,8',\n",
    "                      'DP': '59',\n",
    "                      'GQ': '32',\n",
    "                      'GT': '0/1',\n",
    "                      'PL': '32,0,1388'},\n",
    "            'XG303': {'AD': '47,0',\n",
    "                      'DP': '47',\n",
    "                      'GQ': '99',\n",
    "                      'GT': '0/0',\n",
    "                      'PL': '0,114,1353'},\n",
    "            'XG304': {'AD': '74,0',\n",
    "                      'DP': '74',\n",
    "                      'GQ': '51',\n",
    "                      'GT': '0/0',\n",
    "                      'PL': '0,51,1827'},\n",
    "            'XG402': {'AD': '51,8',\n",
    "                      'DP': '59',\n",
    "                      'GQ': '32',\n",
    "                      'GT': '0/1',\n",
    "                      'PL': '32,0,1388'},\n",
    "            'XG403': {'AD': '47,0',\n",
    "                      'DP': '47',\n",
    "                      'GQ': '99',\n",
    "                      'GT': '0/0',\n",
    "                      'PL': '0,114,1353'},\n",
    "            'XG404': {'AD': '74,0',\n",
    "                      'DP': '74',\n",
    "                      'GQ': '51',\n",
    "                      'GT': '0/0',\n",
    "                      'PL': '0,51,1827'}}}\n",
    "    \"\"\"\n",
    "    # BEGIN SOLUTION\n",
    "\n",
    "    temp_dict = {}\n",
    "    list_of_lines = line.split(\"\\t\")\n",
    "\n",
    "    for key in header:\n",
    "        for i in range(len(list_of_lines)):\n",
    "            temp_dict[key] = list_of_lines[i]\n",
    "\n",
    "    temp_dict_keys = list(temp_dict.keys())\n",
    "\n",
    "    Dict_of_dict_of_everything_after_format = {}\n",
    "    for i in range(9, len(list_of_lines)):\n",
    "        Dict_of_dict_of_everything_after_format[temp_dict_keys[i]\n",
    "                                                ] = list_of_lines[i]\n",
    "\n",
    "    final_ans_dict = {}\n",
    "    for i in range(8):\n",
    "        final_ans_dict[temp_dict_keys[i]] = list_of_lines[i]\n",
    "        if i == 7:\n",
    "            final_ans_dict[\"SAMPLE\"] = format_sample_fields(\n",
    "                list_of_lines[i+1], Dict_of_dict_of_everything_after_format)\n",
    "\n",
    "    # ipdb.set_trace()\n",
    "    return final_ans_dict\n",
    "    # END SOLUTION\n",
    "\n",
    "\n",
    "def read_vcf_file(filename):\n",
    "    \"\"\"\n",
    "    Write a function whose input is a filename for a vcf. \n",
    "    The function reads the vcf file one variant at a time and transforms it \n",
    "    into a dictionary using the create_dict_from_line function. \n",
    "    It returns a list containing all the variant dictionaries. \n",
    "    NOTE: Your function should be able to handle multiple lines.\n",
    "    \"\"\"\n",
    "    # BEGIN SOLUTION\n",
    "    with open(filename) as file:\n",
    "        list_of_lines = []\n",
    "        for line in file:\n",
    "            if not line.strip():\n",
    "                continue\n",
    "            list_of_lines.append(line.strip(\"\\n\"))\n",
    "    list_of_dicts = []\n",
    "    headers = list_of_lines[0].split(\"\\t\")\n",
    "    headers[0] = \"CHROM\"\n",
    "    for i in range(1, len(list_of_lines)):\n",
    "        list_of_dicts.append(create_dict_from_line(headers, list_of_lines[i]))\n",
    "    return list_of_dicts\n",
    "\n",
    "    # END SOLUTION\n",
    "\n",
    "\n",
    "def extract_info_field(data):\n",
    "    \"\"\"\n",
    "    Write a function that extracts the info field from the data dictionary that was \n",
    "    created in the previous part. The function should return all the info field dictionaries as list. \n",
    "    \"\"\"\n",
    "    # BEGIN SOLUTION\n",
    "    answer_list = []\n",
    "    for i in range(len(data)):\n",
    "        answer_list.append(data[i][\"INFO\"])\n",
    "    return answer_list\n",
    "    # END SOLUTION\n"
   ]
  },
  {
   "cell_type": "code",
   "execution_count": 15,
   "metadata": {},
   "outputs": [
    {
     "name": "stdout",
     "output_type": "stream",
     "text": [
      "2\n"
     ]
    },
    {
     "data": {
      "text/plain": [
       "[{'CHROM': '4',\n",
       "  'POS': '123416186',\n",
       "  'ID': '.',\n",
       "  'REF': 'A',\n",
       "  'ALT': 'G',\n",
       "  'QUAL': '23.25',\n",
       "  'FILTER': 'PASS',\n",
       "  'INFO': 'AC=1;AF=0.167;AN=6;BaseQRankSum=-2.542;ClippingRankSum=0;DP=180;ExcessHet=3.0103;FS=0;MLEAC=1;MLEAF=0.167;MQ=52.77;MQRankSum=-4.631;QD=0.39;ReadPosRankSum=1.45;SOR=0.758;VQSLOD=-8.209;culprit=MQ;ANNOVAR_DATE=2018-04-16;Func.refGene=intergenic;Gene.refGene=IL2,IL21;GeneDetail.refGene=dist=38536,dist=117597;ExonicFunc.refGene=.;AAChange.refGene=.;Func.ensGene=intergenic;Gene.ensGene=ENSG00000109471,ENSG00000138684;GeneDetail.ensGene=dist=38306,dist=117597;ExonicFunc.ensGene=.;AAChange.ensGene=.;cytoBand=4q27;gwasCatalog=.;tfbsConsSites=.;wgRna=.;targetScanS=.;Gene_symbol=.;OXPHOS_Complex=.;Ensembl_Gene_ID=.;Ensembl_Protein_ID=.;Uniprot_Name=.;Uniprot_ID=.;NCBI_Gene_ID=.;NCBI_Protein_ID=.;Gene_pos=.;AA_pos=.;AA_sub=.;Codon_sub=.;dbSNP_ID=.;PhyloP_46V=.;PhastCons_46V=.;PhyloP_100V=.;PhastCons_100V=.;SiteVar=.;PolyPhen2_prediction=.;PolyPhen2_score=.;SIFT_prediction=.;SIFT_score=.;FatHmm_prediction=.;FatHmm_score=.;PROVEAN_prediction=.;PROVEAN_score=.;MutAss_prediction=.;MutAss_score=.;EFIN_Swiss_Prot_Score=.;EFIN_Swiss_Prot_Prediction=.;EFIN_HumDiv_Score=.;EFIN_HumDiv_Prediction=.;CADD_score=.;CADD_Phred_score=.;CADD_prediction=.;Carol_prediction=.;Carol_score=.;Condel_score=.;Condel_pred=.;COVEC_WMV=.;COVEC_WMV_prediction=.;PolyPhen2_score_transf=.;PolyPhen2_pred_transf=.;SIFT_score_transf=.;SIFT_pred_transf=.;MutAss_score_transf=.;MutAss_pred_transf=.;Perc_coevo_Sites=.;Mean_MI_score=.;COSMIC_ID=.;Tumor_site=.;Examined_samples=.;Mutation_frequency=.;US=.;Status=.;Associated_disease=.;Presence_in_TD=.;Class_predicted=.;Prob_N=.;Prob_P=.;SIFT_score=.;SIFT_converted_rankscore=.;SIFT_pred=.;Polyphen2_HDIV_score=.;Polyphen2_HDIV_rankscore=.;Polyphen2_HDIV_pred=.;Polyphen2_HVAR_score=.;Polyphen2_HVAR_rankscore=.;Polyphen2_HVAR_pred=.;LRT_score=.;LRT_converted_rankscore=.;LRT_pred=.;MutationTaster_score=.;MutationTaster_converted_rankscore=.;MutationTaster_pred=.;MutationAssessor_score=.;MutationAssessor_score_rankscore=.;MutationAssessor_pred=.;FATHMM_score=.;FATHMM_converted_rankscore=.;FATHMM_pred=.;PROVEAN_score=.;PROVEAN_converted_rankscore=.;PROVEAN_pred=.;VEST3_score=.;VEST3_rankscore=.;MetaSVM_score=.;MetaSVM_rankscore=.;MetaSVM_pred=.;MetaLR_score=.;MetaLR_rankscore=.;MetaLR_pred=.;M-CAP_score=.;M-CAP_rankscore=.;M-CAP_pred=.;CADD_raw=.;CADD_raw_rankscore=.;CADD_phred=.;DANN_score=.;DANN_rankscore=.;fathmm-MKL_coding_score=.;fathmm-MKL_coding_rankscore=.;fathmm-MKL_coding_pred=.;Eigen_coding_or_noncoding=.;Eigen-raw=.;Eigen-PC-raw=.;GenoCanyon_score=.;GenoCanyon_score_rankscore=.;integrated_fitCons_score=.;integrated_fitCons_score_rankscore=.;integrated_confidence_value=.;GERP++_RS=.;GERP++_RS_rankscore=.;phyloP100way_vertebrate=.;phyloP100way_vertebrate_rankscore=.;phyloP20way_mammalian=.;phyloP20way_mammalian_rankscore=.;phastCons100way_vertebrate=.;phastCons100way_vertebrate_rankscore=.;phastCons20way_mammalian=.;phastCons20way_mammalian_rankscore=.;SiPhy_29way_logOdds=.;SiPhy_29way_logOdds_rankscore=.;Interpro_domain=.;GTEx_V6_gene=.;GTEx_V6_tissue=.;esp6500siv2_all=.;esp6500siv2_aa=.;esp6500siv2_ea=.;ExAC_ALL=.;ExAC_AFR=.;ExAC_AMR=.;ExAC_EAS=.;ExAC_FIN=.;ExAC_NFE=.;ExAC_OTH=.;ExAC_SAS=.;ExAC_nontcga_ALL=.;ExAC_nontcga_AFR=.;ExAC_nontcga_AMR=.;ExAC_nontcga_EAS=.;ExAC_nontcga_FIN=.;ExAC_nontcga_NFE=.;ExAC_nontcga_OTH=.;ExAC_nontcga_SAS=.;ExAC_nonpsych_ALL=.;ExAC_nonpsych_AFR=.;ExAC_nonpsych_AMR=.;ExAC_nonpsych_EAS=.;ExAC_nonpsych_FIN=.;ExAC_nonpsych_NFE=.;ExAC_nonpsych_OTH=.;ExAC_nonpsych_SAS=.;1000g2015aug_all=.;1000g2015aug_afr=.;1000g2015aug_amr=.;1000g2015aug_eur=.;1000g2015aug_sas=.;CLNALLELEID=.;CLNDN=.;CLNDISDB=.;CLNREVSTAT=.;CLNSIG=.;dbscSNV_ADA_SCORE=.;dbscSNV_RF_SCORE=.;snp138NonFlagged=.;avsnp150=.;CADD13_RawScore=0.015973;CADD13_PHRED=2.741;Eigen=-0.3239;REVEL=.;MCAP=.;Interpro_domain=.;ICGC_Id=.;ICGC_Occurrence=.;gnomAD_genome_ALL=0.0003;gnomAD_genome_AFR=0.0001;gnomAD_genome_AMR=0;gnomAD_genome_ASJ=0;gnomAD_genome_EAS=0.0007;gnomAD_genome_FIN=0.0009;gnomAD_genome_NFE=0.0002;gnomAD_genome_OTH=0.0011;gerp++gt2=.;cosmic70=.;InterVar_automated=.;PVS1=.;PS1=.;PS2=.;PS3=.;PS4=.;PM1=.;PM2=.;PM3=.;PM4=.;PM5=.;PM6=.;PP1=.;PP2=.;PP3=.;PP4=.;PP5=.;BA1=.;BS1=.;BS2=.;BS3=.;BS4=.;BP1=.;BP2=.;BP3=.;BP4=.;BP5=.;BP6=.;BP7=.;Kaviar_AF=.;Kaviar_AC=.;Kaviar_AN=.;ALLELE_END',\n",
       "  'SAMPLE': {'XG102': {'GT': '0/1',\n",
       "    'AD': '51,8',\n",
       "    'DP': '59',\n",
       "    'GQ': '32',\n",
       "    'PL': '32,0,1388'},\n",
       "   'XG103': {'GT': '0/0',\n",
       "    'AD': '47,0',\n",
       "    'DP': '47',\n",
       "    'GQ': '99',\n",
       "    'PL': '0,114,1353'},\n",
       "   'XG104': {'GT': '0/0',\n",
       "    'AD': '74,0',\n",
       "    'DP': '74',\n",
       "    'GQ': '51',\n",
       "    'PL': '0,51,1827'},\n",
       "   'XG202': {'GT': '0/1',\n",
       "    'AD': '51,8',\n",
       "    'DP': '59',\n",
       "    'GQ': '32',\n",
       "    'PL': '32,0,1388'},\n",
       "   'XG203': {'GT': '0/0',\n",
       "    'AD': '47,0',\n",
       "    'DP': '47',\n",
       "    'GQ': '99',\n",
       "    'PL': '0,114,1353'},\n",
       "   'XG204': {'GT': '0/0',\n",
       "    'AD': '74,0',\n",
       "    'DP': '74',\n",
       "    'GQ': '51',\n",
       "    'PL': '0,51,1827'},\n",
       "   'XG302': {'GT': '0/1',\n",
       "    'AD': '51,8',\n",
       "    'DP': '59',\n",
       "    'GQ': '32',\n",
       "    'PL': '32,0,1388'},\n",
       "   'XG303': {'GT': '0/0',\n",
       "    'AD': '47,0',\n",
       "    'DP': '47',\n",
       "    'GQ': '99',\n",
       "    'PL': '0,114,1353'},\n",
       "   'XG304': {'GT': '0/0',\n",
       "    'AD': '74,0',\n",
       "    'DP': '74',\n",
       "    'GQ': '51',\n",
       "    'PL': '0,51,1827'},\n",
       "   'XG402': {'GT': '0/1',\n",
       "    'AD': '51,8',\n",
       "    'DP': '59',\n",
       "    'GQ': '32',\n",
       "    'PL': '32,0,1388'},\n",
       "   'XG403': {'GT': '0/0',\n",
       "    'AD': '47,0',\n",
       "    'DP': '47',\n",
       "    'GQ': '99',\n",
       "    'PL': '0,114,1353'},\n",
       "   'XG404': {'GT': '0/0',\n",
       "    'AD': '74,0',\n",
       "    'DP': '74',\n",
       "    'GQ': '51',\n",
       "    'PL': '0,51,1827'}}},\n",
       " {'CHROM': '12',\n",
       "  'POS': '81444551',\n",
       "  'ID': 'rs10746177',\n",
       "  'REF': 'T',\n",
       "  'ALT': 'C',\n",
       "  'QUAL': '5022.69',\n",
       "  'FILTER': 'PASS',\n",
       "  'INFO': 'AC=6;AF=1;AN=6;DP=185;ExcessHet=3.0103;FS=0;MLEAC=6;MLEAF=1;MQ=59.95;QD=27.3;SOR=1.042;VQSLOD=4.51;culprit=QD;DB;POSITIVE_TRAIN_SITE;ANNOVAR_DATE=2018-04-16;Func.refGene=intergenic;Gene.refGene=LIN7A,ACSS3;GeneDetail.refGene=dist=112857,dist=27258;ExonicFunc.refGene=.;AAChange.refGene=.;Func.ensGene=intronic;Gene.ensGene=ENSG00000111058;GeneDetail.ensGene=.;ExonicFunc.ensGene=.;AAChange.ensGene=.;cytoBand=12q21.31;gwasCatalog=.;tfbsConsSites=.;wgRna=.;targetScanS=.;Gene_symbol=.;OXPHOS_Complex=.;Ensembl_Gene_ID=.;Ensembl_Protein_ID=.;Uniprot_Name=.;Uniprot_ID=.;NCBI_Gene_ID=.;NCBI_Protein_ID=.;Gene_pos=.;AA_pos=.;AA_sub=.;Codon_sub=.;dbSNP_ID=.;PhyloP_46V=.;PhastCons_46V=.;PhyloP_100V=.;PhastCons_100V=.;SiteVar=.;PolyPhen2_prediction=.;PolyPhen2_score=.;SIFT_prediction=.;SIFT_score=.;FatHmm_prediction=.;FatHmm_score=.;PROVEAN_prediction=.;PROVEAN_score=.;MutAss_prediction=.;MutAss_score=.;EFIN_Swiss_Prot_Score=.;EFIN_Swiss_Prot_Prediction=.;EFIN_HumDiv_Score=.;EFIN_HumDiv_Prediction=.;CADD_score=.;CADD_Phred_score=.;CADD_prediction=.;Carol_prediction=.;Carol_score=.;Condel_score=.;Condel_pred=.;COVEC_WMV=.;COVEC_WMV_prediction=.;PolyPhen2_score_transf=.;PolyPhen2_pred_transf=.;SIFT_score_transf=.;SIFT_pred_transf=.;MutAss_score_transf=.;MutAss_pred_transf=.;Perc_coevo_Sites=.;Mean_MI_score=.;COSMIC_ID=.;Tumor_site=.;Examined_samples=.;Mutation_frequency=.;US=.;Status=.;Associated_disease=.;Presence_in_TD=.;Class_predicted=.;Prob_N=.;Prob_P=.;SIFT_score=.;SIFT_converted_rankscore=.;SIFT_pred=.;Polyphen2_HDIV_score=.;Polyphen2_HDIV_rankscore=.;Polyphen2_HDIV_pred=.;Polyphen2_HVAR_score=.;Polyphen2_HVAR_rankscore=.;Polyphen2_HVAR_pred=.;LRT_score=.;LRT_converted_rankscore=.;LRT_pred=.;MutationTaster_score=.;MutationTaster_converted_rankscore=.;MutationTaster_pred=.;MutationAssessor_score=.;MutationAssessor_score_rankscore=.;MutationAssessor_pred=.;FATHMM_score=.;FATHMM_converted_rankscore=.;FATHMM_pred=.;PROVEAN_score=.;PROVEAN_converted_rankscore=.;PROVEAN_pred=.;VEST3_score=.;VEST3_rankscore=.;MetaSVM_score=.;MetaSVM_rankscore=.;MetaSVM_pred=.;MetaLR_score=.;MetaLR_rankscore=.;MetaLR_pred=.;M-CAP_score=.;M-CAP_rankscore=.;M-CAP_pred=.;CADD_raw=.;CADD_raw_rankscore=.;CADD_phred=.;DANN_score=.;DANN_rankscore=.;fathmm-MKL_coding_score=.;fathmm-MKL_coding_rankscore=.;fathmm-MKL_coding_pred=.;Eigen_coding_or_noncoding=.;Eigen-raw=.;Eigen-PC-raw=.;GenoCanyon_score=.;GenoCanyon_score_rankscore=.;integrated_fitCons_score=.;integrated_fitCons_score_rankscore=.;integrated_confidence_value=.;GERP++_RS=.;GERP++_RS_rankscore=.;phyloP100way_vertebrate=.;phyloP100way_vertebrate_rankscore=.;phyloP20way_mammalian=.;phyloP20way_mammalian_rankscore=.;phastCons100way_vertebrate=.;phastCons100way_vertebrate_rankscore=.;phastCons20way_mammalian=.;phastCons20way_mammalian_rankscore=.;SiPhy_29way_logOdds=.;SiPhy_29way_logOdds_rankscore=.;Interpro_domain=.;GTEx_V6_gene=.;GTEx_V6_tissue=.;esp6500siv2_all=.;esp6500siv2_aa=.;esp6500siv2_ea=.;ExAC_ALL=.;ExAC_AFR=.;ExAC_AMR=.;ExAC_EAS=.;ExAC_FIN=.;ExAC_NFE=.;ExAC_OTH=.;ExAC_SAS=.;ExAC_nontcga_ALL=.;ExAC_nontcga_AFR=.;ExAC_nontcga_AMR=.;ExAC_nontcga_EAS=.;ExAC_nontcga_FIN=.;ExAC_nontcga_NFE=.;ExAC_nontcga_OTH=.;ExAC_nontcga_SAS=.;ExAC_nonpsych_ALL=.;ExAC_nonpsych_AFR=.;ExAC_nonpsych_AMR=.;ExAC_nonpsych_EAS=.;ExAC_nonpsych_FIN=.;ExAC_nonpsych_NFE=.;ExAC_nonpsych_OTH=.;ExAC_nonpsych_SAS=.;1000g2015aug_all=0.9998;1000g2015aug_afr=0.9992;1000g2015aug_amr=1;1000g2015aug_eur=1;1000g2015aug_sas=1;CLNALLELEID=.;CLNDN=.;CLNDISDB=.;CLNREVSTAT=.;CLNSIG=.;dbscSNV_ADA_SCORE=.;dbscSNV_RF_SCORE=.;snp138NonFlagged=rs10746177;avsnp150=rs10746177;CADD13_RawScore=-0.101662;CADD13_PHRED=1.718;Eigen=-0.4730;REVEL=.;MCAP=.;Interpro_domain=.;ICGC_Id=.;ICGC_Occurrence=.;gnomAD_genome_ALL=0.9988;gnomAD_genome_AFR=0.9961;gnomAD_genome_AMR=1;gnomAD_genome_ASJ=1;gnomAD_genome_EAS=1;gnomAD_genome_FIN=1;gnomAD_genome_NFE=0.9998;gnomAD_genome_OTH=1;gerp++gt2=.;cosmic70=.;InterVar_automated=.;PVS1=.;PS1=.;PS2=.;PS3=.;PS4=.;PM1=.;PM2=.;PM3=.;PM4=.;PM5=.;PM6=.;PP1=.;PP2=.;PP3=.;PP4=.;PP5=.;BA1=.;BS1=.;BS2=.;BS3=.;BS4=.;BP1=.;BP2=.;BP3=.;BP4=.;BP5=.;BP6=.;BP7=.;Kaviar_AF=0.953358;Kaviar_AC=24814;Kaviar_AN=26028;ALLELE_END',\n",
       "  'SAMPLE': {'XG102': {'GT': '1/1',\n",
       "    'AD': '0,72',\n",
       "    'DP': '72',\n",
       "    'GQ': '99',\n",
       "    'PL': '1905,214,0'},\n",
       "   'XG103': {'GT': '1/1',\n",
       "    'AD': '0,56',\n",
       "    'DP': '56',\n",
       "    'GQ': '99',\n",
       "    'PL': '1568,168,0'},\n",
       "   'XG104': {'GT': '1/1',\n",
       "    'AD': '0,56',\n",
       "    'DP': '56',\n",
       "    'GQ': '99',\n",
       "    'PL': '1563,168,0'},\n",
       "   'XG202': {'GT': '1/1',\n",
       "    'AD': '0,72',\n",
       "    'DP': '72',\n",
       "    'GQ': '99',\n",
       "    'PL': '1905,214,0'},\n",
       "   'XG203': {'GT': '1/1',\n",
       "    'AD': '0,56',\n",
       "    'DP': '56',\n",
       "    'GQ': '99',\n",
       "    'PL': '1568,168,0'},\n",
       "   'XG204': {'GT': '1/1',\n",
       "    'AD': '0,56',\n",
       "    'DP': '56',\n",
       "    'GQ': '99',\n",
       "    'PL': '1563,168,0'},\n",
       "   'XG302': {'GT': '1/1',\n",
       "    'AD': '0,72',\n",
       "    'DP': '72',\n",
       "    'GQ': '99',\n",
       "    'PL': '1905,214,0'},\n",
       "   'XG303': {'GT': '1/1',\n",
       "    'AD': '0,56',\n",
       "    'DP': '56',\n",
       "    'GQ': '99',\n",
       "    'PL': '1568,168,0'},\n",
       "   'XG304': {'GT': '1/1',\n",
       "    'AD': '0,56',\n",
       "    'DP': '56',\n",
       "    'GQ': '99',\n",
       "    'PL': '1563,168,0'},\n",
       "   'XG402': {'GT': '1/1',\n",
       "    'AD': '0,72',\n",
       "    'DP': '72',\n",
       "    'GQ': '99',\n",
       "    'PL': '1905,214,0'},\n",
       "   'XG403': {'GT': '1/1',\n",
       "    'AD': '0,56',\n",
       "    'DP': '56',\n",
       "    'GQ': '99',\n",
       "    'PL': '1568,168,0'},\n",
       "   'XG404': {'GT': '1/1',\n",
       "    'AD': '0,56',\n",
       "    'DP': '56',\n",
       "    'GQ': '99',\n",
       "    'PL': '1563,168,0'}}}]"
      ]
     },
     "execution_count": 15,
     "metadata": {},
     "output_type": "execute_result"
    }
   ],
   "source": [
    "print(len(read_vcf_file(\"two_variants.vcf\")))\n",
    "read_vcf_file(\"two_variants.vcf\")\n"
   ]
  },
  {
   "cell_type": "code",
   "execution_count": 16,
   "metadata": {},
   "outputs": [
    {
     "data": {
      "text/plain": [
       "['AC=1',\n",
       " 'AF=0.167',\n",
       " 'AN=6',\n",
       " 'BaseQRankSum=-2.542',\n",
       " 'ClippingRankSum=0',\n",
       " 'DP=180',\n",
       " 'ExcessHet=3.0103',\n",
       " 'FS=0',\n",
       " 'MLEAC=1',\n",
       " 'MLEAF=0.167',\n",
       " 'MQ=52.77',\n",
       " 'MQRankSum=-4.631',\n",
       " 'QD=0.39',\n",
       " 'ReadPosRankSum=1.45',\n",
       " 'SOR=0.758',\n",
       " 'VQSLOD=-8.209',\n",
       " 'culprit=MQ',\n",
       " 'ANNOVAR_DATE=2018-04-16',\n",
       " 'Func.refGene=intergenic',\n",
       " 'Gene.refGene=IL2,IL21',\n",
       " 'GeneDetail.refGene=dist=38536,dist=117597',\n",
       " 'ExonicFunc.refGene=.',\n",
       " 'AAChange.refGene=.',\n",
       " 'Func.ensGene=intergenic',\n",
       " 'Gene.ensGene=ENSG00000109471,ENSG00000138684',\n",
       " 'GeneDetail.ensGene=dist=38306,dist=117597',\n",
       " 'ExonicFunc.ensGene=.',\n",
       " 'AAChange.ensGene=.',\n",
       " 'cytoBand=4q27',\n",
       " 'gwasCatalog=.',\n",
       " 'tfbsConsSites=.',\n",
       " 'wgRna=.',\n",
       " 'targetScanS=.',\n",
       " 'Gene_symbol=.',\n",
       " 'OXPHOS_Complex=.',\n",
       " 'Ensembl_Gene_ID=.',\n",
       " 'Ensembl_Protein_ID=.',\n",
       " 'Uniprot_Name=.',\n",
       " 'Uniprot_ID=.',\n",
       " 'NCBI_Gene_ID=.',\n",
       " 'NCBI_Protein_ID=.',\n",
       " 'Gene_pos=.',\n",
       " 'AA_pos=.',\n",
       " 'AA_sub=.',\n",
       " 'Codon_sub=.',\n",
       " 'dbSNP_ID=.',\n",
       " 'PhyloP_46V=.',\n",
       " 'PhastCons_46V=.',\n",
       " 'PhyloP_100V=.',\n",
       " 'PhastCons_100V=.',\n",
       " 'SiteVar=.',\n",
       " 'PolyPhen2_prediction=.',\n",
       " 'PolyPhen2_score=.',\n",
       " 'SIFT_prediction=.',\n",
       " 'SIFT_score=.',\n",
       " 'FatHmm_prediction=.',\n",
       " 'FatHmm_score=.',\n",
       " 'PROVEAN_prediction=.',\n",
       " 'PROVEAN_score=.',\n",
       " 'MutAss_prediction=.',\n",
       " 'MutAss_score=.',\n",
       " 'EFIN_Swiss_Prot_Score=.',\n",
       " 'EFIN_Swiss_Prot_Prediction=.',\n",
       " 'EFIN_HumDiv_Score=.',\n",
       " 'EFIN_HumDiv_Prediction=.',\n",
       " 'CADD_score=.',\n",
       " 'CADD_Phred_score=.',\n",
       " 'CADD_prediction=.',\n",
       " 'Carol_prediction=.',\n",
       " 'Carol_score=.',\n",
       " 'Condel_score=.',\n",
       " 'Condel_pred=.',\n",
       " 'COVEC_WMV=.',\n",
       " 'COVEC_WMV_prediction=.',\n",
       " 'PolyPhen2_score_transf=.',\n",
       " 'PolyPhen2_pred_transf=.',\n",
       " 'SIFT_score_transf=.',\n",
       " 'SIFT_pred_transf=.',\n",
       " 'MutAss_score_transf=.',\n",
       " 'MutAss_pred_transf=.',\n",
       " 'Perc_coevo_Sites=.',\n",
       " 'Mean_MI_score=.',\n",
       " 'COSMIC_ID=.',\n",
       " 'Tumor_site=.',\n",
       " 'Examined_samples=.',\n",
       " 'Mutation_frequency=.',\n",
       " 'US=.',\n",
       " 'Status=.',\n",
       " 'Associated_disease=.',\n",
       " 'Presence_in_TD=.',\n",
       " 'Class_predicted=.',\n",
       " 'Prob_N=.',\n",
       " 'Prob_P=.',\n",
       " 'SIFT_score=.',\n",
       " 'SIFT_converted_rankscore=.',\n",
       " 'SIFT_pred=.',\n",
       " 'Polyphen2_HDIV_score=.',\n",
       " 'Polyphen2_HDIV_rankscore=.',\n",
       " 'Polyphen2_HDIV_pred=.',\n",
       " 'Polyphen2_HVAR_score=.',\n",
       " 'Polyphen2_HVAR_rankscore=.',\n",
       " 'Polyphen2_HVAR_pred=.',\n",
       " 'LRT_score=.',\n",
       " 'LRT_converted_rankscore=.',\n",
       " 'LRT_pred=.',\n",
       " 'MutationTaster_score=.',\n",
       " 'MutationTaster_converted_rankscore=.',\n",
       " 'MutationTaster_pred=.',\n",
       " 'MutationAssessor_score=.',\n",
       " 'MutationAssessor_score_rankscore=.',\n",
       " 'MutationAssessor_pred=.',\n",
       " 'FATHMM_score=.',\n",
       " 'FATHMM_converted_rankscore=.',\n",
       " 'FATHMM_pred=.',\n",
       " 'PROVEAN_score=.',\n",
       " 'PROVEAN_converted_rankscore=.',\n",
       " 'PROVEAN_pred=.',\n",
       " 'VEST3_score=.',\n",
       " 'VEST3_rankscore=.',\n",
       " 'MetaSVM_score=.',\n",
       " 'MetaSVM_rankscore=.',\n",
       " 'MetaSVM_pred=.',\n",
       " 'MetaLR_score=.',\n",
       " 'MetaLR_rankscore=.',\n",
       " 'MetaLR_pred=.',\n",
       " 'M-CAP_score=.',\n",
       " 'M-CAP_rankscore=.',\n",
       " 'M-CAP_pred=.',\n",
       " 'CADD_raw=.',\n",
       " 'CADD_raw_rankscore=.',\n",
       " 'CADD_phred=.',\n",
       " 'DANN_score=.',\n",
       " 'DANN_rankscore=.',\n",
       " 'fathmm-MKL_coding_score=.',\n",
       " 'fathmm-MKL_coding_rankscore=.',\n",
       " 'fathmm-MKL_coding_pred=.',\n",
       " 'Eigen_coding_or_noncoding=.',\n",
       " 'Eigen-raw=.',\n",
       " 'Eigen-PC-raw=.',\n",
       " 'GenoCanyon_score=.',\n",
       " 'GenoCanyon_score_rankscore=.',\n",
       " 'integrated_fitCons_score=.',\n",
       " 'integrated_fitCons_score_rankscore=.',\n",
       " 'integrated_confidence_value=.',\n",
       " 'GERP++_RS=.',\n",
       " 'GERP++_RS_rankscore=.',\n",
       " 'phyloP100way_vertebrate=.',\n",
       " 'phyloP100way_vertebrate_rankscore=.',\n",
       " 'phyloP20way_mammalian=.',\n",
       " 'phyloP20way_mammalian_rankscore=.',\n",
       " 'phastCons100way_vertebrate=.',\n",
       " 'phastCons100way_vertebrate_rankscore=.',\n",
       " 'phastCons20way_mammalian=.',\n",
       " 'phastCons20way_mammalian_rankscore=.',\n",
       " 'SiPhy_29way_logOdds=.',\n",
       " 'SiPhy_29way_logOdds_rankscore=.',\n",
       " 'Interpro_domain=.',\n",
       " 'GTEx_V6_gene=.',\n",
       " 'GTEx_V6_tissue=.',\n",
       " 'esp6500siv2_all=.',\n",
       " 'esp6500siv2_aa=.',\n",
       " 'esp6500siv2_ea=.',\n",
       " 'ExAC_ALL=.',\n",
       " 'ExAC_AFR=.',\n",
       " 'ExAC_AMR=.',\n",
       " 'ExAC_EAS=.',\n",
       " 'ExAC_FIN=.',\n",
       " 'ExAC_NFE=.',\n",
       " 'ExAC_OTH=.',\n",
       " 'ExAC_SAS=.',\n",
       " 'ExAC_nontcga_ALL=.',\n",
       " 'ExAC_nontcga_AFR=.',\n",
       " 'ExAC_nontcga_AMR=.',\n",
       " 'ExAC_nontcga_EAS=.',\n",
       " 'ExAC_nontcga_FIN=.',\n",
       " 'ExAC_nontcga_NFE=.',\n",
       " 'ExAC_nontcga_OTH=.',\n",
       " 'ExAC_nontcga_SAS=.',\n",
       " 'ExAC_nonpsych_ALL=.',\n",
       " 'ExAC_nonpsych_AFR=.',\n",
       " 'ExAC_nonpsych_AMR=.',\n",
       " 'ExAC_nonpsych_EAS=.',\n",
       " 'ExAC_nonpsych_FIN=.',\n",
       " 'ExAC_nonpsych_NFE=.',\n",
       " 'ExAC_nonpsych_OTH=.',\n",
       " 'ExAC_nonpsych_SAS=.',\n",
       " '1000g2015aug_all=.',\n",
       " '1000g2015aug_afr=.',\n",
       " '1000g2015aug_amr=.',\n",
       " '1000g2015aug_eur=.',\n",
       " '1000g2015aug_sas=.',\n",
       " 'CLNALLELEID=.',\n",
       " 'CLNDN=.',\n",
       " 'CLNDISDB=.',\n",
       " 'CLNREVSTAT=.',\n",
       " 'CLNSIG=.',\n",
       " 'dbscSNV_ADA_SCORE=.',\n",
       " 'dbscSNV_RF_SCORE=.',\n",
       " 'snp138NonFlagged=.',\n",
       " 'avsnp150=.',\n",
       " 'CADD13_RawScore=0.015973',\n",
       " 'CADD13_PHRED=2.741',\n",
       " 'Eigen=-0.3239',\n",
       " 'REVEL=.',\n",
       " 'MCAP=.',\n",
       " 'Interpro_domain=.',\n",
       " 'ICGC_Id=.',\n",
       " 'ICGC_Occurrence=.',\n",
       " 'gnomAD_genome_ALL=0.0003',\n",
       " 'gnomAD_genome_AFR=0.0001',\n",
       " 'gnomAD_genome_AMR=0',\n",
       " 'gnomAD_genome_ASJ=0',\n",
       " 'gnomAD_genome_EAS=0.0007',\n",
       " 'gnomAD_genome_FIN=0.0009',\n",
       " 'gnomAD_genome_NFE=0.0002',\n",
       " 'gnomAD_genome_OTH=0.0011',\n",
       " 'gerp++gt2=.',\n",
       " 'cosmic70=.',\n",
       " 'InterVar_automated=.',\n",
       " 'PVS1=.',\n",
       " 'PS1=.',\n",
       " 'PS2=.',\n",
       " 'PS3=.',\n",
       " 'PS4=.',\n",
       " 'PM1=.',\n",
       " 'PM2=.',\n",
       " 'PM3=.',\n",
       " 'PM4=.',\n",
       " 'PM5=.',\n",
       " 'PM6=.',\n",
       " 'PP1=.',\n",
       " 'PP2=.',\n",
       " 'PP3=.',\n",
       " 'PP4=.',\n",
       " 'PP5=.',\n",
       " 'BA1=.',\n",
       " 'BS1=.',\n",
       " 'BS2=.',\n",
       " 'BS3=.',\n",
       " 'BS4=.',\n",
       " 'BP1=.',\n",
       " 'BP2=.',\n",
       " 'BP3=.',\n",
       " 'BP4=.',\n",
       " 'BP5=.',\n",
       " 'BP6=.',\n",
       " 'BP7=.',\n",
       " 'Kaviar_AF=.',\n",
       " 'Kaviar_AC=.',\n",
       " 'Kaviar_AN=.',\n",
       " 'ALLELE_END']"
      ]
     },
     "execution_count": 16,
     "metadata": {},
     "output_type": "execute_result"
    }
   ],
   "source": [
    "extract_info_field(read_vcf_file('two_variants.vcf'))[0].split(\";\")\n"
   ]
  },
  {
   "cell_type": "code",
   "execution_count": 17,
   "metadata": {},
   "outputs": [
    {
     "name": "stdout",
     "output_type": "stream",
     "text": [
      "dict_keys(['AC'])\n"
     ]
    },
    {
     "data": {
      "text/plain": [
       "'6'"
      ]
     },
     "execution_count": 17,
     "metadata": {},
     "output_type": "execute_result"
    }
   ],
   "source": [
    "info_maal = extract_info_field(read_vcf_file('two_variants.vcf'))\n",
    "dicto = {}\n",
    "for i in range(len(info_maal)):\n",
    "    info_maal_2 = extract_info_field(\n",
    "        read_vcf_file('two_variants.vcf'))[i].split(\";\")\n",
    "    for j in range(len(info_maal_2)):\n",
    "        try:\n",
    "            key, value = info_maal_2[j].split(\"=\")\n",
    "            if value != \".\":\n",
    "                if j == 0:\n",
    "                    dicto[key] = value\n",
    "                else:\n",
    "                    dicto[key] = [dicto[key], value]\n",
    "        except:\n",
    "            continue\n",
    "\n",
    "dicto_keys = dicto.keys()\n",
    "\n",
    "print(dicto_keys)\n",
    "dicto[\"AC\"]\n"
   ]
  },
  {
   "cell_type": "code",
   "execution_count": 18,
   "metadata": {},
   "outputs": [
    {
     "name": "stdout",
     "output_type": "stream",
     "text": [
      "251\n"
     ]
    },
    {
     "ename": "ValueError",
     "evalue": "not enough values to unpack (expected 2, got 1)",
     "output_type": "error",
     "traceback": [
      "\u001b[0;31m---------------------------------------------------------------------------\u001b[0m",
      "\u001b[0;31mValueError\u001b[0m                                Traceback (most recent call last)",
      "\u001b[0;32m/var/folders/q4/72ybtynd5sjf5ppl_5vpsw080000gn/T/ipykernel_62647/1454888563.py\u001b[0m in \u001b[0;36m<module>\u001b[0;34m\u001b[0m\n\u001b[1;32m      4\u001b[0m \u001b[0;32mfor\u001b[0m \u001b[0mi\u001b[0m \u001b[0;32min\u001b[0m \u001b[0mrange\u001b[0m\u001b[0;34m(\u001b[0m\u001b[0mlen\u001b[0m\u001b[0;34m(\u001b[0m\u001b[0minfo_maal\u001b[0m\u001b[0;34m)\u001b[0m\u001b[0;34m)\u001b[0m\u001b[0;34m:\u001b[0m\u001b[0;34m\u001b[0m\u001b[0;34m\u001b[0m\u001b[0m\n\u001b[1;32m      5\u001b[0m     \u001b[0;32mfor\u001b[0m \u001b[0mj\u001b[0m \u001b[0;32min\u001b[0m \u001b[0mrange\u001b[0m\u001b[0;34m(\u001b[0m\u001b[0mlen\u001b[0m\u001b[0;34m(\u001b[0m\u001b[0minfo_maal\u001b[0m\u001b[0;34m[\u001b[0m\u001b[0mi\u001b[0m\u001b[0;34m]\u001b[0m\u001b[0;34m)\u001b[0m\u001b[0;34m)\u001b[0m\u001b[0;34m:\u001b[0m\u001b[0;34m\u001b[0m\u001b[0;34m\u001b[0m\u001b[0m\n\u001b[0;32m----> 6\u001b[0;31m         \u001b[0mkey\u001b[0m\u001b[0;34m,\u001b[0m \u001b[0mvalue\u001b[0m \u001b[0;34m=\u001b[0m \u001b[0minfo_maal\u001b[0m\u001b[0;34m[\u001b[0m\u001b[0mi\u001b[0m\u001b[0;34m]\u001b[0m\u001b[0;34m[\u001b[0m\u001b[0mj\u001b[0m\u001b[0;34m]\u001b[0m\u001b[0;34m.\u001b[0m\u001b[0msplit\u001b[0m\u001b[0;34m(\u001b[0m\u001b[0;34m\"=\"\u001b[0m\u001b[0;34m)\u001b[0m\u001b[0;34m\u001b[0m\u001b[0;34m\u001b[0m\u001b[0m\n\u001b[0m\u001b[1;32m      7\u001b[0m         \u001b[0;32mif\u001b[0m \u001b[0mvalue\u001b[0m \u001b[0;34m!=\u001b[0m \u001b[0;34m\".\"\u001b[0m\u001b[0;34m:\u001b[0m\u001b[0;34m\u001b[0m\u001b[0;34m\u001b[0m\u001b[0m\n\u001b[1;32m      8\u001b[0m             \u001b[0mdicto\u001b[0m\u001b[0;34m[\u001b[0m\u001b[0mkey\u001b[0m\u001b[0;34m]\u001b[0m \u001b[0;34m=\u001b[0m \u001b[0mvalue\u001b[0m\u001b[0;34m\u001b[0m\u001b[0;34m\u001b[0m\u001b[0m\n",
      "\u001b[0;31mValueError\u001b[0m: not enough values to unpack (expected 2, got 1)"
     ]
    }
   ],
   "source": [
    "dicto = {}\n",
    "info_maal = extract_info_field(read_vcf_file('two_variants.vcf'))[0].split(\";\")\n",
    "print(len(info_maal))\n",
    "for i in range(len(info_maal)):\n",
    "    for j in range(len(info_maal[i])):\n",
    "        key, value = info_maal[i][j].split(\"=\")\n",
    "        if value != \".\":\n",
    "            dicto[key] = value\n",
    "        dicto\n"
   ]
  },
  {
   "cell_type": "code",
   "execution_count": null,
   "metadata": {},
   "outputs": [],
   "source": [
    "maal = {}\n",
    "print(type(maal[\"ads\"]))\n"
   ]
  },
  {
   "cell_type": "code",
   "execution_count": null,
   "metadata": {},
   "outputs": [],
   "source": [
    "d = {'word': 1, 'word1': 2}\n"
   ]
  },
  {
   "cell_type": "code",
   "execution_count": null,
   "metadata": {},
   "outputs": [],
   "source": [
    "d[\"word\"] = [d[\"word\"], 1]\n",
    "d\n"
   ]
  },
  {
   "cell_type": "code",
   "execution_count": null,
   "metadata": {},
   "outputs": [],
   "source": [
    "info_maal = extract_info_field(read_vcf_file('two_variants.vcf'))\n",
    "dicto = {}\n",
    "for i in range(len(info_maal)):\n",
    "    # info_maal_2 is a list of all the maal values for info for the ith index\n",
    "    info_maal_2 = extract_info_field(\n",
    "        read_vcf_file('two_variants.vcf'))[i].split(\";\")\n",
    "    for j in range(len(info_maal_2)):\n",
    "        try:\n",
    "            key, value = info_maal_2[j].split(\"=\")\n",
    "            if value != \".\":\n",
    "                if j == 0:\n",
    "                    dicto[key] = value\n",
    "\n",
    "        except:\n",
    "            continue\n",
    "\n",
    "dicto_keys = dicto.keys()\n",
    "\n",
    "print(dicto_keys)\n",
    "dicto[\"BaseQRankSum\"]\n"
   ]
  },
  {
   "cell_type": "code",
   "execution_count": null,
   "metadata": {},
   "outputs": [
    {
     "name": "stdout",
     "output_type": "stream",
     "text": [
      "2\n",
      "dict_keys(['AC', 'AF', 'AN', 'BaseQRankSum', 'ClippingRankSum', 'DP', 'ExcessHet', 'FS', 'MLEAC', 'MLEAF', 'MQ', 'MQRankSum', 'QD', 'ReadPosRankSum', 'SOR', 'VQSLOD', 'culprit', 'ANNOVAR_DATE', 'Func.refGene', 'Gene.refGene', 'GeneDetail.refGene', 'Func.ensGene', 'Gene.ensGene', 'GeneDetail.ensGene', 'cytoBand', 'CADD13_RawScore', 'CADD13_PHRED', 'Eigen', 'gnomAD_genome_ALL', 'gnomAD_genome_AFR', 'gnomAD_genome_AMR', 'gnomAD_genome_ASJ', 'gnomAD_genome_EAS', 'gnomAD_genome_FIN', 'gnomAD_genome_NFE', 'gnomAD_genome_OTH', '1000g2015aug_all', '1000g2015aug_afr', '1000g2015aug_amr', '1000g2015aug_eur', '1000g2015aug_sas', 'snp138NonFlagged', 'avsnp150', 'Kaviar_AF', 'Kaviar_AC', 'Kaviar_AN'])\n"
     ]
    },
    {
     "data": {
      "text/plain": [
       "['3.0103', '3.0103']"
      ]
     },
     "execution_count": 43,
     "metadata": {},
     "output_type": "execute_result"
    }
   ],
   "source": [
    "# read_vcf_file('two_variants.vcf') = data when putting this in the function\n",
    "dicto = {}\n",
    "info_maal = extract_info_field(read_vcf_file('two_variants.vcf'))\n",
    "print(len(info_maal))\n",
    "ith_info_maal = []\n",
    "for i in range(len(info_maal)):\n",
    "    ith_info_maal = (info_maal[i].split(\";\"))\n",
    "    for j in range(len(ith_info_maal)):\n",
    "        try:\n",
    "            key, value = ith_info_maal[j].split(\"=\", 1)\n",
    "            if value != \".\":\n",
    "                if key not in dicto.keys():\n",
    "                    dicto[key] = [value]\n",
    "                else:\n",
    "                    dicto[key] += [value]\n",
    "        except:\n",
    "            continue\n",
    "\n",
    "print(dicto.keys())\n",
    "dicto[\"ExcessHet\"]\n",
    "# Don't append the value in the list if it exists.\n",
    "# 2 Keys aren't there\n"
   ]
  },
  {
   "cell_type": "code",
   "execution_count": null,
   "metadata": {},
   "outputs": [],
   "source": [
    "expected_result = {'AC': ['1', '6'], 'AF': ['0.167', '1'], 'AN': ['6'], 'BaseQRankSum': ['-2.542'], 'ClippingRankSum': ['0'], 'DP': ['180', '185'], 'ExcessHet': ['3.0103'], 'FS': ['0'], 'MLEAC': ['1', '6'], 'MLEAF': ['0.167', '1'], 'MQ': ['52.77', '59.95'], 'MQRankSum': ['-4.631'], 'QD': ['0.39', '27.3'], 'ReadPosRankSum': ['1.45'], 'SOR': ['0.758', '1.042'], 'VQSLOD': ['-8.209', '4.51'], 'culprit': ['MQ', 'QD'], 'ANNOVAR_DATE': ['2018-04-16'], 'Func.refGene': ['intergenic'], 'Gene.refGene': ['IL2,IL21', 'LIN7A,ACSS3'], 'GeneDetail.refGene': ['dist=38536,dist=117597', 'dist=112857,dist=27258'], 'Func.ensGene': ['intergenic', 'intronic'], 'Gene.ensGene': ['ENSG00000109471,ENSG00000138684', 'ENSG00000111058'], 'GeneDetail.ensGene': [\n",
    "    'dist=38306,dist=117597'], 'cytoBand': ['4q27', '12q21.31'], 'CADD13_RawScore': ['0.015973', '-0.101662'], 'CADD13_PHRED': ['2.741', '1.718'], 'Eigen': ['-0.3239', '-0.4730'], 'gnomAD_genome_ALL': ['0.0003', '0.9988'], 'gnomAD_genome_AFR': ['0.0001', '0.9961'], 'gnomAD_genome_AMR': ['0', '1'], 'gnomAD_genome_ASJ': ['0', '1'], 'gnomAD_genome_EAS': ['0.0007', '1'], 'gnomAD_genome_FIN': ['0.0009', '1'], 'gnomAD_genome_NFE': ['0.0002', '0.9998'], 'gnomAD_genome_OTH': ['0.0011', '1'], '1000g2015aug_all': ['0.9998'], '1000g2015aug_afr': ['0.9992'], '1000g2015aug_amr': ['1'], '1000g2015aug_eur': ['1'], '1000g2015aug_sas': ['1'], 'snp138NonFlagged': ['rs10746177'], 'avsnp150': ['rs10746177'], 'Kaviar_AF': ['0.953358'], 'Kaviar_AC': ['24814'], 'Kaviar_AN': ['26028']}\n"
   ]
  },
  {
   "cell_type": "code",
   "execution_count": null,
   "metadata": {},
   "outputs": [],
   "source": [
    "len(expected_result)\n"
   ]
  },
  {
   "cell_type": "code",
   "execution_count": null,
   "metadata": {},
   "outputs": [],
   "source": [
    "for maal in expected_result:\n",
    "    if maal not in dicto:\n",
    "        print(maal)\n",
    "len(dicto)\n"
   ]
  },
  {
   "cell_type": "code",
   "execution_count": null,
   "metadata": {},
   "outputs": [
    {
     "ename": "TypeError",
     "evalue": "test_create_dictionary_of_info_field_value() missing 1 required positional argument: 'self'",
     "output_type": "error",
     "traceback": [
      "\u001b[0;31m---------------------------------------------------------------------------\u001b[0m",
      "\u001b[0;31mTypeError\u001b[0m                                 Traceback (most recent call last)",
      "\u001b[1;32m/Users/chitralpatil/Documents/Zia/mini_project1/playground.ipynb Cell 28\u001b[0m in \u001b[0;36m<cell line: 16>\u001b[0;34m()\u001b[0m\n\u001b[1;32m     <a href='vscode-notebook-cell:/Users/chitralpatil/Documents/Zia/mini_project1/playground.ipynb#X36sZmlsZQ%3D%3D?line=10'>11</a>\u001b[0m             value \u001b[39m=\u001b[39m mini_project1\u001b[39m.\u001b[39mcreate_dictionary_of_info_field_values(\n\u001b[1;32m     <a href='vscode-notebook-cell:/Users/chitralpatil/Documents/Zia/mini_project1/playground.ipynb#X36sZmlsZQ%3D%3D?line=11'>12</a>\u001b[0m                 info_field)\n\u001b[1;32m     <a href='vscode-notebook-cell:/Users/chitralpatil/Documents/Zia/mini_project1/playground.ipynb#X36sZmlsZQ%3D%3D?line=12'>13</a>\u001b[0m             \u001b[39mself\u001b[39m\u001b[39m.\u001b[39massertDictEqual(expected_result, value)\n\u001b[0;32m---> <a href='vscode-notebook-cell:/Users/chitralpatil/Documents/Zia/mini_project1/playground.ipynb#X36sZmlsZQ%3D%3D?line=15'>16</a>\u001b[0m TestMiniProject1\u001b[39m.\u001b[39;49mtest_create_dictionary_of_info_field_value()\n",
      "\u001b[0;31mTypeError\u001b[0m: test_create_dictionary_of_info_field_value() missing 1 required positional argument: 'self'"
     ]
    }
   ],
   "source": [
    "import mini_project1\n",
    "import unittest\n"
   ]
  },
  {
   "cell_type": "code",
   "execution_count": null,
   "metadata": {},
   "outputs": [],
   "source": [
    "\"GeneDetail.refGene=dist=38536,dist=117597\".split(\"=\", 1)\n"
   ]
  },
  {
   "cell_type": "code",
   "execution_count": null,
   "metadata": {},
   "outputs": [
    {
     "data": {
      "text/plain": [
       "['dist=38536,dist=117597', 'dist=112857,dist=27258']"
      ]
     },
     "execution_count": 48,
     "metadata": {},
     "output_type": "execute_result"
    }
   ],
   "source": [
    "dicto[\"GeneDetail.refGene\"]\n"
   ]
  },
  {
   "cell_type": "code",
   "execution_count": null,
   "metadata": {},
   "outputs": [],
   "source": [
    "expected_result[\"GeneDetail.refGene\"]\n"
   ]
  },
  {
   "cell_type": "code",
   "execution_count": null,
   "metadata": {},
   "outputs": [],
   "source": [
    "# read_vcf_file('two_variants.vcf') = data when putting this in the function\n",
    "dicto = {}\n",
    "info_maal = extract_info_field(read_vcf_file('two_variants.vcf'))\n",
    "print(len(info_maal))\n",
    "ith_info_maal = []\n",
    "for i in range(len(info_maal)):\n",
    "    ith_info_maal = (info_maal[i].split(\";\"))\n",
    "    for j in range(len(ith_info_maal)):\n",
    "        try:\n",
    "            key, value = ith_info_maal[j].split(\"=\", 1)\n",
    "            if value != \".\":\n",
    "                if key not in dicto.keys():\n",
    "                    dicto[key] = [value]\n",
    "                else:\n",
    "                    if value not in dicto[key]:\n",
    "                        dicto[key] += [value]\n",
    "        except:\n",
    "            continue\n",
    "\n",
    "dicto\n"
   ]
  },
  {
   "cell_type": "code",
   "execution_count": null,
   "metadata": {},
   "outputs": [
    {
     "data": {
      "text/plain": [
       "{'AC': ['1', '6'],\n",
       " 'AF': ['0.167', '1'],\n",
       " 'AN': ['6'],\n",
       " 'BaseQRankSum': ['-2.542'],\n",
       " 'ClippingRankSum': ['0'],\n",
       " 'DP': ['180', '185'],\n",
       " 'ExcessHet': ['3.0103'],\n",
       " 'FS': ['0'],\n",
       " 'MLEAC': ['1', '6'],\n",
       " 'MLEAF': ['0.167', '1'],\n",
       " 'MQ': ['52.77', '59.95'],\n",
       " 'MQRankSum': ['-4.631'],\n",
       " 'QD': ['0.39', '27.3'],\n",
       " 'ReadPosRankSum': ['1.45'],\n",
       " 'SOR': ['0.758', '1.042'],\n",
       " 'VQSLOD': ['-8.209', '4.51'],\n",
       " 'culprit': ['MQ', 'QD'],\n",
       " 'ANNOVAR_DATE': ['2018-04-16'],\n",
       " 'Func.refGene': ['intergenic'],\n",
       " 'Gene.refGene': ['IL2,IL21', 'LIN7A,ACSS3'],\n",
       " 'GeneDetail.refGene': ['dist=38536,dist=117597', 'dist=112857,dist=27258'],\n",
       " 'Func.ensGene': ['intergenic', 'intronic'],\n",
       " 'Gene.ensGene': ['ENSG00000109471,ENSG00000138684', 'ENSG00000111058'],\n",
       " 'GeneDetail.ensGene': ['dist=38306,dist=117597'],\n",
       " 'cytoBand': ['4q27', '12q21.31'],\n",
       " 'CADD13_RawScore': ['0.015973', '-0.101662'],\n",
       " 'CADD13_PHRED': ['2.741', '1.718'],\n",
       " 'Eigen': ['-0.3239', '-0.4730'],\n",
       " 'gnomAD_genome_ALL': ['0.0003', '0.9988'],\n",
       " 'gnomAD_genome_AFR': ['0.0001', '0.9961'],\n",
       " 'gnomAD_genome_AMR': ['0', '1'],\n",
       " 'gnomAD_genome_ASJ': ['0', '1'],\n",
       " 'gnomAD_genome_EAS': ['0.0007', '1'],\n",
       " 'gnomAD_genome_FIN': ['0.0009', '1'],\n",
       " 'gnomAD_genome_NFE': ['0.0002', '0.9998'],\n",
       " 'gnomAD_genome_OTH': ['0.0011', '1'],\n",
       " '1000g2015aug_all': ['0.9998'],\n",
       " '1000g2015aug_afr': ['0.9992'],\n",
       " '1000g2015aug_amr': ['1'],\n",
       " '1000g2015aug_eur': ['1'],\n",
       " '1000g2015aug_sas': ['1'],\n",
       " 'snp138NonFlagged': ['rs10746177'],\n",
       " 'avsnp150': ['rs10746177'],\n",
       " 'Kaviar_AF': ['0.953358'],\n",
       " 'Kaviar_AC': ['24814'],\n",
       " 'Kaviar_AN': ['26028']}"
      ]
     },
     "execution_count": 43,
     "metadata": {},
     "output_type": "execute_result"
    }
   ],
   "source": [
    "# FINAL ANSWER\n",
    "# read_vcf_file('two_variants.vcf') = data when putting this in the function\n",
    "dicto = {}\n",
    "info_maal = extract_info_field(read_vcf_file('two_variants.vcf'))\n",
    "\n",
    "ith_info_maal = []\n",
    "for i in range(len(info_maal)):\n",
    "    ith_info_maal = (info_maal[i].split(\";\"))\n",
    "    for j in range(len(ith_info_maal)):\n",
    "        try:\n",
    "            key, value = ith_info_maal[j].split(\"=\", 1)\n",
    "            if value != \".\":\n",
    "                if key not in dicto.keys():\n",
    "                    dicto[key] = [value]\n",
    "                else:\n",
    "                    if value not in dicto[key]:\n",
    "                        dicto[key] += [value]\n",
    "        except:\n",
    "            continue\n",
    "\n",
    "dicto\n"
   ]
  },
  {
   "cell_type": "code",
   "execution_count": null,
   "metadata": {},
   "outputs": [
    {
     "data": {
      "text/plain": [
       "True"
      ]
     },
     "execution_count": 44,
     "metadata": {},
     "output_type": "execute_result"
    }
   ],
   "source": [
    "dicto == expected_result\n"
   ]
  },
  {
   "cell_type": "code",
   "execution_count": null,
   "metadata": {},
   "outputs": [
    {
     "data": {
      "text/plain": [
       "'\\nHere \"data\" is a list of dictionaries where each dictionary will be having 9 keys out of which you\\'ve to make sure that POS is int and QUAL is float. \\n\"info_field_data_type\" is just a dictionary with data type as the value for its respective keys.\\n'"
      ]
     },
     "execution_count": 1,
     "metadata": {},
     "output_type": "execute_result"
    }
   ],
   "source": [
    "# def format_data(data, info_field_data_type)\n",
    "\"\"\"\n",
    "Here \"data\" is a list of dictionaries where each dictionary will be having 9 keys out of which you've to make sure that POS is int and QUAL is float. \n",
    "\"info_field_data_type\" is just a dictionary with data type as the value for its respective keys.\n",
    "\"\"\""
   ]
  },
  {
   "cell_type": "code",
   "execution_count": null,
   "metadata": {},
   "outputs": [],
   "source": [
    "test_maal = [{'CHROM': '4',\n",
    "              'POS': '123416186',\n",
    "              'ID': '.',\n",
    "              'REF': 'A',\n",
    "              'ALT': 'G',\n",
    "              'QUAL': '23.25',\n",
    "              'FILTER': 'PASS'}]\n"
   ]
  },
  {
   "cell_type": "code",
   "execution_count": null,
   "metadata": {},
   "outputs": [],
   "source": [
    "test_maal[0][\"QUAL\"] = float(test_maal[0][\"QUAL\"])\n",
    "\n",
    "\n"
   ]
  },
  {
   "cell_type": "code",
   "execution_count": null,
   "metadata": {},
   "outputs": [
    {
     "data": {
      "text/plain": [
       "[{'CHROM': '4',\n",
       "  'POS': '123416186',\n",
       "  'ID': '.',\n",
       "  'REF': 'A',\n",
       "  'ALT': 'G',\n",
       "  'QUAL': 23.25,\n",
       "  'FILTER': 'PASS'}]"
      ]
     },
     "execution_count": 11,
     "metadata": {},
     "output_type": "execute_result"
    }
   ],
   "source": [
    "test_maal"
   ]
  },
  {
   "cell_type": "code",
   "execution_count": null,
   "metadata": {},
   "outputs": [
    {
     "data": {
      "text/plain": [
       "1"
      ]
     },
     "execution_count": 12,
     "metadata": {},
     "output_type": "execute_result"
    }
   ],
   "source": [
    "a = int\n",
    "strss = \"1\"\n",
    "a(strss)"
   ]
  },
  {
   "cell_type": "code",
   "execution_count": null,
   "metadata": {},
   "outputs": [
    {
     "data": {
      "text/plain": [
       "1"
      ]
     },
     "execution_count": 15,
     "metadata": {},
     "output_type": "execute_result"
    }
   ],
   "source": [
    "strss = a(strss)\n",
    "strss"
   ]
  },
  {
   "cell_type": "code",
   "execution_count": null,
   "metadata": {},
   "outputs": [],
   "source": [
    "blah = {\"INFO\": {\"key1\": \"val\",\n",
    "                 \"key2\": \"val\"}}\n"
   ]
  },
  {
   "cell_type": "code",
   "execution_count": null,
   "metadata": {},
   "outputs": [
    {
     "data": {
      "text/plain": [
       "'val'"
      ]
     },
     "execution_count": 22,
     "metadata": {},
     "output_type": "execute_result"
    }
   ],
   "source": [
    "blah[\"INFO\"][\"key1\"]\n"
   ]
  },
  {
   "cell_type": "code",
   "execution_count": null,
   "metadata": {},
   "outputs": [],
   "source": [
    "def determine_data_type(value):\n",
    "    \"\"\"\n",
    "    The function takes a string input and determines its data type to be either a float, int, or string. \n",
    "    \"\"\"\n",
    "    # BEGIN SOLUTION\n",
    "    data_type = None\n",
    "    try:\n",
    "        int(value)\n",
    "        data_type = int\n",
    "        return data_type\n",
    "\n",
    "    except:\n",
    "        try:\n",
    "            float(value)\n",
    "            data_type = float\n",
    "            return data_type\n",
    "        except:\n",
    "            return str\n",
    "    # END SOLUTION\n",
    "\n",
    "\n",
    "def determine_data_type_of_list(values):\n",
    "    \"\"\"\n",
    "    Write a function whose input is a list of strings. \n",
    "    This function determines the correct data type of all the elements in the list. \n",
    "    For example, ['1', '2', '3'] is int, ['1.1', '2.2', '3.3'] is float, ['1.1', '2', '3.3'] \n",
    "    is also float, and ['1.1', '234String', '3.3'] is str. \n",
    "    The purpose of this function to figure out what to cast an array of strings to. \n",
    "    Some lists might be all ints, in which case the data type is int. \n",
    "    Some might be a mixture of ints and floats, in which case the data type will be a float. \n",
    "    Some lists might be a mixture of ints, floats, and strings, \n",
    "    in which case the data type of the list will be a string.\n",
    "    NOTE: This function should use \"determine_data_type\" function you coded previously\n",
    "\n",
    "\n",
    "    \"\"\"\n",
    "    # BEGIN SOLUTION\n",
    "    list_data_type = []\n",
    "    for value in values:\n",
    "        if determine_data_type(value) == (str):\n",
    "            return str\n",
    "        if determine_data_type(value) not in list_data_type:\n",
    "            list_data_type.append(determine_data_type(value))\n",
    "    if float in list_data_type:\n",
    "        return float\n",
    "    if int in list_data_type:\n",
    "        return int\n",
    "\n",
    "    # END SOLUTION\n",
    "\n",
    "\n",
    "def format_sample_fields(format_field, sample_field):\n",
    "    \"\"\"\n",
    "    Write a function whose inputs are a format field and sample field. \n",
    "    The format field looks like format_field = 'GT:AD:DP:GQ:PGT:PID:PL' and \n",
    "    the sample field looks like\n",
    "\n",
    "    sample_field = {'XG102': '1/1:0,76:76:99:1|1:48306945_C_G:3353,229,0',\n",
    "                'XG103': '1/1:0,52:52:99:.:.:1517,156,0',\n",
    "                'XG104': '0/1:34,38:72:99:.:.:938,0,796',\n",
    "                'XG202': '1/1:0,76:76:99:1|1:48306945_C_G:3353,229,0',\n",
    "                'XG203': '1/1:0,52:52:99:.:.:1517,156,0',\n",
    "                'XG204': '0/1:34,38:72:99:.:.:938,0,796',\n",
    "                'XG302': '1/1:0,76:76:99:1|1:48306945_C_G:3353,229,0',\n",
    "                'XG303': '1/1:0,52:52:99:.:.:1517,156,0',\n",
    "                'XG304': '0/1:34,38:72:99:.:.:938,0,796',\n",
    "                'XG402': '1/1:0,76:76:99:1|1:48306945_C_G:3353,229,0',\n",
    "                'XG403': '1/1:0,52:52:99:.:.:1517,156,0',\n",
    "                'XG404': '0/1:34,38:72:99:.:.:938,0,796'}\n",
    "\n",
    "    Transform the inputs such that the output looks like this:\n",
    "\n",
    "    output = {\n",
    "        'XG102': {'AD': '0,76',\n",
    "            'DP': '76',\n",
    "            'GQ': '99',\n",
    "            'GT': '1/1',\n",
    "            'PGT': '1|1',\n",
    "            'PID': '48306945_C_G',\n",
    "            'PL': '3353,229,0'},\n",
    "        'XG103': {'AD': '0,52',\n",
    "                'DP': '52',\n",
    "                'GQ': '99',\n",
    "                'GT': '1/1',\n",
    "                'PGT': '.',\n",
    "                'PID': '.',\n",
    "                'PL': '1517,156,0'},\n",
    "        'XG104': {'AD': '34,38',\n",
    "                'DP': '72',\n",
    "                'GQ': '99',\n",
    "                'GT': '0/1',\n",
    "                'PGT': '.',\n",
    "                'PID': '.',\n",
    "                'PL': '938,0,796'},\n",
    "        'XG202': {'AD': '0,76',\n",
    "                'DP': '76',\n",
    "                'GQ': '99',\n",
    "                'GT': '1/1',\n",
    "                'PGT': '1|1',\n",
    "                'PID': '48306945_C_G',\n",
    "                'PL': '3353,229,0'},\n",
    "        'XG203': {'AD': '0,52',\n",
    "                'DP': '52',\n",
    "                'GQ': '99',\n",
    "                'GT': '1/1',\n",
    "                'PGT': '.',\n",
    "                'PID': '.',\n",
    "                'PL': '1517,156,0'},\n",
    "        'XG204': {'AD': '34,38',\n",
    "                'DP': '72',\n",
    "                'GQ': '99',\n",
    "                'GT': '0/1',\n",
    "                'PGT': '.',\n",
    "                'PID': '.',\n",
    "                'PL': '938,0,796'},\n",
    "        'XG302': {'AD': '0,76',\n",
    "                'DP': '76',\n",
    "                'GQ': '99',\n",
    "                'GT': '1/1',\n",
    "                'PGT': '1|1',\n",
    "                'PID': '48306945_C_G',\n",
    "                'PL': '3353,229,0'},\n",
    "        'XG303': {'AD': '0,52',\n",
    "                'DP': '52',\n",
    "                'GQ': '99',\n",
    "                'GT': '1/1',\n",
    "                'PGT': '.',\n",
    "                'PID': '.',\n",
    "                'PL': '1517,156,0'},\n",
    "        'XG304': {'AD': '34,38',\n",
    "                'DP': '72',\n",
    "                'GQ': '99',\n",
    "                'GT': '0/1',\n",
    "                'PGT': '.',\n",
    "                'PID': '.',\n",
    "                'PL': '938,0,796'},\n",
    "        'XG402': {'AD': '0,76',\n",
    "                'DP': '76',\n",
    "                'GQ': '99',\n",
    "                'GT': '1/1',\n",
    "                'PGT': '1|1',\n",
    "                'PID': '48306945_C_G',\n",
    "                'PL': '3353,229,0'},\n",
    "        'XG403': {'AD': '0,52',\n",
    "                'DP': '52',\n",
    "                'GQ': '99',\n",
    "                'GT': '1/1',\n",
    "                'PGT': '.',\n",
    "                'PID': '.',\n",
    "                'PL': '1517,156,0'},\n",
    "        'XG404': {'AD': '34,38',\n",
    "                'DP': '72',\n",
    "                'GQ': '99',\n",
    "                'GT': '0/1',\n",
    "                'PGT': '.',\n",
    "                'PID': '.',\n",
    "                'PL': '938,0,796'}}\n",
    "    \"\"\"\n",
    "\n",
    "    # BEGIN SOLUTION\n",
    "    output = {}\n",
    "\n",
    "    dict_keys = sample_field.keys()\n",
    "    inner_keys = format_field.split(\":\")\n",
    "\n",
    "    for key in dict_keys:\n",
    "        key_key_value = sample_field[key].split(\":\")\n",
    "        temp_dict = {}\n",
    "        for i in range(len(key_key_value)):\n",
    "            temp_dict[inner_keys[i]] = key_key_value[i]\n",
    "        output[key] = temp_dict\n",
    "    return output\n",
    "    # END SOLUTION\n",
    "\n",
    "\n",
    "def create_dict_from_line(header, line):\n",
    "    \"\"\"\n",
    "    Given the header and a single line, transform them into dictionary as described above. \n",
    "    Header and line input are provided in this cell. \n",
    "\n",
    "    Write a function whose inputs are a list containing the vcf header and a variant line. \n",
    "    The function should return a dictionary using the header as keys and the variant line as values.\n",
    "    The function should use the format_sample_fields you wrote previously to format the sample fields. \n",
    "    The output of the first line looks like this:\n",
    "\n",
    "    {'ALT': 'G',\n",
    "    'CHROM': '4',\n",
    "    'FILTER': 'PASS',\n",
    "    'ID': '.',\n",
    "    'INFO': 'AC=1;AF=0.167;AN=6;BaseQRankSum=-2.542;ClippingRankSum=0;DP=180;ExcessHet=3.0103;FS=0;MLEAC=1;MLEAF=0.167;MQ=52.77;MQRankSum=-4.631;QD=0.39;ReadPosRankSum=1.45;SOR=0.758;VQSLOD=-8.209;culprit=MQ;ANNOVAR_DATE=2018-04-16;Func.refGene=intergenic;Gene.refGene=IL2,IL21;GeneDetail.refGene=dist=38536,dist=117597;ExonicFunc.refGene=.;AAChange.refGene=.;Func.ensGene=intergenic;Gene.ensGene=ENSG00000109471,ENSG00000138684;GeneDetail.ensGene=dist=38306,dist=117597;ExonicFunc.ensGene=.;AAChange.ensGene=.;cytoBand=4q27;gwasCatalog=.;tfbsConsSites=.;wgRna=.;targetScanS=.;Gene_symbol=.;OXPHOS_Complex=.;Ensembl_Gene_ID=.;Ensembl_Protein_ID=.;Uniprot_Name=.;Uniprot_ID=.;NCBI_Gene_ID=.;NCBI_Protein_ID=.;Gene_pos=.;AA_pos=.;AA_sub=.;Codon_sub=.;dbSNP_ID=.;PhyloP_46V=.;PhastCons_46V=.;PhyloP_100V=.;PhastCons_100V=.;SiteVar=.;PolyPhen2_prediction=.;PolyPhen2_score=.;SIFT_prediction=.;SIFT_score=.;FatHmm_prediction=.;FatHmm_score=.;PROVEAN_prediction=.;PROVEAN_score=.;MutAss_prediction=.;MutAss_score=.;EFIN_Swiss_Prot_Score=.;EFIN_Swiss_Prot_Prediction=.;EFIN_HumDiv_Score=.;EFIN_HumDiv_Prediction=.;CADD_score=.;CADD_Phred_score=.;CADD_prediction=.;Carol_prediction=.;Carol_score=.;Condel_score=.;Condel_pred=.;COVEC_WMV=.;COVEC_WMV_prediction=.;PolyPhen2_score_transf=.;PolyPhen2_pred_transf=.;SIFT_score_transf=.;SIFT_pred_transf=.;MutAss_score_transf=.;MutAss_pred_transf=.;Perc_coevo_Sites=.;Mean_MI_score=.;COSMIC_ID=.;Tumor_site=.;Examined_samples=.;Mutation_frequency=.;US=.;Status=.;Associated_disease=.;Presence_in_TD=.;Class_predicted=.;Prob_N=.;Prob_P=.;SIFT_score=.;SIFT_converted_rankscore=.;SIFT_pred=.;Polyphen2_HDIV_score=.;Polyphen2_HDIV_rankscore=.;Polyphen2_HDIV_pred=.;Polyphen2_HVAR_score=.;Polyphen2_HVAR_rankscore=.;Polyphen2_HVAR_pred=.;LRT_score=.;LRT_converted_rankscore=.;LRT_pred=.;MutationTaster_score=.;MutationTaster_converted_rankscore=.;MutationTaster_pred=.;MutationAssessor_score=.;MutationAssessor_score_rankscore=.;MutationAssessor_pred=.;FATHMM_score=.;FATHMM_converted_rankscore=.;FATHMM_pred=.;PROVEAN_score=.;PROVEAN_converted_rankscore=.;PROVEAN_pred=.;VEST3_score=.;VEST3_rankscore=.;MetaSVM_score=.;MetaSVM_rankscore=.;MetaSVM_pred=.;MetaLR_score=.;MetaLR_rankscore=.;MetaLR_pred=.;M-CAP_score=.;M-CAP_rankscore=.;M-CAP_pred=.;CADD_raw=.;CADD_raw_rankscore=.;CADD_phred=.;DANN_score=.;DANN_rankscore=.;fathmm-MKL_coding_score=.;fathmm-MKL_coding_rankscore=.;fathmm-MKL_coding_pred=.;Eigen_coding_or_noncoding=.;Eigen-raw=.;Eigen-PC-raw=.;GenoCanyon_score=.;GenoCanyon_score_rankscore=.;integrated_fitCons_score=.;integrated_fitCons_score_rankscore=.;integrated_confidence_value=.;GERP++_RS=.;GERP++_RS_rankscore=.;phyloP100way_vertebrate=.;phyloP100way_vertebrate_rankscore=.;phyloP20way_mammalian=.;phyloP20way_mammalian_rankscore=.;phastCons100way_vertebrate=.;phastCons100way_vertebrate_rankscore=.;phastCons20way_mammalian=.;phastCons20way_mammalian_rankscore=.;SiPhy_29way_logOdds=.;SiPhy_29way_logOdds_rankscore=.;Interpro_domain=.;GTEx_V6_gene=.;GTEx_V6_tissue=.;esp6500siv2_all=.;esp6500siv2_aa=.;esp6500siv2_ea=.;ExAC_ALL=.;ExAC_AFR=.;ExAC_AMR=.;ExAC_EAS=.;ExAC_FIN=.;ExAC_NFE=.;ExAC_OTH=.;ExAC_SAS=.;ExAC_nontcga_ALL=.;ExAC_nontcga_AFR=.;ExAC_nontcga_AMR=.;ExAC_nontcga_EAS=.;ExAC_nontcga_FIN=.;ExAC_nontcga_NFE=.;ExAC_nontcga_OTH=.;ExAC_nontcga_SAS=.;ExAC_nonpsych_ALL=.;ExAC_nonpsych_AFR=.;ExAC_nonpsych_AMR=.;ExAC_nonpsych_EAS=.;ExAC_nonpsych_FIN=.;ExAC_nonpsych_NFE=.;ExAC_nonpsych_OTH=.;ExAC_nonpsych_SAS=.;1000g2015aug_all=.;1000g2015aug_afr=.;1000g2015aug_amr=.;1000g2015aug_eur=.;1000g2015aug_sas=.;CLNALLELEID=.;CLNDN=.;CLNDISDB=.;CLNREVSTAT=.;CLNSIG=.;dbscSNV_ADA_SCORE=.;dbscSNV_RF_SCORE=.;snp138NonFlagged=.;avsnp150=.;CADD13_RawScore=0.015973;CADD13_PHRED=2.741;Eigen=-0.3239;REVEL=.;MCAP=.;Interpro_domain=.;ICGC_Id=.;ICGC_Occurrence=.;gnomAD_genome_ALL=0.0003;gnomAD_genome_AFR=0.0001;gnomAD_genome_AMR=0;gnomAD_genome_ASJ=0;gnomAD_genome_EAS=0.0007;gnomAD_genome_FIN=0.0009;gnomAD_genome_NFE=0.0002;gnomAD_genome_OTH=0.0011;gerp++gt2=.;cosmic70=.;InterVar_automated=.;PVS1=.;PS1=.;PS2=.;PS3=.;PS4=.;PM1=.;PM2=.;PM3=.;PM4=.;PM5=.;PM6=.;PP1=.;PP2=.;PP3=.;PP4=.;PP5=.;BA1=.;BS1=.;BS2=.;BS3=.;BS4=.;BP1=.;BP2=.;BP3=.;BP4=.;BP5=.;BP6=.;BP7=.;Kaviar_AF=.;Kaviar_AC=.;Kaviar_AN=.;ALLELE_END',\n",
    "    'POS': '123416186',\n",
    "    'QUAL': '23.25',\n",
    "    'REF': 'A',\n",
    "    'SAMPLE': {'XG102': {'AD': '51,8',\n",
    "                      'DP': '59',\n",
    "                      'GQ': '32',\n",
    "                      'GT': '0/1',\n",
    "                      'PL': '32,0,1388'},\n",
    "            'XG103': {'AD': '47,0',\n",
    "                      'DP': '47',\n",
    "                      'GQ': '99',\n",
    "                      'GT': '0/0',\n",
    "                      'PL': '0,114,1353'},\n",
    "            'XG104': {'AD': '74,0',\n",
    "                      'DP': '74',\n",
    "                      'GQ': '51',\n",
    "                      'GT': '0/0',\n",
    "                      'PL': '0,51,1827'},\n",
    "            'XG202': {'AD': '51,8',\n",
    "                      'DP': '59',\n",
    "                      'GQ': '32',\n",
    "                      'GT': '0/1',\n",
    "                      'PL': '32,0,1388'},\n",
    "            'XG203': {'AD': '47,0',\n",
    "                      'DP': '47',\n",
    "                      'GQ': '99',\n",
    "                      'GT': '0/0',\n",
    "                      'PL': '0,114,1353'},\n",
    "            'XG204': {'AD': '74,0',\n",
    "                      'DP': '74',\n",
    "                      'GQ': '51',\n",
    "                      'GT': '0/0',\n",
    "                      'PL': '0,51,1827'},\n",
    "            'XG302': {'AD': '51,8',\n",
    "                      'DP': '59',\n",
    "                      'GQ': '32',\n",
    "                      'GT': '0/1',\n",
    "                      'PL': '32,0,1388'},\n",
    "            'XG303': {'AD': '47,0',\n",
    "                      'DP': '47',\n",
    "                      'GQ': '99',\n",
    "                      'GT': '0/0',\n",
    "                      'PL': '0,114,1353'},\n",
    "            'XG304': {'AD': '74,0',\n",
    "                      'DP': '74',\n",
    "                      'GQ': '51',\n",
    "                      'GT': '0/0',\n",
    "                      'PL': '0,51,1827'},\n",
    "            'XG402': {'AD': '51,8',\n",
    "                      'DP': '59',\n",
    "                      'GQ': '32',\n",
    "                      'GT': '0/1',\n",
    "                      'PL': '32,0,1388'},\n",
    "            'XG403': {'AD': '47,0',\n",
    "                      'DP': '47',\n",
    "                      'GQ': '99',\n",
    "                      'GT': '0/0',\n",
    "                      'PL': '0,114,1353'},\n",
    "            'XG404': {'AD': '74,0',\n",
    "                      'DP': '74',\n",
    "                      'GQ': '51',\n",
    "                      'GT': '0/0',\n",
    "                      'PL': '0,51,1827'}}}\n",
    "    \"\"\"\n",
    "    # BEGIN SOLUTION\n",
    "\n",
    "    temp_dict = {}\n",
    "    list_of_lines = line.split(\"\\t\")\n",
    "\n",
    "    for key in header:\n",
    "        for i in range(len(list_of_lines)):\n",
    "            temp_dict[key] = list_of_lines[i]\n",
    "\n",
    "    temp_dict_keys = list(temp_dict.keys())\n",
    "\n",
    "    Dict_of_dict_of_everything_after_format = {}\n",
    "    for i in range(9, len(list_of_lines)):\n",
    "        Dict_of_dict_of_everything_after_format[temp_dict_keys[i]\n",
    "                                                ] = list_of_lines[i]\n",
    "\n",
    "    final_ans_dict = {}\n",
    "    for i in range(8):\n",
    "        final_ans_dict[temp_dict_keys[i]] = list_of_lines[i]\n",
    "        if i == 7:\n",
    "            final_ans_dict[\"SAMPLE\"] = format_sample_fields(\n",
    "                list_of_lines[i+1], Dict_of_dict_of_everything_after_format)\n",
    "\n",
    "    # ipdb.set_trace()\n",
    "    return final_ans_dict\n",
    "    # END SOLUTION\n",
    "\n",
    "\n",
    "def read_vcf_file(filename):\n",
    "    \"\"\"\n",
    "    Write a function whose input is a filename for a vcf. \n",
    "    The function reads the vcf file one variant at a time and transforms it \n",
    "    into a dictionary using the create_dict_from_line function. \n",
    "    It returns a list containing all the variant dictionaries. \n",
    "    NOTE: Your function should be able to handle multiple lines.\n",
    "    \"\"\"\n",
    "    # BEGIN SOLUTION\n",
    "    with open(filename) as file:\n",
    "        list_of_lines = []\n",
    "        for line in file:\n",
    "            if not line.strip():\n",
    "                continue\n",
    "            list_of_lines.append(line.strip(\"\\n\"))\n",
    "    list_of_dicts = []\n",
    "    headers = list_of_lines[0].split(\"\\t\")\n",
    "    headers[0] = \"CHROM\"\n",
    "    for i in range(1, len(list_of_lines)):\n",
    "        list_of_dicts.append(create_dict_from_line(headers, list_of_lines[i]))\n",
    "    return list_of_dicts\n",
    "\n",
    "    # END SOLUTION\n",
    "\n",
    "\n",
    "def extract_info_field(data):\n",
    "    \"\"\"\n",
    "    Write a function that extracts the info field from the data dictionary that was \n",
    "    created in the previous part. The function should return all the info field dictionaries as list. \n",
    "    \"\"\"\n",
    "    # BEGIN SOLUTION\n",
    "    answer_list = []\n",
    "    for i in range(len(data)):\n",
    "        answer_list.append(data[i][\"INFO\"])\n",
    "    return answer_list\n",
    "\n",
    "    # END SOLUTION\n",
    "\n",
    "\n",
    "def create_dictionary_of_info_field_values(data):\n",
    "    \"\"\"\n",
    "    You now need to figure out that data types for each of the info fields. \n",
    "    Begin by writing a function that first takes the info fields and turns them into a dictionary.\n",
    "    Make sure to skip any fields that do not have a value or are missing a value.\n",
    "\n",
    "    Note: only return keys that have values! \n",
    "    \"\"\"\n",
    "\n",
    "    # BEGIN SOLUTION\n",
    "    dicto = {}\n",
    "    info_maal = (data)\n",
    "    ith_info_maal = []\n",
    "\n",
    "    for i in range(len(info_maal)):\n",
    "        ith_info_maal = (info_maal[i].split(\";\"))\n",
    "        for j in range(len(ith_info_maal)):\n",
    "            try:\n",
    "                key, value = ith_info_maal[j].split(\"=\", 1)\n",
    "                if value != \".\":\n",
    "                    if key not in dicto.keys():\n",
    "                        dicto[key] = [value]\n",
    "                    else:\n",
    "                        if value not in dicto[key]:\n",
    "                            dicto[key] += [value]\n",
    "            except:\n",
    "                continue\n",
    "    return dicto\n",
    "    # END SOLUTION\n",
    "\n",
    "\n",
    "def determine_data_type_of_info_fields(data):\n",
    "    \"\"\"\n",
    "    Write a function whose input is the output from create_dictionary_of_info_field_values \n",
    "    and uses the previously written function determine_data_type_of_list to determine \n",
    "    the data type of each of the info fields. The output is a dictionary whose \n",
    "    keys are the name of the info fields and values are the data type. \n",
    "    \"\"\"\n",
    "    # BEGIN SOLUTION\n",
    "\n",
    "    # Let's make our keys handy\n",
    "    dict_keys = list(data.keys())\n",
    "\n",
    "    # Setting up the base for the cake\n",
    "    dict_data_types = {}\n",
    "    key_data_type = []\n",
    "\n",
    "    # Appending the data type of the corresponding key in our list \"key_data_type\"\"\n",
    "    for key in dict_keys:\n",
    "        key_data_type.append(determine_data_type_of_list(data[key]))\n",
    "\n",
    "    # Fetching the data type for the respective key from our \"key_data_type\" list and assigning it as the value for our final answer dictionay named \"dict_data_types\"'s key\n",
    "    for i in range(len(dict_keys)):\n",
    "        dict_data_types[dict_keys[i]] = key_data_type[i]\n",
    "\n",
    "    return dict_data_types\n",
    "\n",
    "    # END SOLUTION\n",
    "\n",
    "\n",
    "def format_data(data, info_field_data_type):\n",
    "   \n",
    "    # BEGIN SOLUTION\n",
    "    final_answer_list_of_dicts = []\n",
    "    for dicto in data:\n",
    "\n",
    "        # Handling int and float scene\n",
    "        dicto[\"QUAL\"] = float(dicto[\"QUAL\"])\n",
    "        dicto[\"POS\"] = int(dicto[\"POS\"])\n",
    "\n",
    "        # Creating a dictionary from the list and reassigning it to the info field\n",
    "        dicto[\"INFO\"] = create_dictionary_of_info_field_values(dicto[\"INFO\"])\n",
    "\n",
    "        # Grabbing all the keys of value of INFO field.\n",
    "        dicto_keys = list(dicto[\"INFO\"].keys())\n",
    "\n",
    "        # Putting them in the data type according to the second input of the function that holds the data type for respective field for our INFO field\n",
    "        for key in dicto_keys:\n",
    "            convert_type = info_field_data_type[key]\n",
    "            dicto[\"INFO\"][key] = convert_type(dicto[\"INFO\"][key])\n",
    "\n",
    "        final_answer_list_of_dicts.append(dicto)\n",
    "\n",
    "    return final_answer_list_of_dicts\n",
    "\n",
    "    # END SOLUTION\n",
    "\n"
   ]
  },
  {
   "cell_type": "code",
   "execution_count": null,
   "metadata": {},
   "outputs": [],
   "source": [
    "\n",
    "data = [{'CHROM': '4',\n",
    "                              'POS': '123416186',\n",
    "                              'ID': '.',\n",
    "                              'REF': 'A',\n",
    "                              'ALT': 'G',\n",
    "                              'QUAL': '23.25',\n",
    "                              'FILTER': 'PASS',\n",
    "                              'INFO': 'AC=1;AF=0.167;AN=6;BaseQRankSum=-2.542;ClippingRankSum=0;DP=180;ExcessHet=3.0103;FS=0;MLEAC=1;MLEAF=0.167;MQ=52.77;MQRankSum=-4.631;QD=0.39;ReadPosRankSum=1.45;SOR=0.758;VQSLOD=-8.209;culprit=MQ;ANNOVAR_DATE=2018-04-16;Func.refGene=intergenic;Gene.refGene=IL2,IL21;GeneDetail.refGene=dist=38536,dist=117597;ExonicFunc.refGene=.;AAChange.refGene=.;Func.ensGene=intergenic;Gene.ensGene=ENSG00000109471,ENSG00000138684;GeneDetail.ensGene=dist=38306,dist=117597;ExonicFunc.ensGene=.;AAChange.ensGene=.;cytoBand=4q27;gwasCatalog=.;tfbsConsSites=.;wgRna=.;targetScanS=.;Gene_symbol=.;OXPHOS_Complex=.;Ensembl_Gene_ID=.;Ensembl_Protein_ID=.;Uniprot_Name=.;Uniprot_ID=.;NCBI_Gene_ID=.;NCBI_Protein_ID=.;Gene_pos=.;AA_pos=.;AA_sub=.;Codon_sub=.;dbSNP_ID=.;PhyloP_46V=.;PhastCons_46V=.;PhyloP_100V=.;PhastCons_100V=.;SiteVar=.;PolyPhen2_prediction=.;PolyPhen2_score=.;SIFT_prediction=.;SIFT_score=.;FatHmm_prediction=.;FatHmm_score=.;PROVEAN_prediction=.;PROVEAN_score=.;MutAss_prediction=.;MutAss_score=.;EFIN_Swiss_Prot_Score=.;EFIN_Swiss_Prot_Prediction=.;EFIN_HumDiv_Score=.;EFIN_HumDiv_Prediction=.;CADD_score=.;CADD_Phred_score=.;CADD_prediction=.;Carol_prediction=.;Carol_score=.;Condel_score=.;Condel_pred=.;COVEC_WMV=.;COVEC_WMV_prediction=.;PolyPhen2_score_transf=.;PolyPhen2_pred_transf=.;SIFT_score_transf=.;SIFT_pred_transf=.;MutAss_score_transf=.;MutAss_pred_transf=.;Perc_coevo_Sites=.;Mean_MI_score=.;COSMIC_ID=.;Tumor_site=.;Examined_samples=.;Mutation_frequency=.;US=.;Status=.;Associated_disease=.;Presence_in_TD=.;Class_predicted=.;Prob_N=.;Prob_P=.;SIFT_score=.;SIFT_converted_rankscore=.;SIFT_pred=.;Polyphen2_HDIV_score=.;Polyphen2_HDIV_rankscore=.;Polyphen2_HDIV_pred=.;Polyphen2_HVAR_score=.;Polyphen2_HVAR_rankscore=.;Polyphen2_HVAR_pred=.;LRT_score=.;LRT_converted_rankscore=.;LRT_pred=.;MutationTaster_score=.;MutationTaster_converted_rankscore=.;MutationTaster_pred=.;MutationAssessor_score=.;MutationAssessor_score_rankscore=.;MutationAssessor_pred=.;FATHMM_score=.;FATHMM_converted_rankscore=.;FATHMM_pred=.;PROVEAN_score=.;PROVEAN_converted_rankscore=.;PROVEAN_pred=.;VEST3_score=.;VEST3_rankscore=.;MetaSVM_score=.;MetaSVM_rankscore=.;MetaSVM_pred=.;MetaLR_score=.;MetaLR_rankscore=.;MetaLR_pred=.;M-CAP_score=.;M-CAP_rankscore=.;M-CAP_pred=.;CADD_raw=.;CADD_raw_rankscore=.;CADD_phred=.;DANN_score=.;DANN_rankscore=.;fathmm-MKL_coding_score=.;fathmm-MKL_coding_rankscore=.;fathmm-MKL_coding_pred=.;Eigen_coding_or_noncoding=.;Eigen-raw=.;Eigen-PC-raw=.;GenoCanyon_score=.;GenoCanyon_score_rankscore=.;integrated_fitCons_score=.;integrated_fitCons_score_rankscore=.;integrated_confidence_value=.;GERP++_RS=.;GERP++_RS_rankscore=.;phyloP100way_vertebrate=.;phyloP100way_vertebrate_rankscore=.;phyloP20way_mammalian=.;phyloP20way_mammalian_rankscore=.;phastCons100way_vertebrate=.;phastCons100way_vertebrate_rankscore=.;phastCons20way_mammalian=.;phastCons20way_mammalian_rankscore=.;SiPhy_29way_logOdds=.;SiPhy_29way_logOdds_rankscore=.;Interpro_domain=.;GTEx_V6_gene=.;GTEx_V6_tissue=.;esp6500siv2_all=.;esp6500siv2_aa=.;esp6500siv2_ea=.;ExAC_ALL=.;ExAC_AFR=.;ExAC_AMR=.;ExAC_EAS=.;ExAC_FIN=.;ExAC_NFE=.;ExAC_OTH=.;ExAC_SAS=.;ExAC_nontcga_ALL=.;ExAC_nontcga_AFR=.;ExAC_nontcga_AMR=.;ExAC_nontcga_EAS=.;ExAC_nontcga_FIN=.;ExAC_nontcga_NFE=.;ExAC_nontcga_OTH=.;ExAC_nontcga_SAS=.;ExAC_nonpsych_ALL=.;ExAC_nonpsych_AFR=.;ExAC_nonpsych_AMR=.;ExAC_nonpsych_EAS=.;ExAC_nonpsych_FIN=.;ExAC_nonpsych_NFE=.;ExAC_nonpsych_OTH=.;ExAC_nonpsych_SAS=.;1000g2015aug_all=.;1000g2015aug_afr=.;1000g2015aug_amr=.;1000g2015aug_eur=.;1000g2015aug_sas=.;CLNALLELEID=.;CLNDN=.;CLNDISDB=.;CLNREVSTAT=.;CLNSIG=.;dbscSNV_ADA_SCORE=.;dbscSNV_RF_SCORE=.;snp138NonFlagged=.;avsnp150=.;CADD13_RawScore=0.015973;CADD13_PHRED=2.741;Eigen=-0.3239;REVEL=.;MCAP=.;Interpro_domain=.;ICGC_Id=.;ICGC_Occurrence=.;gnomAD_genome_ALL=0.0003;gnomAD_genome_AFR=0.0001;gnomAD_genome_AMR=0;gnomAD_genome_ASJ=0;gnomAD_genome_EAS=0.0007;gnomAD_genome_FIN=0.0009;gnomAD_genome_NFE=0.0002;gnomAD_genome_OTH=0.0011;gerp++gt2=.;cosmic70=.;InterVar_automated=.;PVS1=.;PS1=.;PS2=.;PS3=.;PS4=.;PM1=.;PM2=.;PM3=.;PM4=.;PM5=.;PM6=.;PP1=.;PP2=.;PP3=.;PP4=.;PP5=.;BA1=.;BS1=.;BS2=.;BS3=.;BS4=.;BP1=.;BP2=.;BP3=.;BP4=.;BP5=.;BP6=.;BP7=.;Kaviar_AF=.;Kaviar_AC=.;Kaviar_AN=.;ALLELE_END',\n",
    "                              'SAMPLE': {'XG102': {'GT': '0/1',\n",
    "                                                   'AD': '51,8',\n",
    "                                                   'DP': '59',\n",
    "                                                   'GQ': '32',\n",
    "                                                   'PL': '32,0,1388'},\n",
    "                                         'XG103': {'GT': '0/0',\n",
    "                                                   'AD': '47,0',\n",
    "                                                   'DP': '47',\n",
    "                                                   'GQ': '99',\n",
    "                                                   'PL': '0,114,1353'},\n",
    "                                         'XG104': {'GT': '0/0',\n",
    "                                                   'AD': '74,0',\n",
    "                                                   'DP': '74',\n",
    "                                                   'GQ': '51',\n",
    "                                                   'PL': '0,51,1827'},\n",
    "                                         'XG202': {'GT': '0/1',\n",
    "                                                   'AD': '51,8',\n",
    "                                                   'DP': '59',\n",
    "                                                   'GQ': '32',\n",
    "                                                   'PL': '32,0,1388'},\n",
    "                                         'XG203': {'GT': '0/0',\n",
    "                                                   'AD': '47,0',\n",
    "                                                   'DP': '47',\n",
    "                                                   'GQ': '99',\n",
    "                                                   'PL': '0,114,1353'},\n",
    "                                         'XG204': {'GT': '0/0',\n",
    "                                                   'AD': '74,0',\n",
    "                                                   'DP': '74',\n",
    "                                                   'GQ': '51',\n",
    "                                                   'PL': '0,51,1827'},\n",
    "                                         'XG302': {'GT': '0/1',\n",
    "                                                   'AD': '51,8',\n",
    "                                                   'DP': '59',\n",
    "                                                   'GQ': '32',\n",
    "                                                   'PL': '32,0,1388'},\n",
    "                                         'XG303': {'GT': '0/0',\n",
    "                                                   'AD': '47,0',\n",
    "                                                   'DP': '47',\n",
    "                                                   'GQ': '99',\n",
    "                                                   'PL': '0,114,1353'},\n",
    "                                         'XG304': {'GT': '0/0',\n",
    "                                                   'AD': '74,0',\n",
    "                                                   'DP': '74',\n",
    "                                                   'GQ': '51',\n",
    "                                                   'PL': '0,51,1827'},\n",
    "                                         'XG402': {'GT': '0/1',\n",
    "                                                   'AD': '51,8',\n",
    "                                                   'DP': '59',\n",
    "                                                   'GQ': '32',\n",
    "                                                   'PL': '32,0,1388'},\n",
    "                                         'XG403': {'GT': '0/0',\n",
    "                                                   'AD': '47,0',\n",
    "                                                   'DP': '47',\n",
    "                                                   'GQ': '99',\n",
    "                                                   'PL': '0,114,1353'},\n",
    "                                         'XG404': {'GT': '0/0',\n",
    "                                                   'AD': '74,0',\n",
    "                                                   'DP': '74',\n",
    "                                                   'GQ': '51',\n",
    "                                                   'PL': '0,51,1827'}}},\n",
    "                             {'CHROM': '12',\n",
    "                              'POS': '81444551',\n",
    "                              'ID': 'rs10746177',\n",
    "                              'REF': 'T',\n",
    "                              'ALT': 'C',\n",
    "                              'QUAL': '5022.69',\n",
    "                              'FILTER': 'PASS',\n",
    "                              'INFO': 'AC=6;AF=1;AN=6;DP=185;ExcessHet=3.0103;FS=0;MLEAC=6;MLEAF=1;MQ=59.95;QD=27.3;SOR=1.042;VQSLOD=4.51;culprit=QD;DB;POSITIVE_TRAIN_SITE;ANNOVAR_DATE=2018-04-16;Func.refGene=intergenic;Gene.refGene=LIN7A,ACSS3;GeneDetail.refGene=dist=112857,dist=27258;ExonicFunc.refGene=.;AAChange.refGene=.;Func.ensGene=intronic;Gene.ensGene=ENSG00000111058;GeneDetail.ensGene=.;ExonicFunc.ensGene=.;AAChange.ensGene=.;cytoBand=12q21.31;gwasCatalog=.;tfbsConsSites=.;wgRna=.;targetScanS=.;Gene_symbol=.;OXPHOS_Complex=.;Ensembl_Gene_ID=.;Ensembl_Protein_ID=.;Uniprot_Name=.;Uniprot_ID=.;NCBI_Gene_ID=.;NCBI_Protein_ID=.;Gene_pos=.;AA_pos=.;AA_sub=.;Codon_sub=.;dbSNP_ID=.;PhyloP_46V=.;PhastCons_46V=.;PhyloP_100V=.;PhastCons_100V=.;SiteVar=.;PolyPhen2_prediction=.;PolyPhen2_score=.;SIFT_prediction=.;SIFT_score=.;FatHmm_prediction=.;FatHmm_score=.;PROVEAN_prediction=.;PROVEAN_score=.;MutAss_prediction=.;MutAss_score=.;EFIN_Swiss_Prot_Score=.;EFIN_Swiss_Prot_Prediction=.;EFIN_HumDiv_Score=.;EFIN_HumDiv_Prediction=.;CADD_score=.;CADD_Phred_score=.;CADD_prediction=.;Carol_prediction=.;Carol_score=.;Condel_score=.;Condel_pred=.;COVEC_WMV=.;COVEC_WMV_prediction=.;PolyPhen2_score_transf=.;PolyPhen2_pred_transf=.;SIFT_score_transf=.;SIFT_pred_transf=.;MutAss_score_transf=.;MutAss_pred_transf=.;Perc_coevo_Sites=.;Mean_MI_score=.;COSMIC_ID=.;Tumor_site=.;Examined_samples=.;Mutation_frequency=.;US=.;Status=.;Associated_disease=.;Presence_in_TD=.;Class_predicted=.;Prob_N=.;Prob_P=.;SIFT_score=.;SIFT_converted_rankscore=.;SIFT_pred=.;Polyphen2_HDIV_score=.;Polyphen2_HDIV_rankscore=.;Polyphen2_HDIV_pred=.;Polyphen2_HVAR_score=.;Polyphen2_HVAR_rankscore=.;Polyphen2_HVAR_pred=.;LRT_score=.;LRT_converted_rankscore=.;LRT_pred=.;MutationTaster_score=.;MutationTaster_converted_rankscore=.;MutationTaster_pred=.;MutationAssessor_score=.;MutationAssessor_score_rankscore=.;MutationAssessor_pred=.;FATHMM_score=.;FATHMM_converted_rankscore=.;FATHMM_pred=.;PROVEAN_score=.;PROVEAN_converted_rankscore=.;PROVEAN_pred=.;VEST3_score=.;VEST3_rankscore=.;MetaSVM_score=.;MetaSVM_rankscore=.;MetaSVM_pred=.;MetaLR_score=.;MetaLR_rankscore=.;MetaLR_pred=.;M-CAP_score=.;M-CAP_rankscore=.;M-CAP_pred=.;CADD_raw=.;CADD_raw_rankscore=.;CADD_phred=.;DANN_score=.;DANN_rankscore=.;fathmm-MKL_coding_score=.;fathmm-MKL_coding_rankscore=.;fathmm-MKL_coding_pred=.;Eigen_coding_or_noncoding=.;Eigen-raw=.;Eigen-PC-raw=.;GenoCanyon_score=.;GenoCanyon_score_rankscore=.;integrated_fitCons_score=.;integrated_fitCons_score_rankscore=.;integrated_confidence_value=.;GERP++_RS=.;GERP++_RS_rankscore=.;phyloP100way_vertebrate=.;phyloP100way_vertebrate_rankscore=.;phyloP20way_mammalian=.;phyloP20way_mammalian_rankscore=.;phastCons100way_vertebrate=.;phastCons100way_vertebrate_rankscore=.;phastCons20way_mammalian=.;phastCons20way_mammalian_rankscore=.;SiPhy_29way_logOdds=.;SiPhy_29way_logOdds_rankscore=.;Interpro_domain=.;GTEx_V6_gene=.;GTEx_V6_tissue=.;esp6500siv2_all=.;esp6500siv2_aa=.;esp6500siv2_ea=.;ExAC_ALL=.;ExAC_AFR=.;ExAC_AMR=.;ExAC_EAS=.;ExAC_FIN=.;ExAC_NFE=.;ExAC_OTH=.;ExAC_SAS=.;ExAC_nontcga_ALL=.;ExAC_nontcga_AFR=.;ExAC_nontcga_AMR=.;ExAC_nontcga_EAS=.;ExAC_nontcga_FIN=.;ExAC_nontcga_NFE=.;ExAC_nontcga_OTH=.;ExAC_nontcga_SAS=.;ExAC_nonpsych_ALL=.;ExAC_nonpsych_AFR=.;ExAC_nonpsych_AMR=.;ExAC_nonpsych_EAS=.;ExAC_nonpsych_FIN=.;ExAC_nonpsych_NFE=.;ExAC_nonpsych_OTH=.;ExAC_nonpsych_SAS=.;1000g2015aug_all=0.9998;1000g2015aug_afr=0.9992;1000g2015aug_amr=1;1000g2015aug_eur=1;1000g2015aug_sas=1;CLNALLELEID=.;CLNDN=.;CLNDISDB=.;CLNREVSTAT=.;CLNSIG=.;dbscSNV_ADA_SCORE=.;dbscSNV_RF_SCORE=.;snp138NonFlagged=rs10746177;avsnp150=rs10746177;CADD13_RawScore=-0.101662;CADD13_PHRED=1.718;Eigen=-0.4730;REVEL=.;MCAP=.;Interpro_domain=.;ICGC_Id=.;ICGC_Occurrence=.;gnomAD_genome_ALL=0.9988;gnomAD_genome_AFR=0.9961;gnomAD_genome_AMR=1;gnomAD_genome_ASJ=1;gnomAD_genome_EAS=1;gnomAD_genome_FIN=1;gnomAD_genome_NFE=0.9998;gnomAD_genome_OTH=1;gerp++gt2=.;cosmic70=.;InterVar_automated=.;PVS1=.;PS1=.;PS2=.;PS3=.;PS4=.;PM1=.;PM2=.;PM3=.;PM4=.;PM5=.;PM6=.;PP1=.;PP2=.;PP3=.;PP4=.;PP5=.;BA1=.;BS1=.;BS2=.;BS3=.;BS4=.;BP1=.;BP2=.;BP3=.;BP4=.;BP5=.;BP6=.;BP7=.;Kaviar_AF=0.953358;Kaviar_AC=24814;Kaviar_AN=26028;ALLELE_END',\n",
    "                              'SAMPLE': {'XG102': {'GT': '1/1',\n",
    "                                                   'AD': '0,72',\n",
    "                                                   'DP': '72',\n",
    "                                                   'GQ': '99',\n",
    "                                                   'PL': '1905,214,0'},\n",
    "                                         'XG103': {'GT': '1/1',\n",
    "                                                   'AD': '0,56',\n",
    "                                                   'DP': '56',\n",
    "                                                   'GQ': '99',\n",
    "                                                   'PL': '1568,168,0'},\n",
    "                                         'XG104': {'GT': '1/1',\n",
    "                                                   'AD': '0,56',\n",
    "                                                   'DP': '56',\n",
    "                                                   'GQ': '99',\n",
    "                                                   'PL': '1563,168,0'},\n",
    "                                         'XG202': {'GT': '1/1',\n",
    "                                                   'AD': '0,72',\n",
    "                                                   'DP': '72',\n",
    "                                                   'GQ': '99',\n",
    "                                                   'PL': '1905,214,0'},\n",
    "                                         'XG203': {'GT': '1/1',\n",
    "                                                   'AD': '0,56',\n",
    "                                                   'DP': '56',\n",
    "                                                   'GQ': '99',\n",
    "                                                   'PL': '1568,168,0'},\n",
    "                                         'XG204': {'GT': '1/1',\n",
    "                                                   'AD': '0,56',\n",
    "                                                   'DP': '56',\n",
    "                                                   'GQ': '99',\n",
    "                                                   'PL': '1563,168,0'},\n",
    "                                         'XG302': {'GT': '1/1',\n",
    "                                                   'AD': '0,72',\n",
    "                                                   'DP': '72',\n",
    "                                                   'GQ': '99',\n",
    "                                                   'PL': '1905,214,0'},\n",
    "                                         'XG303': {'GT': '1/1',\n",
    "                                                   'AD': '0,56',\n",
    "                                                   'DP': '56',\n",
    "                                                   'GQ': '99',\n",
    "                                                   'PL': '1568,168,0'},\n",
    "                                         'XG304': {'GT': '1/1',\n",
    "                                                   'AD': '0,56',\n",
    "                                                   'DP': '56',\n",
    "                                                   'GQ': '99',\n",
    "                                                   'PL': '1563,168,0'},\n",
    "                                         'XG402': {'GT': '1/1',\n",
    "                                                   'AD': '0,72',\n",
    "                                                   'DP': '72',\n",
    "                                                   'GQ': '99',\n",
    "                                                   'PL': '1905,214,0'},\n",
    "                                         'XG403': {'GT': '1/1',\n",
    "                                                   'AD': '0,56',\n",
    "                                                   'DP': '56',\n",
    "                                                   'GQ': '99',\n",
    "                                                   'PL': '1568,168,0'},\n",
    "                                         'XG404': {'GT': '1/1',\n",
    "                                                   'AD': '0,56',\n",
    "                                                   'DP': '56',\n",
    "                                                   'GQ': '99',\n",
    "                                                   'PL': '1563,168,0'}}}]"
   ]
  },
  {
   "cell_type": "code",
   "execution_count": null,
   "metadata": {},
   "outputs": [],
   "source": [
    "def determine_data_type(value):\n",
    "\n",
    "    data_type = None\n",
    "    try:\n",
    "        int(value)\n",
    "        data_type = int\n",
    "        return data_type\n",
    "\n",
    "    except:\n",
    "        try:\n",
    "            float(value)\n",
    "            data_type = float\n",
    "            return data_type\n",
    "        except:\n",
    "            return str\n",
    "\n",
    "\n",
    "def determine_data_type_of_list(values):\n",
    "\n",
    "    list_data_type = []\n",
    "    for value in values:\n",
    "        if determine_data_type(value) == (str):\n",
    "            return str\n",
    "        if determine_data_type(value) not in list_data_type:\n",
    "            list_data_type.append(determine_data_type(value))\n",
    "    if float in list_data_type:\n",
    "        return float\n",
    "    if int in list_data_type:\n",
    "        return int\n",
    "\n",
    "\n",
    "def format_sample_fields(format_field, sample_field):\n",
    "\n",
    "    output = {}\n",
    "\n",
    "    dict_keys = sample_field.keys()\n",
    "    inner_keys = format_field.split(\":\")\n",
    "\n",
    "    for key in dict_keys:\n",
    "        key_key_value = sample_field[key].split(\":\")\n",
    "        temp_dict = {}\n",
    "        for i in range(len(key_key_value)):\n",
    "            temp_dict[inner_keys[i]] = key_key_value[i]\n",
    "        output[key] = temp_dict\n",
    "    return output\n",
    "\n",
    "\n",
    "def create_dict_from_line(header, line):\n",
    "\n",
    "    temp_dict = {}\n",
    "    list_of_lines = line.split(\"\\t\")\n",
    "\n",
    "    for key in header:\n",
    "        for i in range(len(list_of_lines)):\n",
    "            temp_dict[key] = list_of_lines[i]\n",
    "\n",
    "    temp_dict_keys = list(temp_dict.keys())\n",
    "\n",
    "    Dict_of_dict_of_everything_after_format = {}\n",
    "    for i in range(9, len(list_of_lines)):\n",
    "        Dict_of_dict_of_everything_after_format[temp_dict_keys[i]\n",
    "                                                ] = list_of_lines[i]\n",
    "\n",
    "    final_ans_dict = {}\n",
    "    for i in range(8):\n",
    "        final_ans_dict[temp_dict_keys[i]] = list_of_lines[i]\n",
    "        if i == 7:\n",
    "            final_ans_dict[\"SAMPLE\"] = format_sample_fields(\n",
    "                list_of_lines[i+1], Dict_of_dict_of_everything_after_format)\n",
    "\n",
    "    # ipdb.set_trace()\n",
    "    return final_ans_dict\n",
    "\n",
    "\n",
    "def read_vcf_file(filename):\n",
    "\n",
    "    with open(filename) as file:\n",
    "        list_of_lines = []\n",
    "        for line in file:\n",
    "            if not line.strip():\n",
    "                continue\n",
    "            list_of_lines.append(line.strip(\"\\n\"))\n",
    "    list_of_dicts = []\n",
    "    headers = list_of_lines[0].split(\"\\t\")\n",
    "    headers[0] = \"CHROM\"\n",
    "    for i in range(1, len(list_of_lines)):\n",
    "        list_of_dicts.append(create_dict_from_line(headers, list_of_lines[i]))\n",
    "    return list_of_dicts\n",
    "\n",
    "\n",
    "def extract_info_field(data):\n",
    "\n",
    "    answer_list = []\n",
    "    for i in range(len(data)):\n",
    "        answer_list.append(data[i][\"INFO\"])\n",
    "    return answer_list\n",
    "\n",
    "\n",
    "def create_dictionary_of_info_field_values(data):\n",
    "\n",
    "    # BEGIN SOLUTION\n",
    "    dicto = {}\n",
    "    info_maal = (data)\n",
    "    ith_info_maal = []\n",
    "\n",
    "    for i in range(len(info_maal)):\n",
    "        ith_info_maal = (info_maal[i].split(\";\"))\n",
    "        for j in range(len(ith_info_maal)):\n",
    "            try:\n",
    "                key, value = ith_info_maal[j].split(\"=\", 1)\n",
    "                if value != \".\":\n",
    "                    if key not in dicto.keys():\n",
    "                        dicto[key] = [value]\n",
    "                    else:\n",
    "                        if value not in dicto[key]:\n",
    "                            dicto[key] += [value]\n",
    "            except:\n",
    "                continue\n",
    "    print(dicto)\n",
    "    return dicto\n",
    "\n",
    "\n",
    "def determine_data_type_of_info_fields(data):\n",
    "\n",
    "    # Let's make our keys handy\n",
    "    dict_keys = list(data.keys())\n",
    "\n",
    "    # Setting up the base for the cake\n",
    "    dict_data_types = {}\n",
    "    key_data_type = []\n",
    "\n",
    "    # Appending the data type of the corresponding key in our list \"key_data_type\"\"\n",
    "    for key in dict_keys:\n",
    "        key_data_type.append(determine_data_type_of_list(data[key]))\n",
    "\n",
    "    # Fetching the data type for the respective key from our \"key_data_type\" list and assigning it as the value for our final answer dictionay named \"dict_data_types\"'s key\n",
    "    for i in range(len(dict_keys)):\n",
    "        dict_data_types[dict_keys[i]] = key_data_type[i]\n",
    "\n",
    "    return dict_data_types\n",
    "\n",
    "\n",
    "def format_data(data, info_field_data_type):\n",
    "\n",
    "    final_answer_list_of_dicts = []\n",
    "\n",
    "    for dicto in data:\n",
    "\n",
    "        # Handling int and float scene\n",
    "        dicto[\"QUAL\"] = float(dicto[\"QUAL\"])\n",
    "        dicto[\"POS\"] = int(dicto[\"POS\"])\n",
    "\n",
    "        # Creating a dictionary from the list and reassigning it to the info field\n",
    "        dicto[\"INFO\"] = create_dictionary_of_info_field_values(dicto[\"INFO\"])\n",
    "\n",
    "        # Grabbing all the keys of value of INFO field.\n",
    "        dicto_info_keys = list(dicto[\"INFO\"].keys())\n",
    "\n",
    "        # Putting them in the data type according to the second input of the function that holds the data type for respective field for our INFO field\n",
    "        for key in dicto_info_keys:\n",
    "            convert_type = info_field_data_type[key]\n",
    "            dicto[\"INFO\"][key] = convert_type(dicto[\"INFO\"][key])\n",
    "\n",
    "        final_answer_list_of_dicts.append(dicto)\n",
    "    # ipdb.set_trace()\n",
    "\n",
    "    return final_answer_list_of_dicts\n",
    "\n",
    "    # END SOLUTION\n"
   ]
  },
  {
   "cell_type": "code",
   "execution_count": null,
   "metadata": {},
   "outputs": [
    {
     "ename": "SyntaxError",
     "evalue": "invalid syntax (1294633217.py, line 6)",
     "output_type": "error",
     "traceback": [
      "\u001b[0;36m  File \u001b[0;32m\"/var/folders/q4/72ybtynd5sjf5ppl_5vpsw080000gn/T/ipykernel_21340/1294633217.py\"\u001b[0;36m, line \u001b[0;32m6\u001b[0m\n\u001b[0;31m    info_field_data_type =\u001b[0m\n\u001b[0m                           ^\u001b[0m\n\u001b[0;31mSyntaxError\u001b[0m\u001b[0;31m:\u001b[0m invalid syntax\n"
     ]
    }
   ],
   "source": [
    "info_field_data_type = {}\n",
    "for dictionary in data: \n",
    "    dictionary[\"INFO\"] = create_dictionary_of_info_field_values(dictionary[\"INFO\"])\n",
    "\n",
    "\n",
    "format_data(data, info_field_data_type)"
   ]
  },
  {
   "cell_type": "code",
   "execution_count": null,
   "metadata": {},
   "outputs": [],
   "source": [
    "for dictionary in data: \n",
    "    dictionary[\"INFO\"] = create_dictionary_of_info_field_values(dictionary[\"INFO\"])"
   ]
  },
  {
   "cell_type": "code",
   "execution_count": null,
   "metadata": {},
   "outputs": [
    {
     "data": {
      "text/plain": [
       "'AC=1;AF=0.167;AN=6;BaseQRankSum=-2.542;ClippingRankSum=0;DP=180;ExcessHet=3.0103;FS=0;MLEAC=1;MLEAF=0.167;MQ=52.77;MQRankSum=-4.631;QD=0.39;ReadPosRankSum=1.45;SOR=0.758;VQSLOD=-8.209;culprit=MQ;ANNOVAR_DATE=2018-04-16;Func.refGene=intergenic;Gene.refGene=IL2,IL21;GeneDetail.refGene=dist=38536,dist=117597;ExonicFunc.refGene=.;AAChange.refGene=.;Func.ensGene=intergenic;Gene.ensGene=ENSG00000109471,ENSG00000138684;GeneDetail.ensGene=dist=38306,dist=117597;ExonicFunc.ensGene=.;AAChange.ensGene=.;cytoBand=4q27;gwasCatalog=.;tfbsConsSites=.;wgRna=.;targetScanS=.;Gene_symbol=.;OXPHOS_Complex=.;Ensembl_Gene_ID=.;Ensembl_Protein_ID=.;Uniprot_Name=.;Uniprot_ID=.;NCBI_Gene_ID=.;NCBI_Protein_ID=.;Gene_pos=.;AA_pos=.;AA_sub=.;Codon_sub=.;dbSNP_ID=.;PhyloP_46V=.;PhastCons_46V=.;PhyloP_100V=.;PhastCons_100V=.;SiteVar=.;PolyPhen2_prediction=.;PolyPhen2_score=.;SIFT_prediction=.;SIFT_score=.;FatHmm_prediction=.;FatHmm_score=.;PROVEAN_prediction=.;PROVEAN_score=.;MutAss_prediction=.;MutAss_score=.;EFIN_Swiss_Prot_Score=.;EFIN_Swiss_Prot_Prediction=.;EFIN_HumDiv_Score=.;EFIN_HumDiv_Prediction=.;CADD_score=.;CADD_Phred_score=.;CADD_prediction=.;Carol_prediction=.;Carol_score=.;Condel_score=.;Condel_pred=.;COVEC_WMV=.;COVEC_WMV_prediction=.;PolyPhen2_score_transf=.;PolyPhen2_pred_transf=.;SIFT_score_transf=.;SIFT_pred_transf=.;MutAss_score_transf=.;MutAss_pred_transf=.;Perc_coevo_Sites=.;Mean_MI_score=.;COSMIC_ID=.;Tumor_site=.;Examined_samples=.;Mutation_frequency=.;US=.;Status=.;Associated_disease=.;Presence_in_TD=.;Class_predicted=.;Prob_N=.;Prob_P=.;SIFT_score=.;SIFT_converted_rankscore=.;SIFT_pred=.;Polyphen2_HDIV_score=.;Polyphen2_HDIV_rankscore=.;Polyphen2_HDIV_pred=.;Polyphen2_HVAR_score=.;Polyphen2_HVAR_rankscore=.;Polyphen2_HVAR_pred=.;LRT_score=.;LRT_converted_rankscore=.;LRT_pred=.;MutationTaster_score=.;MutationTaster_converted_rankscore=.;MutationTaster_pred=.;MutationAssessor_score=.;MutationAssessor_score_rankscore=.;MutationAssessor_pred=.;FATHMM_score=.;FATHMM_converted_rankscore=.;FATHMM_pred=.;PROVEAN_score=.;PROVEAN_converted_rankscore=.;PROVEAN_pred=.;VEST3_score=.;VEST3_rankscore=.;MetaSVM_score=.;MetaSVM_rankscore=.;MetaSVM_pred=.;MetaLR_score=.;MetaLR_rankscore=.;MetaLR_pred=.;M-CAP_score=.;M-CAP_rankscore=.;M-CAP_pred=.;CADD_raw=.;CADD_raw_rankscore=.;CADD_phred=.;DANN_score=.;DANN_rankscore=.;fathmm-MKL_coding_score=.;fathmm-MKL_coding_rankscore=.;fathmm-MKL_coding_pred=.;Eigen_coding_or_noncoding=.;Eigen-raw=.;Eigen-PC-raw=.;GenoCanyon_score=.;GenoCanyon_score_rankscore=.;integrated_fitCons_score=.;integrated_fitCons_score_rankscore=.;integrated_confidence_value=.;GERP++_RS=.;GERP++_RS_rankscore=.;phyloP100way_vertebrate=.;phyloP100way_vertebrate_rankscore=.;phyloP20way_mammalian=.;phyloP20way_mammalian_rankscore=.;phastCons100way_vertebrate=.;phastCons100way_vertebrate_rankscore=.;phastCons20way_mammalian=.;phastCons20way_mammalian_rankscore=.;SiPhy_29way_logOdds=.;SiPhy_29way_logOdds_rankscore=.;Interpro_domain=.;GTEx_V6_gene=.;GTEx_V6_tissue=.;esp6500siv2_all=.;esp6500siv2_aa=.;esp6500siv2_ea=.;ExAC_ALL=.;ExAC_AFR=.;ExAC_AMR=.;ExAC_EAS=.;ExAC_FIN=.;ExAC_NFE=.;ExAC_OTH=.;ExAC_SAS=.;ExAC_nontcga_ALL=.;ExAC_nontcga_AFR=.;ExAC_nontcga_AMR=.;ExAC_nontcga_EAS=.;ExAC_nontcga_FIN=.;ExAC_nontcga_NFE=.;ExAC_nontcga_OTH=.;ExAC_nontcga_SAS=.;ExAC_nonpsych_ALL=.;ExAC_nonpsych_AFR=.;ExAC_nonpsych_AMR=.;ExAC_nonpsych_EAS=.;ExAC_nonpsych_FIN=.;ExAC_nonpsych_NFE=.;ExAC_nonpsych_OTH=.;ExAC_nonpsych_SAS=.;1000g2015aug_all=.;1000g2015aug_afr=.;1000g2015aug_amr=.;1000g2015aug_eur=.;1000g2015aug_sas=.;CLNALLELEID=.;CLNDN=.;CLNDISDB=.;CLNREVSTAT=.;CLNSIG=.;dbscSNV_ADA_SCORE=.;dbscSNV_RF_SCORE=.;snp138NonFlagged=.;avsnp150=.;CADD13_RawScore=0.015973;CADD13_PHRED=2.741;Eigen=-0.3239;REVEL=.;MCAP=.;Interpro_domain=.;ICGC_Id=.;ICGC_Occurrence=.;gnomAD_genome_ALL=0.0003;gnomAD_genome_AFR=0.0001;gnomAD_genome_AMR=0;gnomAD_genome_ASJ=0;gnomAD_genome_EAS=0.0007;gnomAD_genome_FIN=0.0009;gnomAD_genome_NFE=0.0002;gnomAD_genome_OTH=0.0011;gerp++gt2=.;cosmic70=.;InterVar_automated=.;PVS1=.;PS1=.;PS2=.;PS3=.;PS4=.;PM1=.;PM2=.;PM3=.;PM4=.;PM5=.;PM6=.;PP1=.;PP2=.;PP3=.;PP4=.;PP5=.;BA1=.;BS1=.;BS2=.;BS3=.;BS4=.;BP1=.;BP2=.;BP3=.;BP4=.;BP5=.;BP6=.;BP7=.;Kaviar_AF=.;Kaviar_AC=.;Kaviar_AN=.;ALLELE_END'"
      ]
     },
     "execution_count": 5,
     "metadata": {},
     "output_type": "execute_result"
    }
   ],
   "source": [
    "data[0][\"INFO\"]"
   ]
  },
  {
   "cell_type": "markdown",
   "metadata": {},
   "source": []
  },
  {
   "cell_type": "code",
   "execution_count": null,
   "metadata": {},
   "outputs": [
    {
     "data": {
      "text/plain": [
       "'AC=1;AF=0.167;AN=6;BaseQRankSum=-2.542;ClippingRankSum=0;DP=180;ExcessHet=3.0103;FS=0;MLEAC=1;MLEAF=0.167;MQ=52.77;MQRankSum=-4.631;QD=0.39;ReadPosRankSum=1.45;SOR=0.758;VQSLOD=-8.209;culprit=MQ;ANNOVAR_DATE=2018-04-16;Func.refGene=intergenic;Gene.refGene=IL2,IL21;GeneDetail.refGene=dist=38536,dist=117597;ExonicFunc.refGene=.;AAChange.refGene=.;Func.ensGene=intergenic;Gene.ensGene=ENSG00000109471,ENSG00000138684;GeneDetail.ensGene=dist=38306,dist=117597;ExonicFunc.ensGene=.;AAChange.ensGene=.;cytoBand=4q27;gwasCatalog=.;tfbsConsSites=.;wgRna=.;targetScanS=.;Gene_symbol=.;OXPHOS_Complex=.;Ensembl_Gene_ID=.;Ensembl_Protein_ID=.;Uniprot_Name=.;Uniprot_ID=.;NCBI_Gene_ID=.;NCBI_Protein_ID=.;Gene_pos=.;AA_pos=.;AA_sub=.;Codon_sub=.;dbSNP_ID=.;PhyloP_46V=.;PhastCons_46V=.;PhyloP_100V=.;PhastCons_100V=.;SiteVar=.;PolyPhen2_prediction=.;PolyPhen2_score=.;SIFT_prediction=.;SIFT_score=.;FatHmm_prediction=.;FatHmm_score=.;PROVEAN_prediction=.;PROVEAN_score=.;MutAss_prediction=.;MutAss_score=.;EFIN_Swiss_Prot_Score=.;EFIN_Swiss_Prot_Prediction=.;EFIN_HumDiv_Score=.;EFIN_HumDiv_Prediction=.;CADD_score=.;CADD_Phred_score=.;CADD_prediction=.;Carol_prediction=.;Carol_score=.;Condel_score=.;Condel_pred=.;COVEC_WMV=.;COVEC_WMV_prediction=.;PolyPhen2_score_transf=.;PolyPhen2_pred_transf=.;SIFT_score_transf=.;SIFT_pred_transf=.;MutAss_score_transf=.;MutAss_pred_transf=.;Perc_coevo_Sites=.;Mean_MI_score=.;COSMIC_ID=.;Tumor_site=.;Examined_samples=.;Mutation_frequency=.;US=.;Status=.;Associated_disease=.;Presence_in_TD=.;Class_predicted=.;Prob_N=.;Prob_P=.;SIFT_score=.;SIFT_converted_rankscore=.;SIFT_pred=.;Polyphen2_HDIV_score=.;Polyphen2_HDIV_rankscore=.;Polyphen2_HDIV_pred=.;Polyphen2_HVAR_score=.;Polyphen2_HVAR_rankscore=.;Polyphen2_HVAR_pred=.;LRT_score=.;LRT_converted_rankscore=.;LRT_pred=.;MutationTaster_score=.;MutationTaster_converted_rankscore=.;MutationTaster_pred=.;MutationAssessor_score=.;MutationAssessor_score_rankscore=.;MutationAssessor_pred=.;FATHMM_score=.;FATHMM_converted_rankscore=.;FATHMM_pred=.;PROVEAN_score=.;PROVEAN_converted_rankscore=.;PROVEAN_pred=.;VEST3_score=.;VEST3_rankscore=.;MetaSVM_score=.;MetaSVM_rankscore=.;MetaSVM_pred=.;MetaLR_score=.;MetaLR_rankscore=.;MetaLR_pred=.;M-CAP_score=.;M-CAP_rankscore=.;M-CAP_pred=.;CADD_raw=.;CADD_raw_rankscore=.;CADD_phred=.;DANN_score=.;DANN_rankscore=.;fathmm-MKL_coding_score=.;fathmm-MKL_coding_rankscore=.;fathmm-MKL_coding_pred=.;Eigen_coding_or_noncoding=.;Eigen-raw=.;Eigen-PC-raw=.;GenoCanyon_score=.;GenoCanyon_score_rankscore=.;integrated_fitCons_score=.;integrated_fitCons_score_rankscore=.;integrated_confidence_value=.;GERP++_RS=.;GERP++_RS_rankscore=.;phyloP100way_vertebrate=.;phyloP100way_vertebrate_rankscore=.;phyloP20way_mammalian=.;phyloP20way_mammalian_rankscore=.;phastCons100way_vertebrate=.;phastCons100way_vertebrate_rankscore=.;phastCons20way_mammalian=.;phastCons20way_mammalian_rankscore=.;SiPhy_29way_logOdds=.;SiPhy_29way_logOdds_rankscore=.;Interpro_domain=.;GTEx_V6_gene=.;GTEx_V6_tissue=.;esp6500siv2_all=.;esp6500siv2_aa=.;esp6500siv2_ea=.;ExAC_ALL=.;ExAC_AFR=.;ExAC_AMR=.;ExAC_EAS=.;ExAC_FIN=.;ExAC_NFE=.;ExAC_OTH=.;ExAC_SAS=.;ExAC_nontcga_ALL=.;ExAC_nontcga_AFR=.;ExAC_nontcga_AMR=.;ExAC_nontcga_EAS=.;ExAC_nontcga_FIN=.;ExAC_nontcga_NFE=.;ExAC_nontcga_OTH=.;ExAC_nontcga_SAS=.;ExAC_nonpsych_ALL=.;ExAC_nonpsych_AFR=.;ExAC_nonpsych_AMR=.;ExAC_nonpsych_EAS=.;ExAC_nonpsych_FIN=.;ExAC_nonpsych_NFE=.;ExAC_nonpsych_OTH=.;ExAC_nonpsych_SAS=.;1000g2015aug_all=.;1000g2015aug_afr=.;1000g2015aug_amr=.;1000g2015aug_eur=.;1000g2015aug_sas=.;CLNALLELEID=.;CLNDN=.;CLNDISDB=.;CLNREVSTAT=.;CLNSIG=.;dbscSNV_ADA_SCORE=.;dbscSNV_RF_SCORE=.;snp138NonFlagged=.;avsnp150=.;CADD13_RawScore=0.015973;CADD13_PHRED=2.741;Eigen=-0.3239;REVEL=.;MCAP=.;Interpro_domain=.;ICGC_Id=.;ICGC_Occurrence=.;gnomAD_genome_ALL=0.0003;gnomAD_genome_AFR=0.0001;gnomAD_genome_AMR=0;gnomAD_genome_ASJ=0;gnomAD_genome_EAS=0.0007;gnomAD_genome_FIN=0.0009;gnomAD_genome_NFE=0.0002;gnomAD_genome_OTH=0.0011;gerp++gt2=.;cosmic70=.;InterVar_automated=.;PVS1=.;PS1=.;PS2=.;PS3=.;PS4=.;PM1=.;PM2=.;PM3=.;PM4=.;PM5=.;PM6=.;PP1=.;PP2=.;PP3=.;PP4=.;PP5=.;BA1=.;BS1=.;BS2=.;BS3=.;BS4=.;BP1=.;BP2=.;BP3=.;BP4=.;BP5=.;BP6=.;BP7=.;Kaviar_AF=.;Kaviar_AC=.;Kaviar_AN=.;ALLELE_END'"
      ]
     },
     "execution_count": 52,
     "metadata": {},
     "output_type": "execute_result"
    }
   ],
   "source": [
    "data[0][\"INFO\"]"
   ]
  },
  {
   "cell_type": "code",
   "execution_count": null,
   "metadata": {},
   "outputs": [
    {
     "name": "stdout",
     "output_type": "stream",
     "text": [
      "{'': ['']}\n"
     ]
    },
    {
     "data": {
      "text/plain": [
       "{'': ['']}"
      ]
     },
     "execution_count": 10,
     "metadata": {},
     "output_type": "execute_result"
    }
   ],
   "source": [
    "a = create_dictionary_of_info_field_values(data[0][\"INFO\"])\n",
    "a"
   ]
  },
  {
   "cell_type": "code",
   "execution_count": null,
   "metadata": {},
   "outputs": [
    {
     "name": "stdout",
     "output_type": "stream",
     "text": [
      "['AC=1;AF=0.167;AN=6;BaseQRankSum=-2.542;ClippingRankSum=0;DP=180;ExcessHet=3.0103;FS=0;MLEAC=1;MLEAF=0.167;MQ=52.77;MQRankSum=-4.631;QD=0.39;ReadPosRankSum=1.45;SOR=0.758;VQSLOD=-8.209;culprit=MQ;ANNOVAR_DATE=2018-04-16;Func.refGene=intergenic;Gene.refGene=IL2,IL21;GeneDetail.refGene=dist=38536,dist=117597;ExonicFunc.refGene=.;AAChange.refGene=.;Func.ensGene=intergenic;Gene.ensGene=ENSG00000109471,ENSG00000138684;GeneDetail.ensGene=dist=38306,dist=117597;ExonicFunc.ensGene=.;AAChange.ensGene=.;cytoBand=4q27;gwasCatalog=.;tfbsConsSites=.;wgRna=.;targetScanS=.;Gene_symbol=.;OXPHOS_Complex=.;Ensembl_Gene_ID=.;Ensembl_Protein_ID=.;Uniprot_Name=.;Uniprot_ID=.;NCBI_Gene_ID=.;NCBI_Protein_ID=.;Gene_pos=.;AA_pos=.;AA_sub=.;Codon_sub=.;dbSNP_ID=.;PhyloP_46V=.;PhastCons_46V=.;PhyloP_100V=.;PhastCons_100V=.;SiteVar=.;PolyPhen2_prediction=.;PolyPhen2_score=.;SIFT_prediction=.;SIFT_score=.;FatHmm_prediction=.;FatHmm_score=.;PROVEAN_prediction=.;PROVEAN_score=.;MutAss_prediction=.;MutAss_score=.;EFIN_Swiss_Prot_Score=.;EFIN_Swiss_Prot_Prediction=.;EFIN_HumDiv_Score=.;EFIN_HumDiv_Prediction=.;CADD_score=.;CADD_Phred_score=.;CADD_prediction=.;Carol_prediction=.;Carol_score=.;Condel_score=.;Condel_pred=.;COVEC_WMV=.;COVEC_WMV_prediction=.;PolyPhen2_score_transf=.;PolyPhen2_pred_transf=.;SIFT_score_transf=.;SIFT_pred_transf=.;MutAss_score_transf=.;MutAss_pred_transf=.;Perc_coevo_Sites=.;Mean_MI_score=.;COSMIC_ID=.;Tumor_site=.;Examined_samples=.;Mutation_frequency=.;US=.;Status=.;Associated_disease=.;Presence_in_TD=.;Class_predicted=.;Prob_N=.;Prob_P=.;SIFT_score=.;SIFT_converted_rankscore=.;SIFT_pred=.;Polyphen2_HDIV_score=.;Polyphen2_HDIV_rankscore=.;Polyphen2_HDIV_pred=.;Polyphen2_HVAR_score=.;Polyphen2_HVAR_rankscore=.;Polyphen2_HVAR_pred=.;LRT_score=.;LRT_converted_rankscore=.;LRT_pred=.;MutationTaster_score=.;MutationTaster_converted_rankscore=.;MutationTaster_pred=.;MutationAssessor_score=.;MutationAssessor_score_rankscore=.;MutationAssessor_pred=.;FATHMM_score=.;FATHMM_converted_rankscore=.;FATHMM_pred=.;PROVEAN_score=.;PROVEAN_converted_rankscore=.;PROVEAN_pred=.;VEST3_score=.;VEST3_rankscore=.;MetaSVM_score=.;MetaSVM_rankscore=.;MetaSVM_pred=.;MetaLR_score=.;MetaLR_rankscore=.;MetaLR_pred=.;M-CAP_score=.;M-CAP_rankscore=.;M-CAP_pred=.;CADD_raw=.;CADD_raw_rankscore=.;CADD_phred=.;DANN_score=.;DANN_rankscore=.;fathmm-MKL_coding_score=.;fathmm-MKL_coding_rankscore=.;fathmm-MKL_coding_pred=.;Eigen_coding_or_noncoding=.;Eigen-raw=.;Eigen-PC-raw=.;GenoCanyon_score=.;GenoCanyon_score_rankscore=.;integrated_fitCons_score=.;integrated_fitCons_score_rankscore=.;integrated_confidence_value=.;GERP++_RS=.;GERP++_RS_rankscore=.;phyloP100way_vertebrate=.;phyloP100way_vertebrate_rankscore=.;phyloP20way_mammalian=.;phyloP20way_mammalian_rankscore=.;phastCons100way_vertebrate=.;phastCons100way_vertebrate_rankscore=.;phastCons20way_mammalian=.;phastCons20way_mammalian_rankscore=.;SiPhy_29way_logOdds=.;SiPhy_29way_logOdds_rankscore=.;Interpro_domain=.;GTEx_V6_gene=.;GTEx_V6_tissue=.;esp6500siv2_all=.;esp6500siv2_aa=.;esp6500siv2_ea=.;ExAC_ALL=.;ExAC_AFR=.;ExAC_AMR=.;ExAC_EAS=.;ExAC_FIN=.;ExAC_NFE=.;ExAC_OTH=.;ExAC_SAS=.;ExAC_nontcga_ALL=.;ExAC_nontcga_AFR=.;ExAC_nontcga_AMR=.;ExAC_nontcga_EAS=.;ExAC_nontcga_FIN=.;ExAC_nontcga_NFE=.;ExAC_nontcga_OTH=.;ExAC_nontcga_SAS=.;ExAC_nonpsych_ALL=.;ExAC_nonpsych_AFR=.;ExAC_nonpsych_AMR=.;ExAC_nonpsych_EAS=.;ExAC_nonpsych_FIN=.;ExAC_nonpsych_NFE=.;ExAC_nonpsych_OTH=.;ExAC_nonpsych_SAS=.;1000g2015aug_all=.;1000g2015aug_afr=.;1000g2015aug_amr=.;1000g2015aug_eur=.;1000g2015aug_sas=.;CLNALLELEID=.;CLNDN=.;CLNDISDB=.;CLNREVSTAT=.;CLNSIG=.;dbscSNV_ADA_SCORE=.;dbscSNV_RF_SCORE=.;snp138NonFlagged=.;avsnp150=.;CADD13_RawScore=0.015973;CADD13_PHRED=2.741;Eigen=-0.3239;REVEL=.;MCAP=.;Interpro_domain=.;ICGC_Id=.;ICGC_Occurrence=.;gnomAD_genome_ALL=0.0003;gnomAD_genome_AFR=0.0001;gnomAD_genome_AMR=0;gnomAD_genome_ASJ=0;gnomAD_genome_EAS=0.0007;gnomAD_genome_FIN=0.0009;gnomAD_genome_NFE=0.0002;gnomAD_genome_OTH=0.0011;gerp++gt2=.;cosmic70=.;InterVar_automated=.;PVS1=.;PS1=.;PS2=.;PS3=.;PS4=.;PM1=.;PM2=.;PM3=.;PM4=.;PM5=.;PM6=.;PP1=.;PP2=.;PP3=.;PP4=.;PP5=.;BA1=.;BS1=.;BS2=.;BS3=.;BS4=.;BP1=.;BP2=.;BP3=.;BP4=.;BP5=.;BP6=.;BP7=.;Kaviar_AF=.;Kaviar_AC=.;Kaviar_AN=.;ALLELE_END', 'AC=6;AF=1;AN=6;DP=185;ExcessHet=3.0103;FS=0;MLEAC=6;MLEAF=1;MQ=59.95;QD=27.3;SOR=1.042;VQSLOD=4.51;culprit=QD;DB;POSITIVE_TRAIN_SITE;ANNOVAR_DATE=2018-04-16;Func.refGene=intergenic;Gene.refGene=LIN7A,ACSS3;GeneDetail.refGene=dist=112857,dist=27258;ExonicFunc.refGene=.;AAChange.refGene=.;Func.ensGene=intronic;Gene.ensGene=ENSG00000111058;GeneDetail.ensGene=.;ExonicFunc.ensGene=.;AAChange.ensGene=.;cytoBand=12q21.31;gwasCatalog=.;tfbsConsSites=.;wgRna=.;targetScanS=.;Gene_symbol=.;OXPHOS_Complex=.;Ensembl_Gene_ID=.;Ensembl_Protein_ID=.;Uniprot_Name=.;Uniprot_ID=.;NCBI_Gene_ID=.;NCBI_Protein_ID=.;Gene_pos=.;AA_pos=.;AA_sub=.;Codon_sub=.;dbSNP_ID=.;PhyloP_46V=.;PhastCons_46V=.;PhyloP_100V=.;PhastCons_100V=.;SiteVar=.;PolyPhen2_prediction=.;PolyPhen2_score=.;SIFT_prediction=.;SIFT_score=.;FatHmm_prediction=.;FatHmm_score=.;PROVEAN_prediction=.;PROVEAN_score=.;MutAss_prediction=.;MutAss_score=.;EFIN_Swiss_Prot_Score=.;EFIN_Swiss_Prot_Prediction=.;EFIN_HumDiv_Score=.;EFIN_HumDiv_Prediction=.;CADD_score=.;CADD_Phred_score=.;CADD_prediction=.;Carol_prediction=.;Carol_score=.;Condel_score=.;Condel_pred=.;COVEC_WMV=.;COVEC_WMV_prediction=.;PolyPhen2_score_transf=.;PolyPhen2_pred_transf=.;SIFT_score_transf=.;SIFT_pred_transf=.;MutAss_score_transf=.;MutAss_pred_transf=.;Perc_coevo_Sites=.;Mean_MI_score=.;COSMIC_ID=.;Tumor_site=.;Examined_samples=.;Mutation_frequency=.;US=.;Status=.;Associated_disease=.;Presence_in_TD=.;Class_predicted=.;Prob_N=.;Prob_P=.;SIFT_score=.;SIFT_converted_rankscore=.;SIFT_pred=.;Polyphen2_HDIV_score=.;Polyphen2_HDIV_rankscore=.;Polyphen2_HDIV_pred=.;Polyphen2_HVAR_score=.;Polyphen2_HVAR_rankscore=.;Polyphen2_HVAR_pred=.;LRT_score=.;LRT_converted_rankscore=.;LRT_pred=.;MutationTaster_score=.;MutationTaster_converted_rankscore=.;MutationTaster_pred=.;MutationAssessor_score=.;MutationAssessor_score_rankscore=.;MutationAssessor_pred=.;FATHMM_score=.;FATHMM_converted_rankscore=.;FATHMM_pred=.;PROVEAN_score=.;PROVEAN_converted_rankscore=.;PROVEAN_pred=.;VEST3_score=.;VEST3_rankscore=.;MetaSVM_score=.;MetaSVM_rankscore=.;MetaSVM_pred=.;MetaLR_score=.;MetaLR_rankscore=.;MetaLR_pred=.;M-CAP_score=.;M-CAP_rankscore=.;M-CAP_pred=.;CADD_raw=.;CADD_raw_rankscore=.;CADD_phred=.;DANN_score=.;DANN_rankscore=.;fathmm-MKL_coding_score=.;fathmm-MKL_coding_rankscore=.;fathmm-MKL_coding_pred=.;Eigen_coding_or_noncoding=.;Eigen-raw=.;Eigen-PC-raw=.;GenoCanyon_score=.;GenoCanyon_score_rankscore=.;integrated_fitCons_score=.;integrated_fitCons_score_rankscore=.;integrated_confidence_value=.;GERP++_RS=.;GERP++_RS_rankscore=.;phyloP100way_vertebrate=.;phyloP100way_vertebrate_rankscore=.;phyloP20way_mammalian=.;phyloP20way_mammalian_rankscore=.;phastCons100way_vertebrate=.;phastCons100way_vertebrate_rankscore=.;phastCons20way_mammalian=.;phastCons20way_mammalian_rankscore=.;SiPhy_29way_logOdds=.;SiPhy_29way_logOdds_rankscore=.;Interpro_domain=.;GTEx_V6_gene=.;GTEx_V6_tissue=.;esp6500siv2_all=.;esp6500siv2_aa=.;esp6500siv2_ea=.;ExAC_ALL=.;ExAC_AFR=.;ExAC_AMR=.;ExAC_EAS=.;ExAC_FIN=.;ExAC_NFE=.;ExAC_OTH=.;ExAC_SAS=.;ExAC_nontcga_ALL=.;ExAC_nontcga_AFR=.;ExAC_nontcga_AMR=.;ExAC_nontcga_EAS=.;ExAC_nontcga_FIN=.;ExAC_nontcga_NFE=.;ExAC_nontcga_OTH=.;ExAC_nontcga_SAS=.;ExAC_nonpsych_ALL=.;ExAC_nonpsych_AFR=.;ExAC_nonpsych_AMR=.;ExAC_nonpsych_EAS=.;ExAC_nonpsych_FIN=.;ExAC_nonpsych_NFE=.;ExAC_nonpsych_OTH=.;ExAC_nonpsych_SAS=.;1000g2015aug_all=0.9998;1000g2015aug_afr=0.9992;1000g2015aug_amr=1;1000g2015aug_eur=1;1000g2015aug_sas=1;CLNALLELEID=.;CLNDN=.;CLNDISDB=.;CLNREVSTAT=.;CLNSIG=.;dbscSNV_ADA_SCORE=.;dbscSNV_RF_SCORE=.;snp138NonFlagged=rs10746177;avsnp150=rs10746177;CADD13_RawScore=-0.101662;CADD13_PHRED=1.718;Eigen=-0.4730;REVEL=.;MCAP=.;Interpro_domain=.;ICGC_Id=.;ICGC_Occurrence=.;gnomAD_genome_ALL=0.9988;gnomAD_genome_AFR=0.9961;gnomAD_genome_AMR=1;gnomAD_genome_ASJ=1;gnomAD_genome_EAS=1;gnomAD_genome_FIN=1;gnomAD_genome_NFE=0.9998;gnomAD_genome_OTH=1;gerp++gt2=.;cosmic70=.;InterVar_automated=.;PVS1=.;PS1=.;PS2=.;PS3=.;PS4=.;PM1=.;PM2=.;PM3=.;PM4=.;PM5=.;PM6=.;PP1=.;PP2=.;PP3=.;PP4=.;PP5=.;BA1=.;BS1=.;BS2=.;BS3=.;BS4=.;BP1=.;BP2=.;BP3=.;BP4=.;BP5=.;BP6=.;BP7=.;Kaviar_AF=0.953358;Kaviar_AC=24814;Kaviar_AN=26028;ALLELE_END']\n",
      "Hello\n"
     ]
    }
   ],
   "source": [
    "dicto = {}\n",
    "info_maal = extract_info_field(read_vcf_file('two_variants.vcf'))\n",
    "print(info_maal)\n",
    "print(\"Hello\")\n",
    "\n",
    "ith_info_maal = []\n",
    "for i in range(len(info_maal)):\n",
    "    ith_info_maal = (info_maal[i].split(\";\"))\n",
    "    for j in range(len(ith_info_maal)):\n",
    "        try:\n",
    "            key, value = ith_info_maal[j].split(\"=\", 1)\n",
    "            if value != \".\":\n",
    "                if key not in dicto.keys():\n",
    "                    dicto[key] = [value]\n",
    "                else:\n",
    "                    dicto[key] += [value]\n",
    "        except:\n",
    "            continue\n",
    "\n",
    "\n"
   ]
  },
  {
   "cell_type": "code",
   "execution_count": null,
   "metadata": {},
   "outputs": [
    {
     "data": {
      "text/plain": [
       "False"
      ]
     },
     "execution_count": 48,
     "metadata": {},
     "output_type": "execute_result"
    }
   ],
   "source": [
    "info_maal == data"
   ]
  },
  {
   "cell_type": "code",
   "execution_count": null,
   "metadata": {},
   "outputs": [],
   "source": [
    "# dicto_2 = {}\n",
    "#         # info_maal is a string that holds the value for the INFO field\n",
    "#         info_maal = dicto.get(\"INFO\")\n",
    "#         ith_info_maal = []\n",
    "\n",
    "#         for i in range(len(info_maal)):\n",
    "#             ith_info_maal = (info_maal[i].split(\";\"))\n",
    "#             for j in range(len(ith_info_maal)):\n",
    "#                 try:\n",
    "#                     key, value = ith_info_maal[j].split(\"=\", 1)\n",
    "#                     if value != \".\":\n",
    "#                         if key not in dicto_2.keys():\n",
    "#                             dicto_2[key] = [value]\n",
    "#                         else:\n",
    "#                             if value not in dicto_2[key]:\n",
    "#                                 dicto_2[key] += [value]\n",
    "#                 except:\n",
    "#                     continue\n",
    "\n",
    "#         # Reassigning the freshly formed dictionary to the generic INFO filed of our dicto\n",
    "#         dicto[\"INFO\"] = dicto_2"
   ]
  },
  {
   "cell_type": "code",
   "execution_count": null,
   "metadata": {},
   "outputs": [
    {
     "name": "stdout",
     "output_type": "stream",
     "text": [
      "a\n",
      "b\n",
      "c\n"
     ]
    }
   ],
   "source": [
    "a = {'a': 1, 'b': 2, 'c': 3}\n",
    "for a in a:\n",
    "    print(a)"
   ]
  },
  {
   "cell_type": "code",
   "execution_count": null,
   "metadata": {},
   "outputs": [
    {
     "data": {
      "text/plain": [
       "True"
      ]
     },
     "execution_count": 59,
     "metadata": {},
     "output_type": "execute_result"
    }
   ],
   "source": [
    "a = \"hello\"\n",
    "b = 'llohe'\n",
    "sorted(a) == sorted(b)"
   ]
  },
  {
   "cell_type": "code",
   "execution_count": null,
   "metadata": {},
   "outputs": [
    {
     "ename": "IndexError",
     "evalue": "list index out of range",
     "output_type": "error",
     "traceback": [
      "\u001b[0;31m---------------------------------------------------------------------------\u001b[0m",
      "\u001b[0;31mIndexError\u001b[0m                                Traceback (most recent call last)",
      "\u001b[0;32m/var/folders/q4/72ybtynd5sjf5ppl_5vpsw080000gn/T/ipykernel_27265/2442489773.py\u001b[0m in \u001b[0;36m<module>\u001b[0;34m\u001b[0m\n\u001b[1;32m      1\u001b[0m \u001b[0mfilename\u001b[0m \u001b[0;34m=\u001b[0m \u001b[0;34m'mini_project1_data.vcf'\u001b[0m\u001b[0;34m\u001b[0m\u001b[0;34m\u001b[0m\u001b[0m\n\u001b[0;32m----> 2\u001b[0;31m \u001b[0mdata\u001b[0m \u001b[0;34m=\u001b[0m \u001b[0mread_vcf_file\u001b[0m\u001b[0;34m(\u001b[0m\u001b[0mfilename\u001b[0m\u001b[0;34m)\u001b[0m\u001b[0;34m\u001b[0m\u001b[0;34m\u001b[0m\u001b[0m\n\u001b[0m\u001b[1;32m      3\u001b[0m \u001b[0mprint\u001b[0m\u001b[0;34m(\u001b[0m\u001b[0mdata\u001b[0m\u001b[0;34m)\u001b[0m \u001b[0;31m# read vcf file\u001b[0m\u001b[0;34m\u001b[0m\u001b[0;34m\u001b[0m\u001b[0m\n",
      "\u001b[0;32m/var/folders/q4/72ybtynd5sjf5ppl_5vpsw080000gn/T/ipykernel_27265/59912765.py\u001b[0m in \u001b[0;36mread_vcf_file\u001b[0;34m(filename)\u001b[0m\n\u001b[1;32m    301\u001b[0m     \u001b[0mheaders\u001b[0m\u001b[0;34m[\u001b[0m\u001b[0;36m0\u001b[0m\u001b[0;34m]\u001b[0m \u001b[0;34m=\u001b[0m \u001b[0;34m\"CHROM\"\u001b[0m\u001b[0;34m\u001b[0m\u001b[0;34m\u001b[0m\u001b[0m\n\u001b[1;32m    302\u001b[0m     \u001b[0;32mfor\u001b[0m \u001b[0mi\u001b[0m \u001b[0;32min\u001b[0m \u001b[0mrange\u001b[0m\u001b[0;34m(\u001b[0m\u001b[0;36m1\u001b[0m\u001b[0;34m,\u001b[0m \u001b[0mlen\u001b[0m\u001b[0;34m(\u001b[0m\u001b[0mlist_of_lines\u001b[0m\u001b[0;34m)\u001b[0m\u001b[0;34m)\u001b[0m\u001b[0;34m:\u001b[0m\u001b[0;34m\u001b[0m\u001b[0;34m\u001b[0m\u001b[0m\n\u001b[0;32m--> 303\u001b[0;31m         \u001b[0mlist_of_dicts\u001b[0m\u001b[0;34m.\u001b[0m\u001b[0mappend\u001b[0m\u001b[0;34m(\u001b[0m\u001b[0mcreate_dict_from_line\u001b[0m\u001b[0;34m(\u001b[0m\u001b[0mheaders\u001b[0m\u001b[0;34m,\u001b[0m \u001b[0mlist_of_lines\u001b[0m\u001b[0;34m[\u001b[0m\u001b[0mi\u001b[0m\u001b[0;34m]\u001b[0m\u001b[0;34m)\u001b[0m\u001b[0;34m)\u001b[0m\u001b[0;34m\u001b[0m\u001b[0;34m\u001b[0m\u001b[0m\n\u001b[0m\u001b[1;32m    304\u001b[0m     \u001b[0;32mreturn\u001b[0m \u001b[0mlist_of_dicts\u001b[0m\u001b[0;34m\u001b[0m\u001b[0;34m\u001b[0m\u001b[0m\n\u001b[1;32m    305\u001b[0m \u001b[0;34m\u001b[0m\u001b[0m\n",
      "\u001b[0;32m/var/folders/q4/72ybtynd5sjf5ppl_5vpsw080000gn/T/ipykernel_27265/59912765.py\u001b[0m in \u001b[0;36mcreate_dict_from_line\u001b[0;34m(header, line)\u001b[0m\n\u001b[1;32m    272\u001b[0m     \u001b[0mfinal_ans_dict\u001b[0m \u001b[0;34m=\u001b[0m \u001b[0;34m{\u001b[0m\u001b[0;34m}\u001b[0m\u001b[0;34m\u001b[0m\u001b[0;34m\u001b[0m\u001b[0m\n\u001b[1;32m    273\u001b[0m     \u001b[0;32mfor\u001b[0m \u001b[0mi\u001b[0m \u001b[0;32min\u001b[0m \u001b[0mrange\u001b[0m\u001b[0;34m(\u001b[0m\u001b[0;36m8\u001b[0m\u001b[0;34m)\u001b[0m\u001b[0;34m:\u001b[0m\u001b[0;34m\u001b[0m\u001b[0;34m\u001b[0m\u001b[0m\n\u001b[0;32m--> 274\u001b[0;31m         \u001b[0mfinal_ans_dict\u001b[0m\u001b[0;34m[\u001b[0m\u001b[0mtemp_dict_keys\u001b[0m\u001b[0;34m[\u001b[0m\u001b[0mi\u001b[0m\u001b[0;34m]\u001b[0m\u001b[0;34m]\u001b[0m \u001b[0;34m=\u001b[0m \u001b[0mlist_of_lines\u001b[0m\u001b[0;34m[\u001b[0m\u001b[0mi\u001b[0m\u001b[0;34m]\u001b[0m\u001b[0;34m\u001b[0m\u001b[0;34m\u001b[0m\u001b[0m\n\u001b[0m\u001b[1;32m    275\u001b[0m         \u001b[0;32mif\u001b[0m \u001b[0mi\u001b[0m \u001b[0;34m==\u001b[0m \u001b[0;36m7\u001b[0m\u001b[0;34m:\u001b[0m\u001b[0;34m\u001b[0m\u001b[0;34m\u001b[0m\u001b[0m\n\u001b[1;32m    276\u001b[0m             final_ans_dict[\"SAMPLE\"] = format_sample_fields(\n",
      "\u001b[0;31mIndexError\u001b[0m: list index out of range"
     ]
    }
   ],
   "source": [
    "filename = 'mini_project1_data.vcf'\n",
    "data = read_vcf_file(filename) \n",
    "print(data) # read vcf file\n"
   ]
  },
  {
   "cell_type": "code",
   "execution_count": null,
   "metadata": {},
   "outputs": [
    {
     "data": {
      "text/plain": [
       "'adsfhjkl'"
      ]
     },
     "execution_count": 36,
     "metadata": {},
     "output_type": "execute_result"
    }
   ],
   "source": [
    "A = \"adsfhjkl\"\n",
    "A.strip(\"#\")"
   ]
  },
  {
   "cell_type": "code",
   "execution_count": 19,
   "metadata": {},
   "outputs": [],
   "source": [
    "def determine_data_type(value):\n",
    "\n",
    "    data_type = None\n",
    "    try:\n",
    "        int(value)\n",
    "        data_type = int\n",
    "        return data_type\n",
    "\n",
    "    except:\n",
    "        try:\n",
    "            float(value)\n",
    "            data_type = float\n",
    "            return data_type\n",
    "        except:\n",
    "            return str\n",
    "\n",
    "\n",
    "def determine_data_type_of_list(values):\n",
    "\n",
    "    list_data_type = []\n",
    "    for value in values:\n",
    "        if determine_data_type(value) == (str):\n",
    "            return str\n",
    "        if determine_data_type(value) not in list_data_type:\n",
    "            list_data_type.append(determine_data_type(value))\n",
    "    if float in list_data_type:\n",
    "        return float\n",
    "    if int in list_data_type:\n",
    "        return int\n",
    "\n",
    "\n",
    "def format_sample_fields(format_field, sample_field):\n",
    "\n",
    "    output = {}\n",
    "\n",
    "    dict_keys = sample_field.keys()\n",
    "    inner_keys = format_field.split(\":\")\n",
    "\n",
    "    for key in dict_keys:\n",
    "        key_key_value = sample_field[key].split(\":\")\n",
    "        temp_dict = {}\n",
    "        for i in range(len(key_key_value)):\n",
    "            temp_dict[inner_keys[i]] = key_key_value[i]\n",
    "        output[key] = temp_dict\n",
    "    return output\n",
    "\n",
    "\n",
    "def create_dict_from_line(header, line):\n",
    "\n",
    "    temp_dict = {}\n",
    "    list_of_lines = line.split(\"\\t\")\n",
    "\n",
    "    for key in header:\n",
    "        for i in range(len(list_of_lines)):\n",
    "            temp_dict[key] = list_of_lines[i]\n",
    "\n",
    "    temp_dict_keys = list(temp_dict.keys())\n",
    "\n",
    "    Dict_of_dict_of_everything_after_format = {}\n",
    "    for i in range(9, len(list_of_lines)):\n",
    "        Dict_of_dict_of_everything_after_format[temp_dict_keys[i]\n",
    "                                                ] = list_of_lines[i]\n",
    "\n",
    "    final_ans_dict = {}\n",
    "    for i in range(8):\n",
    "        final_ans_dict[temp_dict_keys[i]] = list_of_lines[i]\n",
    "        if i == 7:\n",
    "            final_ans_dict[\"SAMPLE\"] = format_sample_fields(\n",
    "                list_of_lines[i+1], Dict_of_dict_of_everything_after_format)\n",
    "\n",
    "    # ipdb.set_trace()\n",
    "    return final_ans_dict\n",
    "\n",
    "\n",
    "def read_vcf_file(filename):\n",
    "\n",
    "    with open(filename) as file:\n",
    "        list_of_lines = []\n",
    "        for line in file:\n",
    "            if not line.strip():\n",
    "                continue\n",
    "            new_line = line.strip(\"\\n\")\n",
    "            updated_line = new_line.strip(\"#\")\n",
    "            list_of_lines.append(updated_line)\n",
    "    list_of_dicts = []\n",
    "    headers = list_of_lines[0].split(\"\\t\")\n",
    "    headers[0] = \"CHROM\"\n",
    "    for i in range(1, len(list_of_lines)):\n",
    "        list_of_dicts.append(create_dict_from_line(headers, list_of_lines[i]))\n",
    "    return list_of_dicts\n",
    "\n",
    "\n",
    "def extract_info_field(data):\n",
    "\n",
    "    answer_list = []\n",
    "    for i in range(len(data)):\n",
    "        answer_list.append(data[i][\"INFO\"])\n",
    "    return answer_list\n",
    "\n",
    "\n",
    "def create_dictionary_of_info_field_values(data):\n",
    "    print(\"Entering our function\")\n",
    "    # BEGIN SOLUTION\n",
    "    dicto = {}\n",
    "    info_maal = (data)\n",
    "    ith_info_maal = []\n",
    "\n",
    "    for i in range(len(info_maal)):\n",
    "        ith_info_maal = (info_maal[i].split(\";\"))\n",
    "        for j in range(len(ith_info_maal)):\n",
    "            try:\n",
    "                key, value = ith_info_maal[j].split(\"=\", 1)\n",
    "                if value != \".\":\n",
    "                    if key not in dicto.keys():\n",
    "                        dicto[key] = [value]\n",
    "                    else:\n",
    "                        if value not in dicto[key]:\n",
    "                            dicto[key] += [value]\n",
    "            except:\n",
    "                continue\n",
    "    print(\"Exiting our function\")\n",
    "    return dicto\n",
    "\n",
    "\n",
    "def determine_data_type_of_info_fields(data):\n",
    "\n",
    "    # Let's make our keys handy\n",
    "    dict_keys = list(data.keys())\n",
    "\n",
    "    # Setting up the base for the cake\n",
    "    dict_data_types = {}\n",
    "    key_data_type = []\n",
    "\n",
    "    # Appending the data type of the corresponding key in our list \"key_data_type\"\"\n",
    "    for key in dict_keys:\n",
    "        key_data_type.append(determine_data_type_of_list(data[key]))\n",
    "\n",
    "    # Fetching the data type for the respective key from our \"key_data_type\" list and assigning it as the value for our final answer dictionay named \"dict_data_types\"'s key\n",
    "    for i in range(len(dict_keys)):\n",
    "        dict_data_types[dict_keys[i]] = key_data_type[i]\n",
    "\n",
    "    return dict_data_types\n",
    "\n",
    "\n",
    "def format_data(data, info_field_data_type):\n",
    "    final_answer_list_of_dicts = []\n",
    "\n",
    "    for dicto in data:\n",
    "\n",
    "        # Handling int and float scene\n",
    "        dicto[\"QUAL\"] = float(dicto[\"QUAL\"])\n",
    "        dicto[\"POS\"] = int(dicto[\"POS\"])\n",
    "\n",
    "        # Creating a dictionary from the list and reassigning it to the info field\n",
    "        dicto[\"INFO\"] = create_dictionary_of_info_field_values(dicto[\"INFO\"])\n",
    "\n",
    "\n",
    "        # Grabbing all the keys of value of INFO field.\n",
    "        dicto_info_keys = list(dicto[\"INFO\"].keys())\n",
    "\n",
    "        # Putting them in the data type according to the second input of the function that holds the data type for respective field for our INFO field\n",
    "        for key in dicto_info_keys:\n",
    "            convert_type = info_field_data_type[key]\n",
    "            dicto[\"INFO\"][key] = convert_type(dicto[\"INFO\"][key])\n",
    "\n",
    "        final_answer_list_of_dicts.append(dicto)\n",
    "    # ipdb.set_trace()\n",
    "\n",
    "    return final_answer_list_of_dicts\n",
    "\n",
    "    # END SOLUTION\n",
    "\n",
    "\n",
    "def save_data_as_json(data, filename):\n",
    "    \"\"\"\n",
    "    Write a function whose inputs are a Python dictionary and filename. \n",
    "    The function will saves the dictionary as a json file using the filename given. \n",
    "    Use the json library. \n",
    "    Use these options to correctly format your JSON -- \n",
    "    sort_keys=True, indent=4, separators=(',', ': '), ensure_ascii=False. \n",
    "    Use this function to save your parsed data as a json file.\n",
    "    \"\"\"\n",
    "    # BEGIN SOLUTION\n",
    "    import json\n",
    "\n",
    "    dict_to_json = json.dumps(\n",
    "        data, sort_keys=True, indent=4, separators=(',', ': '), ensure_ascii=False)\n",
    "\n",
    "    with open(filename, \"w\") as file:\n",
    "        file.write(dict_to_json)\n",
    "\n",
    "    # END SOLUTION\n",
    "\n",
    "\n",
    "def load_data_from_json(filename):\n",
    "    \"\"\"\n",
    "    Write a function whose input is a filename for a json file. \n",
    "    The function should use the filename to read the JSON file in \n",
    "    which you saved your final parsed data. \n",
    "    \"\"\"\n",
    "    # BEGIN SOLUTION\n",
    "    import json\n",
    "    reading_json = open(filename)\n",
    "    data = json.load(reading_json)\n",
    "    return data\n",
    "    # END SOLUTION\n",
    "\n",
    "\n",
    "def find_variant(CHROM, REF, ALT, POS, filename):\n",
    "    \"\"\"\n",
    "    Write a function whose inputs are CHROM, REF, ALT, POS, and filename. \n",
    "    Using these inputs, the function should load a JSON file using the given \n",
    "    filename and return a list of variants that match the given CHROM, REF, ALT, and POS. \n",
    "    \"\"\"\n",
    "    # BEGIN SOLUTION\n",
    "    # import ipdb\n",
    "    list_of_variants = []\n",
    "    maal = load_data_from_json(filename)\n",
    "    for variant in maal:\n",
    "        if variant[\"CHROM\"] == CHROM and variant[\"REF\"] == REF and variant[\"ALT\"] == ALT and variant[\"POS\"] == POS:\n",
    "            list_of_variants.append(variant)\n",
    "    # ipdb.set_trace()\n",
    "    return list_of_variants\n",
    "    print(\"CHROM\")\n",
    "    # END SOLUTION\n",
    "\n",
    "\n",
    "def pull_basic_and_predictor_fields(filename):\n",
    "    \"\"\"\n",
    "    Load mini_project1_data.json and pull out all the variants that have a \n",
    "    \"\"\"\n",
    "    # BEGIN SOLUTION\n",
    "    import json\n",
    "    maal = json.load(open(filename))\n",
    "\n",
    "    # END SOLUTION\n",
    "\n",
    "\n",
    "def pull_basic_and_predictor_fields_gzip(filename):\n",
    "    # BEGIN SOLUTION\n",
    "    pass\n",
    "    # END SOLUTION\n",
    "\n",
    "\n",
    "def return_all_non_zero_sum_predictor_values():\n",
    "    # BEGIN SOLUTION\n",
    "    pass\n",
    "    # END SOLUTION\n"
   ]
  },
  {
   "cell_type": "code",
   "execution_count": 20,
   "metadata": {},
   "outputs": [
    {
     "ename": "IndexError",
     "evalue": "list index out of range",
     "output_type": "error",
     "traceback": [
      "\u001b[0;31m---------------------------------------------------------------------------\u001b[0m",
      "\u001b[0;31mIndexError\u001b[0m                                Traceback (most recent call last)",
      "\u001b[0;32m/var/folders/q4/72ybtynd5sjf5ppl_5vpsw080000gn/T/ipykernel_62647/4268515030.py\u001b[0m in \u001b[0;36m<module>\u001b[0;34m\u001b[0m\n\u001b[1;32m      1\u001b[0m \u001b[0mfilename\u001b[0m \u001b[0;34m=\u001b[0m \u001b[0;34m'mini_project1_data.vcf'\u001b[0m\u001b[0;34m\u001b[0m\u001b[0;34m\u001b[0m\u001b[0m\n\u001b[0;32m----> 2\u001b[0;31m \u001b[0mdata\u001b[0m \u001b[0;34m=\u001b[0m \u001b[0mread_vcf_file\u001b[0m\u001b[0;34m(\u001b[0m\u001b[0mfilename\u001b[0m\u001b[0;34m)\u001b[0m\u001b[0;34m\u001b[0m\u001b[0;34m\u001b[0m\u001b[0m\n\u001b[0m\u001b[1;32m      3\u001b[0m \u001b[0mprint\u001b[0m\u001b[0;34m(\u001b[0m\u001b[0mdata\u001b[0m\u001b[0;34m)\u001b[0m \u001b[0;31m# read vcf file\u001b[0m\u001b[0;34m\u001b[0m\u001b[0;34m\u001b[0m\u001b[0m\n",
      "\u001b[0;32m/var/folders/q4/72ybtynd5sjf5ppl_5vpsw080000gn/T/ipykernel_62647/1782165116.py\u001b[0m in \u001b[0;36mread_vcf_file\u001b[0;34m(filename)\u001b[0m\n\u001b[1;32m     87\u001b[0m     \u001b[0mheaders\u001b[0m\u001b[0;34m[\u001b[0m\u001b[0;36m0\u001b[0m\u001b[0;34m]\u001b[0m \u001b[0;34m=\u001b[0m \u001b[0;34m\"CHROM\"\u001b[0m\u001b[0;34m\u001b[0m\u001b[0;34m\u001b[0m\u001b[0m\n\u001b[1;32m     88\u001b[0m     \u001b[0;32mfor\u001b[0m \u001b[0mi\u001b[0m \u001b[0;32min\u001b[0m \u001b[0mrange\u001b[0m\u001b[0;34m(\u001b[0m\u001b[0;36m1\u001b[0m\u001b[0;34m,\u001b[0m \u001b[0mlen\u001b[0m\u001b[0;34m(\u001b[0m\u001b[0mlist_of_lines\u001b[0m\u001b[0;34m)\u001b[0m\u001b[0;34m)\u001b[0m\u001b[0;34m:\u001b[0m\u001b[0;34m\u001b[0m\u001b[0;34m\u001b[0m\u001b[0m\n\u001b[0;32m---> 89\u001b[0;31m         \u001b[0mlist_of_dicts\u001b[0m\u001b[0;34m.\u001b[0m\u001b[0mappend\u001b[0m\u001b[0;34m(\u001b[0m\u001b[0mcreate_dict_from_line\u001b[0m\u001b[0;34m(\u001b[0m\u001b[0mheaders\u001b[0m\u001b[0;34m,\u001b[0m \u001b[0mlist_of_lines\u001b[0m\u001b[0;34m[\u001b[0m\u001b[0mi\u001b[0m\u001b[0;34m]\u001b[0m\u001b[0;34m)\u001b[0m\u001b[0;34m)\u001b[0m\u001b[0;34m\u001b[0m\u001b[0;34m\u001b[0m\u001b[0m\n\u001b[0m\u001b[1;32m     90\u001b[0m     \u001b[0;32mreturn\u001b[0m \u001b[0mlist_of_dicts\u001b[0m\u001b[0;34m\u001b[0m\u001b[0;34m\u001b[0m\u001b[0m\n\u001b[1;32m     91\u001b[0m \u001b[0;34m\u001b[0m\u001b[0m\n",
      "\u001b[0;32m/var/folders/q4/72ybtynd5sjf5ppl_5vpsw080000gn/T/ipykernel_62647/1782165116.py\u001b[0m in \u001b[0;36mcreate_dict_from_line\u001b[0;34m(header, line)\u001b[0m\n\u001b[1;32m     64\u001b[0m     \u001b[0mfinal_ans_dict\u001b[0m \u001b[0;34m=\u001b[0m \u001b[0;34m{\u001b[0m\u001b[0;34m}\u001b[0m\u001b[0;34m\u001b[0m\u001b[0;34m\u001b[0m\u001b[0m\n\u001b[1;32m     65\u001b[0m     \u001b[0;32mfor\u001b[0m \u001b[0mi\u001b[0m \u001b[0;32min\u001b[0m \u001b[0mrange\u001b[0m\u001b[0;34m(\u001b[0m\u001b[0;36m8\u001b[0m\u001b[0;34m)\u001b[0m\u001b[0;34m:\u001b[0m\u001b[0;34m\u001b[0m\u001b[0;34m\u001b[0m\u001b[0m\n\u001b[0;32m---> 66\u001b[0;31m         \u001b[0mfinal_ans_dict\u001b[0m\u001b[0;34m[\u001b[0m\u001b[0mtemp_dict_keys\u001b[0m\u001b[0;34m[\u001b[0m\u001b[0mi\u001b[0m\u001b[0;34m]\u001b[0m\u001b[0;34m]\u001b[0m \u001b[0;34m=\u001b[0m \u001b[0mlist_of_lines\u001b[0m\u001b[0;34m[\u001b[0m\u001b[0mi\u001b[0m\u001b[0;34m]\u001b[0m\u001b[0;34m\u001b[0m\u001b[0;34m\u001b[0m\u001b[0m\n\u001b[0m\u001b[1;32m     67\u001b[0m         \u001b[0;32mif\u001b[0m \u001b[0mi\u001b[0m \u001b[0;34m==\u001b[0m \u001b[0;36m7\u001b[0m\u001b[0;34m:\u001b[0m\u001b[0;34m\u001b[0m\u001b[0;34m\u001b[0m\u001b[0m\n\u001b[1;32m     68\u001b[0m             final_ans_dict[\"SAMPLE\"] = format_sample_fields(\n",
      "\u001b[0;31mIndexError\u001b[0m: list index out of range"
     ]
    }
   ],
   "source": [
    "filename = 'mini_project1_data.vcf'\n",
    "data = read_vcf_file(filename) \n",
    "print(data) # read vcf file"
   ]
  },
  {
   "cell_type": "code",
   "execution_count": null,
   "metadata": {},
   "outputs": [
    {
     "name": "stdout",
     "output_type": "stream",
     "text": [
      "hi\n"
     ]
    }
   ],
   "source": [
    "a = {1: 1, 2: 2 , 3: 3}\n",
    "if 4 not in a:\n",
    "    print(\"hi\")\n"
   ]
  },
  {
   "cell_type": "code",
   "execution_count": null,
   "metadata": {},
   "outputs": [
    {
     "data": {
      "text/plain": [
       "3"
      ]
     },
     "execution_count": 57,
     "metadata": {},
     "output_type": "execute_result"
    }
   ],
   "source": [
    "a = \"adfsdaa\"\n",
    "a.count(\"a\")"
   ]
  },
  {
   "cell_type": "code",
   "execution_count": null,
   "metadata": {},
   "outputs": [
    {
     "data": {
      "text/plain": [
       "0"
      ]
     },
     "execution_count": 58,
     "metadata": {},
     "output_type": "execute_result"
    }
   ],
   "source": [
    "a = []\n",
    "sum(a)"
   ]
  },
  {
   "cell_type": "code",
   "execution_count": null,
   "metadata": {},
   "outputs": [
    {
     "ename": "TypeError",
     "evalue": "'NoneType' object is not iterable",
     "output_type": "error",
     "traceback": [
      "\u001b[0;31m---------------------------------------------------------------------------\u001b[0m",
      "\u001b[0;31mTypeError\u001b[0m                                 Traceback (most recent call last)",
      "\u001b[0;32m/var/folders/q4/72ybtynd5sjf5ppl_5vpsw080000gn/T/ipykernel_27265/2074124468.py\u001b[0m in \u001b[0;36m<module>\u001b[0;34m\u001b[0m\n\u001b[0;32m----> 1\u001b[0;31m \u001b[0msum\u001b[0m\u001b[0;34m(\u001b[0m\u001b[0ma\u001b[0m\u001b[0;34m.\u001b[0m\u001b[0mappend\u001b[0m\u001b[0;34m(\u001b[0m\u001b[0;36m1\u001b[0m\u001b[0;34m)\u001b[0m\u001b[0;34m)\u001b[0m\u001b[0;34m\u001b[0m\u001b[0;34m\u001b[0m\u001b[0m\n\u001b[0m",
      "\u001b[0;31mTypeError\u001b[0m: 'NoneType' object is not iterable"
     ]
    }
   ],
   "source": [
    "sum(a.append(1))"
   ]
  },
  {
   "cell_type": "code",
   "execution_count": 38,
   "metadata": {},
   "outputs": [],
   "source": [
    "predictors = [\n",
    "    'FATHMM_pred',\n",
    "    'LRT_pred',\n",
    "    'MetaLR_pred',\n",
    "    'MetaSVM_pred',\n",
    "    'MutationAssessor_pred',\n",
    "    'MutationTaster_pred'\n",
    "    'PROVEAN_pred',\n",
    "    'Polyphen2_HDIV_pred',\n",
    "    'Polyphen2_HVAR_pred',\n",
    "    'SIFT_pred',\n",
    "    'fathmm-MKL_coding_pred'] "
   ]
  },
  {
   "cell_type": "code",
   "execution_count": 22,
   "metadata": {},
   "outputs": [],
   "source": [
    "import json\n",
    "filename = 'mini_project1_data.json'\n",
    "maal = json.load(open(filename))\n",
    "\n"
   ]
  },
  {
   "cell_type": "code",
   "execution_count": 64,
   "metadata": {},
   "outputs": [
    {
     "name": "stdout",
     "output_type": "stream",
     "text": [
      "0\n",
      "1\n",
      "1\n",
      "1\n",
      "1\n",
      "1\n",
      "1\n",
      "1\n",
      "_-_-_-_\n",
      "0\n",
      "0\n",
      "0\n",
      "0\n",
      "0\n",
      "0\n",
      "0\n",
      "0\n",
      "_-_-_-_\n",
      "0\n",
      "0\n",
      "0\n",
      "0\n",
      "0\n",
      "0\n",
      "0\n",
      "0\n",
      "_-_-_-_\n"
     ]
    },
    {
     "data": {
      "text/plain": [
       "{'FATHMM_pred': 'T',\n",
       " 'LRT_pred': 'D',\n",
       " 'MetaLR_pred': 'D',\n",
       " 'MetaSVM_pred': 'D',\n",
       " 'MutationAssessor_pred': 'H',\n",
       " 'Polyphen2_HDIV_pred': 'D',\n",
       " 'Polyphen2_HVAR_pred': 'D',\n",
       " 'SIFT_pred': 'D',\n",
       " 'CHROM': '7',\n",
       " 'POS': 87837848,\n",
       " 'REF': 'C',\n",
       " 'ALT': 'A',\n",
       " 'sum_predictor_values': 7}"
      ]
     },
     "execution_count": 64,
     "metadata": {},
     "output_type": "execute_result"
    }
   ],
   "source": [
    "int_val_dict = {\"FATHMM_pred\": {\"T\": 0,\n",
    "                 \"D\": 1},\n",
    "\n",
    "    \"LRT_pred\": {\"D\": 1,\n",
    "                 \"N\": 0,\n",
    "                 \"U\": 0},\n",
    "    \"MetaLR_pred\": {\"T\": 0,\n",
    "                    \"D\": 1},\n",
    "    \"MetaSVM_pred\": {\"T\": 0,\n",
    "                     \"D\": 1},\n",
    "\n",
    "    \"MutationAssessor_pred\": {\"H\": 1,\n",
    "                              \"N\": 0,\n",
    "                              \"L\": 0.25,\n",
    "                              \"M\": 0.5},\n",
    "    \"MutationTaster_pred\": {\"D\": 1,\n",
    "                            \"P\": 0,\n",
    "                            \"N\": 0,\n",
    "                            \"A\": 1},\n",
    "    \"PROVEAN_pred\":  {\"D\": 1,\n",
    "                      \"N\": 0},\n",
    "    \"Polyphen2_HDIV_pred\": {\"D\": 1,\n",
    "                            \"B\": 0,\n",
    "                            \"P\": 0.5},\n",
    "    \"Polyphen2_HVAR_pred\":    {\"D\": 1,\n",
    "                               \"B\": 0,\n",
    "                               \"P\": 0.5},\n",
    "\n",
    "    \"SIFT_pred\": {\"D\": 1,\n",
    "                  \"T\": 0},\n",
    "    \"fathmm_MKL_coding_pred\": {\"D\": 1,\n",
    "                               \"N\": 0}\n",
    "\n",
    " }\n",
    "predictors = [\n",
    "    'FATHMM_pred',\n",
    "    'LRT_pred',\n",
    "    'MetaLR_pred',\n",
    "    'MetaSVM_pred',\n",
    "    'MutationAssessor_pred',\n",
    "    'MutationTaster_pred'\n",
    "    'PROVEAN_pred',\n",
    "    'Polyphen2_HDIV_pred',\n",
    "    'Polyphen2_HVAR_pred',\n",
    "    'SIFT_pred',\n",
    "    'fathmm_MKL_coding_pred'] \n",
    "\n",
    "fml_list_dict = []\n",
    "full_final = []\n",
    "\n",
    "# Here we'll first grab dictionaires that have a value for our predictors \n",
    "for i in range(len(maal)):\n",
    "    if predictors[0] in maal[i][\"INFO\"].keys():\n",
    "        fml_list_dict.append(maal[i])\n",
    "\n",
    "# That we have a subset of our data we'll iterate through list of dictionaries that have non zero value for the predictor  \n",
    "for i in range(len(fml_list_dict)):\n",
    "\n",
    "    temp_dicto = {}\n",
    "    sum_predictor_values = 0 \n",
    "\n",
    "    for predictor in predictors:\n",
    "        if predictor in list(fml_list_dict[i][\"INFO\"].keys()):\n",
    "            temp_dicto[predictor] = fml_list_dict[i][\"INFO\"][predictor]\n",
    "            print(int_val_dict[predictor][fml_list_dict[i][\"INFO\"][predictor]])\n",
    "            sum_predictor_values += int_val_dict[predictor][temp_dicto[predictor]]\n",
    "    print(\"_-_-_-_\")\n",
    "    temp_dicto[\"CHROM\"] = fml_list_dict[i][\"CHROM\"]\n",
    "    temp_dicto[\"POS\"] = fml_list_dict[i][\"POS\"]\n",
    "    temp_dicto[\"REF\"] = fml_list_dict[i][\"REF\"]\n",
    "    temp_dicto[\"ALT\"] = fml_list_dict[i][\"ALT\"]\n",
    "    temp_dicto[\"sum_predictor_values\"] = sum_predictor_values     \n",
    "    full_final.append(temp_dicto)\n",
    "  \n",
    "        \n",
    "full_final[0]"
   ]
  },
  {
   "cell_type": "code",
   "execution_count": 61,
   "metadata": {},
   "outputs": [
    {
     "data": {
      "text/plain": [
       "dict_keys(['ALT', 'CHROM', 'FILTER', 'ID', 'INFO', 'POS', 'QUAL', 'REF', 'SAMPLE'])"
      ]
     },
     "execution_count": 61,
     "metadata": {},
     "output_type": "execute_result"
    }
   ],
   "source": [
    "fml_list_dict[0].keys()"
   ]
  },
  {
   "cell_type": "code",
   "execution_count": 59,
   "metadata": {},
   "outputs": [
    {
     "data": {
      "text/plain": [
       "{'FATHMM_pred': 'T',\n",
       " 'LRT_pred': 'D',\n",
       " 'MetaLR_pred': 'D',\n",
       " 'MetaSVM_pred': 'D',\n",
       " 'MutationAssessor_pred': 'H',\n",
       " 'MutationTaster_pred': 'D',\n",
       " 'PROVEAN_pred': 'D',\n",
       " 'Polyphen2_HDIV_pred': 'D',\n",
       " 'Polyphen2_HVAR_pred': 'D',\n",
       " 'SIFT_pred': 'D',\n",
       " 'sum_predictor_values': 9,\n",
       " 'CHROM': '7',\n",
       " 'POS': 87837848,\n",
       " 'REF': 'C',\n",
       " 'ALT': 'A'}"
      ]
     },
     "execution_count": 59,
     "metadata": {},
     "output_type": "execute_result"
    }
   ],
   "source": [
    "expected_result[0]"
   ]
  },
  {
   "cell_type": "code",
   "execution_count": null,
   "metadata": {},
   "outputs": [
    {
     "name": "stdout",
     "output_type": "stream",
     "text": [
      "24\n"
     ]
    },
    {
     "data": {
      "text/plain": [
       "{'FATHMM_pred': 'T',\n",
       " 'LRT_pred': 'N',\n",
       " 'MetaLR_pred': 'T',\n",
       " 'MetaSVM_pred': 'T',\n",
       " 'MutationAssessor_pred': 'N',\n",
       " 'Polyphen2_HDIV_pred': 'B',\n",
       " 'Polyphen2_HVAR_pred': 'B',\n",
       " 'SIFT_pred': 'T'}"
      ]
     },
     "execution_count": 75,
     "metadata": {},
     "output_type": "execute_result"
    }
   ],
   "source": [
    "trash = []\n",
    "temp_dicto = {}\n",
    "for i in range(len(maal)):\n",
    "    try:   \n",
    "        for predictor in predictors:\n",
    "            if (predictor in maal[i][\"INFO\"] and not maal[i][\"INFO\"][predictor] == \".\"):\n",
    "                temp_dicto[predictor] = maal[i][\"INFO\"][predictor]\n",
    "\n",
    "                trash.append(temp_dicto)\n",
    "    except: continue\n",
    "print(len(trash))\n",
    "trash[0]\n",
    "# for dict in trash:\n",
    "#     print(len(dict))"
   ]
  },
  {
   "cell_type": "code",
   "execution_count": null,
   "metadata": {},
   "outputs": [],
   "source": []
  },
  {
   "cell_type": "code",
   "execution_count": null,
   "metadata": {},
   "outputs": [
    {
     "ename": "NameError",
     "evalue": "name 'maal' is not defined",
     "output_type": "error",
     "traceback": [
      "\u001b[0;31m---------------------------------------------------------------------------\u001b[0m",
      "\u001b[0;31mNameError\u001b[0m                                 Traceback (most recent call last)",
      "\u001b[0;32m/var/folders/q4/72ybtynd5sjf5ppl_5vpsw080000gn/T/ipykernel_62051/316557228.py\u001b[0m in \u001b[0;36m<module>\u001b[0;34m\u001b[0m\n\u001b[1;32m     37\u001b[0m \u001b[0mtemp_dicto\u001b[0m \u001b[0;34m=\u001b[0m \u001b[0;34m{\u001b[0m\u001b[0;34m}\u001b[0m\u001b[0;34m\u001b[0m\u001b[0;34m\u001b[0m\u001b[0m\n\u001b[1;32m     38\u001b[0m \u001b[0mfinal_list_of_dicts\u001b[0m \u001b[0;34m=\u001b[0m \u001b[0;34m[\u001b[0m\u001b[0;34m]\u001b[0m\u001b[0;34m\u001b[0m\u001b[0;34m\u001b[0m\u001b[0m\n\u001b[0;32m---> 39\u001b[0;31m \u001b[0;32mfor\u001b[0m \u001b[0mi\u001b[0m \u001b[0;32min\u001b[0m \u001b[0mrange\u001b[0m\u001b[0;34m(\u001b[0m\u001b[0mlen\u001b[0m\u001b[0;34m(\u001b[0m\u001b[0mmaal\u001b[0m\u001b[0;34m)\u001b[0m\u001b[0;34m)\u001b[0m\u001b[0;34m:\u001b[0m\u001b[0;34m\u001b[0m\u001b[0;34m\u001b[0m\u001b[0m\n\u001b[0m\u001b[1;32m     40\u001b[0m     \u001b[0;32mfor\u001b[0m \u001b[0mpredictor\u001b[0m \u001b[0;32min\u001b[0m \u001b[0mpredictors\u001b[0m\u001b[0;34m:\u001b[0m\u001b[0;34m\u001b[0m\u001b[0;34m\u001b[0m\u001b[0m\n\u001b[1;32m     41\u001b[0m         \u001b[0;32mif\u001b[0m \u001b[0;34m(\u001b[0m\u001b[0mpredictor\u001b[0m \u001b[0;32min\u001b[0m \u001b[0mmaal\u001b[0m\u001b[0;34m[\u001b[0m\u001b[0mi\u001b[0m\u001b[0;34m]\u001b[0m\u001b[0;34m[\u001b[0m\u001b[0;34m\"INFO\"\u001b[0m\u001b[0;34m]\u001b[0m\u001b[0;34m)\u001b[0m\u001b[0;34m:\u001b[0m\u001b[0;34m\u001b[0m\u001b[0;34m\u001b[0m\u001b[0m\n",
      "\u001b[0;31mNameError\u001b[0m: name 'maal' is not defined"
     ]
    }
   ],
   "source": [
    "int_val_dict = {\"FATHMM_pred\": {\"T\": 0,\n",
    "                 \"D\": 1},\n",
    "\n",
    "    \"LRT_pred\": {\"D\": 1,\n",
    "                 \"N\": 0,\n",
    "                 \"U\": 0},\n",
    "    \"MetaLR_pred\": {\"T\": 0,\n",
    "                    \"D\": 1},\n",
    "    \"MetaSVM_pred\": {\"T\": 0,\n",
    "                     \"D\": 1},\n",
    "\n",
    "    \"MutationAssessor_pred\": {\"H\": 1,\n",
    "                              \"N\": 0,\n",
    "                              \"L\": 0.25,\n",
    "                              \"M\": 0.5},\n",
    "    \"MutationTaster_pred\": {\"D\": 1,\n",
    "                            \"P\": 0,\n",
    "                            \"N\": 0,\n",
    "                            \"A\": 1},\n",
    "    \"PROVEAN_pred\":  {\"D\": 1,\n",
    "                      \"N\": 0},\n",
    "    \"Polyphen2_HDIV_pred\": {\"D\": 1,\n",
    "                            \"B\": 0,\n",
    "                            \"P\": 0.5},\n",
    "    \"Polyphen2_HVAR_pred\":    {\"D\": 1,\n",
    "                               \"B\": 0,\n",
    "                               \"P\": 0.5},\n",
    "\n",
    "    \"SIFT_pred\": {\"D\": 1,\n",
    "                  \"T\": 0},\n",
    "    \"fathmm_MKL_coding_pred\": {\"D\": 1,\n",
    "                               \"N\": 0}\n",
    "\n",
    " }\n",
    "\n",
    "dump = []\n",
    "temp_dicto = {}\n",
    "final_list_of_dicts = []\n",
    "for i in range(len(maal)):\n",
    "    for predictor in predictors:\n",
    "        if (predictor in maal[i][\"INFO\"]):\n",
    "            temp_dicto[predictor] = maal[i][\"INFO\"][predictor]\n",
    "            print(maal[i][\"INFO\"][predictor])\n",
    "    temp_dicto[\"CHROM\"] = maal[i][\"CHROM\"]\n",
    "    temp_dicto[\"POS\"] = maal[i][\"POS\"]\n",
    "    temp_dicto[\"REF\"] = maal[i][\"REF\"]\n",
    "    temp_dicto[\"ALT\"] = maal[i][\"ALT\"]\n",
    "    final_list_of_dicts.append(temp_dicto)\n"
   ]
  },
  {
   "cell_type": "code",
   "execution_count": null,
   "metadata": {},
   "outputs": [
    {
     "ename": "NameError",
     "evalue": "name 'final_list_of_dicts' is not defined",
     "output_type": "error",
     "traceback": [
      "\u001b[0;31m---------------------------------------------------------------------------\u001b[0m",
      "\u001b[0;31mNameError\u001b[0m                                 Traceback (most recent call last)",
      "\u001b[0;32m/var/folders/q4/72ybtynd5sjf5ppl_5vpsw080000gn/T/ipykernel_62051/1813546852.py\u001b[0m in \u001b[0;36m<module>\u001b[0;34m\u001b[0m\n\u001b[0;32m----> 1\u001b[0;31m \u001b[0mfinal_list_of_dicts\u001b[0m\u001b[0;34m[\u001b[0m\u001b[0;36m0\u001b[0m\u001b[0;34m]\u001b[0m\u001b[0;34m\u001b[0m\u001b[0;34m\u001b[0m\u001b[0m\n\u001b[0m",
      "\u001b[0;31mNameError\u001b[0m: name 'final_list_of_dicts' is not defined"
     ]
    }
   ],
   "source": [
    "final_list_of_dicts[0]"
   ]
  },
  {
   "cell_type": "code",
   "execution_count": null,
   "metadata": {},
   "outputs": [
    {
     "data": {
      "text/plain": [
       "{'CHROM': '15',\n",
       " 'POS': 39262265,\n",
       " 'REF': 'A',\n",
       " 'ALT': 'G',\n",
       " 'LRT_pred': 'N',\n",
       " 'MetaLR_pred': 'T',\n",
       " 'MutationAssessor_pred': 'N',\n",
       " 'Polyphen2_HVAR_pred': 'B',\n",
       " 'SIFT_pred': 'T'}"
      ]
     },
     "execution_count": 46,
     "metadata": {},
     "output_type": "execute_result"
    }
   ],
   "source": [
    "final_list_of_dicts[1]"
   ]
  },
  {
   "cell_type": "code",
   "execution_count": 134,
   "metadata": {},
   "outputs": [
    {
     "data": {
      "text/plain": [
       "[[0], [1], [2], [3]]"
      ]
     },
     "execution_count": 134,
     "metadata": {},
     "output_type": "execute_result"
    }
   ],
   "source": [
    "hello = {\"a\":1}\n"
   ]
  },
  {
   "cell_type": "code",
   "execution_count": 30,
   "metadata": {},
   "outputs": [
    {
     "data": {
      "text/plain": [
       "['FATHMM_pred',\n",
       " 'LRT_pred',\n",
       " 'MetaLR_pred',\n",
       " 'MetaSVM_pred',\n",
       " 'MutationAssessor_pred',\n",
       " 'MutationTaster_pred',\n",
       " 'PROVEAN_pred',\n",
       " 'Polyphen2_HDIV_pred',\n",
       " 'Polyphen2_HVAR_pred',\n",
       " 'SIFT_pred',\n",
       " 'sum_predictor_values',\n",
       " 'CHROM',\n",
       " 'POS',\n",
       " 'REF',\n",
       " 'ALT']"
      ]
     },
     "execution_count": 30,
     "metadata": {},
     "output_type": "execute_result"
    }
   ],
   "source": [
    "expected_result = [\n",
    "            {\n",
    "                \"FATHMM_pred\": \"T\",\n",
    "                \"LRT_pred\": \"D\",\n",
    "                \"MetaLR_pred\": \"D\",\n",
    "                \"MetaSVM_pred\": \"D\",\n",
    "                \"MutationAssessor_pred\": \"H\",\n",
    "                \"MutationTaster_pred\": \"D\",\n",
    "                \"PROVEAN_pred\": \"D\",\n",
    "                \"Polyphen2_HDIV_pred\": \"D\",\n",
    "                \"Polyphen2_HVAR_pred\": \"D\",\n",
    "                \"SIFT_pred\": \"D\",\n",
    "                \"sum_predictor_values\": 9,\n",
    "                \"CHROM\": \"7\",\n",
    "                \"POS\": 87837848,\n",
    "                \"REF\": \"C\",\n",
    "                \"ALT\": \"A\"\n",
    "            }]\n",
    "key_list = list(expected_result[0].keys())\n",
    "key_list"
   ]
  },
  {
   "cell_type": "code",
   "execution_count": null,
   "metadata": {},
   "outputs": [
    {
     "data": {
      "text/plain": [
       "False"
      ]
     },
     "execution_count": 77,
     "metadata": {},
     "output_type": "execute_result"
    }
   ],
   "source": [
    "asd = ['FATHMM_pred',\n",
    " 'LRT_pred',\n",
    " 'MetaLR_pred',\n",
    " 'MetaSVM_pred',\n",
    " 'MutationAssessor_pred',\n",
    " 'MutationTaster_pred',\n",
    " 'PROVEAN_pred',\n",
    " 'Polyphen2_HDIV_pred',\n",
    " 'Polyphen2_HVAR_pred',\n",
    " 'SIFT_pred',\n",
    " 'sum_predictor_values',]\n",
    "predictors in asd"
   ]
  },
  {
   "cell_type": "code",
   "execution_count": 35,
   "metadata": {},
   "outputs": [
    {
     "data": {
      "text/plain": [
       "False"
      ]
     },
     "execution_count": 35,
     "metadata": {},
     "output_type": "execute_result"
    }
   ],
   "source": [
    "expected_result = [\n",
    "            {\n",
    "                \"FATHMM_pred\": \"T\",\n",
    "                \"LRT_pred\": \"D\",\n",
    "                \"MetaLR_pred\": \"D\",\n",
    "                \"MetaSVM_pred\": \"D\",\n",
    "                \"MutationAssessor_pred\": \"H\",\n",
    "                \"MutationTaster_pred\": \"D\",\n",
    "                \"PROVEAN_pred\": \"D\",\n",
    "                \"Polyphen2_HDIV_pred\": \"D\",\n",
    "                \"Polyphen2_HVAR_pred\": \"D\",\n",
    "                \"SIFT_pred\": \"D\",\n",
    "                \"sum_predictor_values\": 9,\n",
    "                \"CHROM\": \"7\",\n",
    "                \"POS\": 87837848,\n",
    "                \"REF\": \"C\",\n",
    "                \"ALT\": \"A\"\n",
    "            },\n",
    "            {\n",
    "                \"FATHMM_pred\": \"T\",\n",
    "                \"LRT_pred\": \"N\",\n",
    "                \"MetaLR_pred\": \"T\",\n",
    "                \"MetaSVM_pred\": \"T\",\n",
    "                \"MutationAssessor_pred\": \"N\",\n",
    "                \"MutationTaster_pred\": \"P\",\n",
    "                \"PROVEAN_pred\": \"N\",\n",
    "                \"Polyphen2_HDIV_pred\": \"B\",\n",
    "                \"Polyphen2_HVAR_pred\": \"B\",\n",
    "                \"SIFT_pred\": \"T\",\n",
    "                \"sum_predictor_values\": 0,\n",
    "                \"CHROM\": \"22\",\n",
    "                \"POS\": 50278568,\n",
    "                \"REF\": \"A\",\n",
    "                \"ALT\": \"G\"\n",
    "            },\n",
    "            {\n",
    "                \"FATHMM_pred\": \"T\",\n",
    "                \"LRT_pred\": \"N\",\n",
    "                \"MetaLR_pred\": \"T\",\n",
    "                \"MetaSVM_pred\": \"T\",\n",
    "                \"MutationAssessor_pred\": \"N\",\n",
    "                \"MutationTaster_pred\": \"N\",\n",
    "                \"PROVEAN_pred\": \"N\",\n",
    "                \"Polyphen2_HDIV_pred\": \"B\",\n",
    "                \"Polyphen2_HVAR_pred\": \"B\",\n",
    "                \"SIFT_pred\": \"T\",\n",
    "                \"sum_predictor_values\": 0,\n",
    "                \"CHROM\": \"2\",\n",
    "                \"POS\": 85843431,\n",
    "                \"REF\": \"C\",\n",
    "                \"ALT\": \"T\"\n",
    "            }\n",
    "        ]\n",
    "full_final == expected_result"
   ]
  },
  {
   "cell_type": "code",
   "execution_count": null,
   "metadata": {},
   "outputs": [
    {
     "data": {
      "text/plain": [
       "False"
      ]
     },
     "execution_count": 88,
     "metadata": {},
     "output_type": "execute_result"
    }
   ],
   "source": [
    "full_final[0] == expected_result[0]"
   ]
  },
  {
   "cell_type": "code",
   "execution_count": null,
   "metadata": {},
   "outputs": [
    {
     "data": {
      "text/plain": [
       "{'CHROM': '7',\n",
       " 'POS': 87837848,\n",
       " 'REF': 'C',\n",
       " 'ALT': 'A',\n",
       " 'FATHMM_pred': 'T',\n",
       " 'LRT_pred': 'D',\n",
       " 'MetaLR_pred': 'D',\n",
       " 'MetaSVM_pred': 'D',\n",
       " 'MutationAssessor_pred': 'H',\n",
       " 'Polyphen2_HDIV_pred': 'D',\n",
       " 'Polyphen2_HVAR_pred': 'D',\n",
       " 'SIFT_pred': 'D'}"
      ]
     },
     "execution_count": 89,
     "metadata": {},
     "output_type": "execute_result"
    }
   ],
   "source": [
    "full_final[0]"
   ]
  },
  {
   "cell_type": "code",
   "execution_count": null,
   "metadata": {},
   "outputs": [
    {
     "data": {
      "text/plain": [
       "{'FATHMM_pred': 'T',\n",
       " 'LRT_pred': 'D',\n",
       " 'MetaLR_pred': 'D',\n",
       " 'MetaSVM_pred': 'D',\n",
       " 'MutationAssessor_pred': 'H',\n",
       " 'MutationTaster_pred': 'D',\n",
       " 'PROVEAN_pred': 'D',\n",
       " 'Polyphen2_HDIV_pred': 'D',\n",
       " 'Polyphen2_HVAR_pred': 'D',\n",
       " 'SIFT_pred': 'D',\n",
       " 'sum_predictor_values': 9,\n",
       " 'CHROM': '7',\n",
       " 'POS': 87837848,\n",
       " 'REF': 'C',\n",
       " 'ALT': 'A'}"
      ]
     },
     "execution_count": 90,
     "metadata": {},
     "output_type": "execute_result"
    }
   ],
   "source": [
    "expected_result[0]"
   ]
  },
  {
   "cell_type": "code",
   "execution_count": null,
   "metadata": {},
   "outputs": [
    {
     "data": {
      "text/plain": [
       "{'FATHMM_pred': {'T': 0, 'D': 1},\n",
       " 'LRT_pred': {'D': 1, 'N': 0, 'U': 0},\n",
       " 'MetaLR_pred': {'T': 0, 'D': 1},\n",
       " 'MetaSVM_pred': {'T': 0, 'D': 1},\n",
       " 'MutationAssessor_pred': {'H': 1, 'N': 0, 'L': 0.25, 'M': 0.5},\n",
       " 'MutationTaster_pred': {'D': 1, 'P': 0, 'N': 0, 'A': 1},\n",
       " 'PROVEAN_pred': {'D': 1, 'N': 0},\n",
       " 'Polyphen2_HDIV_pred': {'D': 1, 'B': 0, 'P': 0.5},\n",
       " 'Polyphen2_HVAR_pred': {'D': 1, 'B': 0, 'P': 0.5},\n",
       " 'SIFT_pred': {'D': 1, 'T': 0},\n",
       " 'fathmm_MKL_coding_pred': {'D': 1, 'N': 0}}"
      ]
     },
     "execution_count": 2,
     "metadata": {},
     "output_type": "execute_result"
    }
   ],
   "source": [
    "{\"FATHMM_pred\": {\"T\": 0,\n",
    "                 \"D\": 1},\n",
    "\n",
    "    \"LRT_pred\": {\"D\": 1,\n",
    "                 \"N\": 0,\n",
    "                 \"U\": 0},\n",
    "    \"MetaLR_pred\": {\"T\": 0,\n",
    "                    \"D\": 1},\n",
    "    \"MetaSVM_pred\": {\"T\": 0,\n",
    "                     \"D\": 1},\n",
    "\n",
    "    \"MutationAssessor_pred\": {\"H\": 1,\n",
    "                              \"N\": 0,\n",
    "                              \"L\": 0.25,\n",
    "                              \"M\": 0.5},\n",
    "    \"MutationTaster_pred\": {\"D\": 1,\n",
    "                            \"P\": 0,\n",
    "                            \"N\": 0,\n",
    "                            \"A\": 1},\n",
    "    \"PROVEAN_pred\":  {\"D\": 1,\n",
    "                      \"N\": 0},\n",
    "    \"Polyphen2_HDIV_pred\": {\"D\": 1,\n",
    "                            \"B\": 0,\n",
    "                            \"P\": 0.5},\n",
    "    \"Polyphen2_HVAR_pred\":    {\"D\": 1,\n",
    "                               \"B\": 0,\n",
    "                               \"P\": 0.5},\n",
    "\n",
    "    \"SIFT_pred\": {\"D\": 1,\n",
    "                  \"T\": 0},\n",
    "    \"fathmm_MKL_coding_pred\": {\"D\": 1,\n",
    "                               \"N\": 0}\n",
    "\n",
    " }\n"
   ]
  },
  {
   "cell_type": "code",
   "execution_count": 127,
   "metadata": {},
   "outputs": [],
   "source": [
    "int_val_dict = {\"FATHMM_pred\": {\"T\": 0,\n",
    "                                \"D\": 1},\n",
    "\n",
    "                \"LRT_pred\": {\"D\": 1,\n",
    "                             \"N\": 0,\n",
    "                             \"U\": 0},\n",
    "                \"MetaLR_pred\": {\"T\": 0,\n",
    "                                \"D\": 1},\n",
    "                \"MetaSVM_pred\": {\"T\": 0,\n",
    "                                 \"D\": 1},\n",
    "\n",
    "                \"MutationAssessor_pred\": {\"H\": 1,\n",
    "                                          \"N\": 0,\n",
    "                                          \"L\": 0.25,\n",
    "                                          \"M\": 0.5},\n",
    "                \"MutationTaster_pred\": {\"D\": 1,\n",
    "                                        \"P\": 0,\n",
    "                                        \"N\": 0,\n",
    "                                        \"A\": 1},\n",
    "                \"PROVEAN_pred\":  {\"D\": 1,\n",
    "                                  \"N\": 0},\n",
    "                \"Polyphen2_HDIV_pred\": {\"D\": 1,\n",
    "                                        \"B\": 0,\n",
    "                                        \"P\": 0.5},\n",
    "                \"Polyphen2_HVAR_pred\":    {\"D\": 1,\n",
    "                                           \"B\": 0,\n",
    "                                           \"P\": 0.5},\n",
    "\n",
    "                \"SIFT_pred\": {\"D\": 1,\n",
    "                              \"T\": 0},\n",
    "                \"fathmm_MKL_coding_pred\": {\"D\": 1,\n",
    "                                           \"N\": 0}\n",
    "\n",
    "                }\n",
    "predictors = [\n",
    "    'FATHMM_pred',\n",
    "    'LRT_pred',\n",
    "    'MetaLR_pred',\n",
    "    'MetaSVM_pred',\n",
    "    'MutationAssessor_pred',\n",
    "    'MutationTaster_pred',\n",
    "    'PROVEAN_pred',\n",
    "    'Polyphen2_HDIV_pred',\n",
    "    'Polyphen2_HVAR_pred',\n",
    "    'SIFT_pred',\n",
    "    'fathmm_MKL_coding_pred']\n",
    "\n",
    "\n",
    "final_list_of_dicts = []\n",
    "fml_list_dict = []\n",
    "\n",
    "full_final = []\n",
    "for i in range(len(maal)):\n",
    "    if predictors[0] in maal[i][\"INFO\"].keys():\n",
    "        fml_list_dict.append(maal[i])\n",
    "\n",
    "for i in range(len(fml_list_dict)):\n",
    "    temp_dicto = {}\n",
    "\n",
    "    sum_predictor_values = 0\n",
    "    for predictor in predictors:\n",
    "        if predictor in list(fml_list_dict[i][\"INFO\"].keys()):\n",
    "            temp_dicto[predictor] = fml_list_dict[i][\"INFO\"][predictor]\n",
    "            sum_predictor_values += int_val_dict[predictor][temp_dicto[predictor]]\n",
    "    # for predictor in predictors:\n",
    "    #     sum_predictor_values = 0\n",
    "    #     if predictor in fml_list_dict[i][\"INFO\"].keys():\n",
    "    #         temp_dicto[predictor] = fml_list_dict[i][\"INFO\"][predictor]\n",
    "    #         sum_predictor_values += int_val_dict[predictor][fml_list_dict[i][\"INFO\"][predictor]]\n",
    "    temp_dicto[\"sum_predictor_values\"] = sum_predictor_values\n",
    "    temp_dicto[\"CHROM\"] = fml_list_dict[i][\"CHROM\"]\n",
    "    temp_dicto[\"POS\"] = fml_list_dict[i][\"POS\"]\n",
    "    temp_dicto[\"REF\"] = fml_list_dict[i][\"REF\"]\n",
    "    temp_dicto[\"ALT\"] = fml_list_dict[i][\"ALT\"]\n",
    "\n",
    "    full_final.append(temp_dicto)\n",
    "\n",
    "\n"
   ]
  },
  {
   "cell_type": "code",
   "execution_count": 128,
   "metadata": {},
   "outputs": [
    {
     "name": "stdout",
     "output_type": "stream",
     "text": [
      "15\n"
     ]
    },
    {
     "data": {
      "text/plain": [
       "{'FATHMM_pred': 'T',\n",
       " 'LRT_pred': 'D',\n",
       " 'MetaLR_pred': 'D',\n",
       " 'MetaSVM_pred': 'D',\n",
       " 'MutationAssessor_pred': 'H',\n",
       " 'MutationTaster_pred': 'D',\n",
       " 'PROVEAN_pred': 'D',\n",
       " 'Polyphen2_HDIV_pred': 'D',\n",
       " 'Polyphen2_HVAR_pred': 'D',\n",
       " 'SIFT_pred': 'D',\n",
       " 'sum_predictor_values': 9,\n",
       " 'CHROM': '7',\n",
       " 'POS': 87837848,\n",
       " 'REF': 'C',\n",
       " 'ALT': 'A'}"
      ]
     },
     "execution_count": 128,
     "metadata": {},
     "output_type": "execute_result"
    }
   ],
   "source": [
    "print(len(full_final[0]))\n",
    "full_final[0]"
   ]
  },
  {
   "cell_type": "code",
   "execution_count": 110,
   "metadata": {},
   "outputs": [
    {
     "name": "stdout",
     "output_type": "stream",
     "text": [
      "15\n"
     ]
    },
    {
     "data": {
      "text/plain": [
       "{'FATHMM_pred': 'T',\n",
       " 'LRT_pred': 'D',\n",
       " 'MetaLR_pred': 'D',\n",
       " 'MetaSVM_pred': 'D',\n",
       " 'MutationAssessor_pred': 'H',\n",
       " 'MutationTaster_pred': 'D',\n",
       " 'PROVEAN_pred': 'D',\n",
       " 'Polyphen2_HDIV_pred': 'D',\n",
       " 'Polyphen2_HVAR_pred': 'D',\n",
       " 'SIFT_pred': 'D',\n",
       " 'sum_predictor_values': 9,\n",
       " 'CHROM': '7',\n",
       " 'POS': 87837848,\n",
       " 'REF': 'C',\n",
       " 'ALT': 'A'}"
      ]
     },
     "execution_count": 110,
     "metadata": {},
     "output_type": "execute_result"
    }
   ],
   "source": [
    "print(len(expected_result[0]))\n",
    "expected_result[0]"
   ]
  },
  {
   "cell_type": "code",
   "execution_count": 129,
   "metadata": {},
   "outputs": [
    {
     "data": {
      "text/plain": [
       "True"
      ]
     },
     "execution_count": 129,
     "metadata": {},
     "output_type": "execute_result"
    }
   ],
   "source": [
    "full_final == expected_result"
   ]
  },
  {
   "cell_type": "code",
   "execution_count": 130,
   "metadata": {},
   "outputs": [],
   "source": [
    "hello = {\"key1\": 1}\n",
    "hello[\"key2\"] = 2"
   ]
  },
  {
   "cell_type": "code",
   "execution_count": 131,
   "metadata": {},
   "outputs": [
    {
     "data": {
      "text/plain": [
       "{'key1': 1, 'key2': 2}"
      ]
     },
     "execution_count": 131,
     "metadata": {},
     "output_type": "execute_result"
    }
   ],
   "source": [
    "hello"
   ]
  },
  {
   "cell_type": "code",
   "execution_count": null,
   "metadata": {},
   "outputs": [],
   "source": [
    "a = [1,2,3,]"
   ]
  }
 ],
 "metadata": {
  "kernelspec": {
   "display_name": "Python 3.9.12 ('base')",
   "language": "python",
   "name": "python3"
  },
  "language_info": {
   "codemirror_mode": {
    "name": "ipython",
    "version": 3
   },
   "file_extension": ".py",
   "mimetype": "text/x-python",
   "name": "python",
   "nbconvert_exporter": "python",
   "pygments_lexer": "ipython3",
   "version": "3.9.12"
  },
  "orig_nbformat": 4,
  "vscode": {
   "interpreter": {
    "hash": "cd78fef2128015050713e82ca51c6520b11aee7c9ee8df750520bbbc7384cbaa"
   }
  }
 },
 "nbformat": 4,
 "nbformat_minor": 2
}
