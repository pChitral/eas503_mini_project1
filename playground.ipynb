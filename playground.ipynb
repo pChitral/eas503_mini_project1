{
 "cells": [
  {
   "cell_type": "code",
   "execution_count": 21,
   "metadata": {},
   "outputs": [],
   "source": [
    "def tell_which_type(string):\n",
    "    data_type = None \n",
    "    try:\n",
    "        int(string)\n",
    "        data_type = int\n",
    "        return data_type\n",
    "            \n",
    "    except:\n",
    "        try: \n",
    "            float(string)\n",
    "            data_type = float\n",
    "            return data_type\n",
    "        except:\n",
    "            return str\n",
    "\n",
    "        \n",
    "    \n",
    "    "
   ]
  },
  {
   "cell_type": "code",
   "execution_count": 25,
   "metadata": {},
   "outputs": [
    {
     "data": {
      "text/plain": [
       "float"
      ]
     },
     "execution_count": 25,
     "metadata": {},
     "output_type": "execute_result"
    }
   ],
   "source": [
    "a = tell_which_type(\"2.0\")\n",
    "a"
   ]
  },
  {
   "cell_type": "code",
   "execution_count": 32,
   "metadata": {},
   "outputs": [],
   "source": [
    "def determine_data_type(value):\n",
    "    \"\"\"\n",
    "    The function takes a string input and determines its data type to be either a float, int, or string. \n",
    "    \"\"\"\n",
    "    # BEGIN SOLUTION\n",
    "    data_type = None\n",
    "    try:\n",
    "        int(value)\n",
    "        data_type = int\n",
    "        return data_type\n",
    "\n",
    "    except:\n",
    "        try:\n",
    "            float(value)\n",
    "            data_type = float\n",
    "            return data_type\n",
    "        except:\n",
    "            return str\n",
    "    # END SOLUTION\n",
    "\n",
    "\n",
    "def determine_data_type_of_list(values):\n",
    "    \"\"\"\n",
    "    Write a function whose input is a list of strings. \n",
    "    This function determines the correct data type of all the elements in the list. \n",
    "    For example, ['1', '2', '3'] is int, ['1.1', '2.2', '3.3'] is float, ['1.1', '2', '3.3'] \n",
    "    is also float, and ['1.1', '234String', '3.3'] is str. \n",
    "    The purpose of this function to figure out what to cast an array of strings to. \n",
    "    Some lists might be all ints, in which case the data type is int. \n",
    "    Some might be a mixture of ints and floats, in which case the data type will be a float. \n",
    "    Some lists might be a mixture of ints, floats, and strings, \n",
    "    in which case the data type of the list will be a string.\n",
    "    NOTE: This function should use \"determine_data_type\" function you coded previously\n",
    "    \n",
    "\n",
    "    \"\"\"\n",
    "    # BEGIN SOLUTION\n",
    "    list_data_type = [None]\n",
    "    for i in range(len(values)):\n",
    "        if determine_data_type_of_list(values[i]) in (str):\n",
    "            return str\n",
    "        if determine_data_type_of_list(values[i]) not in list_data_type:\n",
    "            list_data_type.append(determine_data_type(values[i]))\n",
    "    if float in list_data_type:\n",
    "        return float\n",
    "    if int in list_data_type:\n",
    "        return int\n",
    "\n",
    "    # END SOLUTION"
   ]
  },
  {
   "cell_type": "code",
   "execution_count": 33,
   "metadata": {},
   "outputs": [
    {
     "ename": "RecursionError",
     "evalue": "maximum recursion depth exceeded while calling a Python object",
     "output_type": "error",
     "traceback": [
      "\u001b[0;31m---------------------------------------------------------------------------\u001b[0m",
      "\u001b[0;31mRecursionError\u001b[0m                            Traceback (most recent call last)",
      "\u001b[1;32m/Users/chitralpatil/Documents/Zia/mini_project1/playground.ipynb Cell 4\u001b[0m in \u001b[0;36m<cell line: 1>\u001b[0;34m()\u001b[0m\n\u001b[0;32m----> <a href='vscode-notebook-cell:/Users/chitralpatil/Documents/Zia/mini_project1/playground.ipynb#W6sZmlsZQ%3D%3D?line=0'>1</a>\u001b[0m determine_data_type_of_list([\u001b[39m\"\u001b[39;49m\u001b[39m1.0\u001b[39;49m\u001b[39m\"\u001b[39;49m, \u001b[39m\"\u001b[39;49m\u001b[39m1\u001b[39;49m\u001b[39m\"\u001b[39;49m, \u001b[39m\"\u001b[39;49m\u001b[39masdf2.0\u001b[39;49m\u001b[39m\"\u001b[39;49m])\n",
      "\u001b[1;32m/Users/chitralpatil/Documents/Zia/mini_project1/playground.ipynb Cell 4\u001b[0m in \u001b[0;36mdetermine_data_type_of_list\u001b[0;34m(values)\u001b[0m\n\u001b[1;32m     <a href='vscode-notebook-cell:/Users/chitralpatil/Documents/Zia/mini_project1/playground.ipynb#W6sZmlsZQ%3D%3D?line=37'>38</a>\u001b[0m list_data_type \u001b[39m=\u001b[39m [\u001b[39mNone\u001b[39;00m]\n\u001b[1;32m     <a href='vscode-notebook-cell:/Users/chitralpatil/Documents/Zia/mini_project1/playground.ipynb#W6sZmlsZQ%3D%3D?line=38'>39</a>\u001b[0m \u001b[39mfor\u001b[39;00m i \u001b[39min\u001b[39;00m \u001b[39mrange\u001b[39m(\u001b[39mlen\u001b[39m(values)):\n\u001b[0;32m---> <a href='vscode-notebook-cell:/Users/chitralpatil/Documents/Zia/mini_project1/playground.ipynb#W6sZmlsZQ%3D%3D?line=39'>40</a>\u001b[0m     \u001b[39mif\u001b[39;00m determine_data_type_of_list(values[i]) \u001b[39min\u001b[39;00m (\u001b[39mstr\u001b[39m):\n\u001b[1;32m     <a href='vscode-notebook-cell:/Users/chitralpatil/Documents/Zia/mini_project1/playground.ipynb#W6sZmlsZQ%3D%3D?line=40'>41</a>\u001b[0m         \u001b[39mreturn\u001b[39;00m \u001b[39mstr\u001b[39m\n\u001b[1;32m     <a href='vscode-notebook-cell:/Users/chitralpatil/Documents/Zia/mini_project1/playground.ipynb#W6sZmlsZQ%3D%3D?line=41'>42</a>\u001b[0m     \u001b[39mif\u001b[39;00m determine_data_type_of_list(values[i]) \u001b[39mnot\u001b[39;00m \u001b[39min\u001b[39;00m list_data_type:\n",
      "\u001b[1;32m/Users/chitralpatil/Documents/Zia/mini_project1/playground.ipynb Cell 4\u001b[0m in \u001b[0;36mdetermine_data_type_of_list\u001b[0;34m(values)\u001b[0m\n\u001b[1;32m     <a href='vscode-notebook-cell:/Users/chitralpatil/Documents/Zia/mini_project1/playground.ipynb#W6sZmlsZQ%3D%3D?line=37'>38</a>\u001b[0m list_data_type \u001b[39m=\u001b[39m [\u001b[39mNone\u001b[39;00m]\n\u001b[1;32m     <a href='vscode-notebook-cell:/Users/chitralpatil/Documents/Zia/mini_project1/playground.ipynb#W6sZmlsZQ%3D%3D?line=38'>39</a>\u001b[0m \u001b[39mfor\u001b[39;00m i \u001b[39min\u001b[39;00m \u001b[39mrange\u001b[39m(\u001b[39mlen\u001b[39m(values)):\n\u001b[0;32m---> <a href='vscode-notebook-cell:/Users/chitralpatil/Documents/Zia/mini_project1/playground.ipynb#W6sZmlsZQ%3D%3D?line=39'>40</a>\u001b[0m     \u001b[39mif\u001b[39;00m determine_data_type_of_list(values[i]) \u001b[39min\u001b[39;00m (\u001b[39mstr\u001b[39m):\n\u001b[1;32m     <a href='vscode-notebook-cell:/Users/chitralpatil/Documents/Zia/mini_project1/playground.ipynb#W6sZmlsZQ%3D%3D?line=40'>41</a>\u001b[0m         \u001b[39mreturn\u001b[39;00m \u001b[39mstr\u001b[39m\n\u001b[1;32m     <a href='vscode-notebook-cell:/Users/chitralpatil/Documents/Zia/mini_project1/playground.ipynb#W6sZmlsZQ%3D%3D?line=41'>42</a>\u001b[0m     \u001b[39mif\u001b[39;00m determine_data_type_of_list(values[i]) \u001b[39mnot\u001b[39;00m \u001b[39min\u001b[39;00m list_data_type:\n",
      "    \u001b[0;31m[... skipping similar frames: determine_data_type_of_list at line 40 (2969 times)]\u001b[0m\n",
      "\u001b[1;32m/Users/chitralpatil/Documents/Zia/mini_project1/playground.ipynb Cell 4\u001b[0m in \u001b[0;36mdetermine_data_type_of_list\u001b[0;34m(values)\u001b[0m\n\u001b[1;32m     <a href='vscode-notebook-cell:/Users/chitralpatil/Documents/Zia/mini_project1/playground.ipynb#W6sZmlsZQ%3D%3D?line=37'>38</a>\u001b[0m list_data_type \u001b[39m=\u001b[39m [\u001b[39mNone\u001b[39;00m]\n\u001b[1;32m     <a href='vscode-notebook-cell:/Users/chitralpatil/Documents/Zia/mini_project1/playground.ipynb#W6sZmlsZQ%3D%3D?line=38'>39</a>\u001b[0m \u001b[39mfor\u001b[39;00m i \u001b[39min\u001b[39;00m \u001b[39mrange\u001b[39m(\u001b[39mlen\u001b[39m(values)):\n\u001b[0;32m---> <a href='vscode-notebook-cell:/Users/chitralpatil/Documents/Zia/mini_project1/playground.ipynb#W6sZmlsZQ%3D%3D?line=39'>40</a>\u001b[0m     \u001b[39mif\u001b[39;00m determine_data_type_of_list(values[i]) \u001b[39min\u001b[39;00m (\u001b[39mstr\u001b[39m):\n\u001b[1;32m     <a href='vscode-notebook-cell:/Users/chitralpatil/Documents/Zia/mini_project1/playground.ipynb#W6sZmlsZQ%3D%3D?line=40'>41</a>\u001b[0m         \u001b[39mreturn\u001b[39;00m \u001b[39mstr\u001b[39m\n\u001b[1;32m     <a href='vscode-notebook-cell:/Users/chitralpatil/Documents/Zia/mini_project1/playground.ipynb#W6sZmlsZQ%3D%3D?line=41'>42</a>\u001b[0m     \u001b[39mif\u001b[39;00m determine_data_type_of_list(values[i]) \u001b[39mnot\u001b[39;00m \u001b[39min\u001b[39;00m list_data_type:\n",
      "\u001b[1;32m/Users/chitralpatil/Documents/Zia/mini_project1/playground.ipynb Cell 4\u001b[0m in \u001b[0;36mdetermine_data_type_of_list\u001b[0;34m(values)\u001b[0m\n\u001b[1;32m     <a href='vscode-notebook-cell:/Users/chitralpatil/Documents/Zia/mini_project1/playground.ipynb#W6sZmlsZQ%3D%3D?line=36'>37</a>\u001b[0m \u001b[39m# BEGIN SOLUTION\u001b[39;00m\n\u001b[1;32m     <a href='vscode-notebook-cell:/Users/chitralpatil/Documents/Zia/mini_project1/playground.ipynb#W6sZmlsZQ%3D%3D?line=37'>38</a>\u001b[0m list_data_type \u001b[39m=\u001b[39m [\u001b[39mNone\u001b[39;00m]\n\u001b[0;32m---> <a href='vscode-notebook-cell:/Users/chitralpatil/Documents/Zia/mini_project1/playground.ipynb#W6sZmlsZQ%3D%3D?line=38'>39</a>\u001b[0m \u001b[39mfor\u001b[39;00m i \u001b[39min\u001b[39;00m \u001b[39mrange\u001b[39m(\u001b[39mlen\u001b[39;49m(values)):\n\u001b[1;32m     <a href='vscode-notebook-cell:/Users/chitralpatil/Documents/Zia/mini_project1/playground.ipynb#W6sZmlsZQ%3D%3D?line=39'>40</a>\u001b[0m     \u001b[39mif\u001b[39;00m determine_data_type_of_list(values[i]) \u001b[39min\u001b[39;00m (\u001b[39mstr\u001b[39m):\n\u001b[1;32m     <a href='vscode-notebook-cell:/Users/chitralpatil/Documents/Zia/mini_project1/playground.ipynb#W6sZmlsZQ%3D%3D?line=40'>41</a>\u001b[0m         \u001b[39mreturn\u001b[39;00m \u001b[39mstr\u001b[39m\n",
      "\u001b[0;31mRecursionError\u001b[0m: maximum recursion depth exceeded while calling a Python object"
     ]
    }
   ],
   "source": [
    "determine_data_type_of_list([\"1.0\", \"1\", \"asdf2.0\"])"
   ]
  },
  {
   "cell_type": "code",
   "execution_count": null,
   "metadata": {},
   "outputs": [],
   "source": []
  }
 ],
 "metadata": {
  "kernelspec": {
   "display_name": "Python 3.9.12 ('base')",
   "language": "python",
   "name": "python3"
  },
  "language_info": {
   "codemirror_mode": {
    "name": "ipython",
    "version": 3
   },
   "file_extension": ".py",
   "mimetype": "text/x-python",
   "name": "python",
   "nbconvert_exporter": "python",
   "pygments_lexer": "ipython3",
   "version": "3.9.12"
  },
  "orig_nbformat": 4,
  "vscode": {
   "interpreter": {
    "hash": "cd78fef2128015050713e82ca51c6520b11aee7c9ee8df750520bbbc7384cbaa"
   }
  }
 },
 "nbformat": 4,
 "nbformat_minor": 2
}
